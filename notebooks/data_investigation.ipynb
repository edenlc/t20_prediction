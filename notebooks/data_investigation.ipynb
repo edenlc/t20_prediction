{
 "cells": [
  {
   "cell_type": "markdown",
   "metadata": {},
   "source": [
    "# Initial Investigation\n",
    "\n",
    "This notebook contians my code to process the data from json files into a pandas-friendly csv formats.\n",
    "\n",
    "I started by loading a single match and inspecting the structure of the data. After I had gotten that into a format I was happy with, I continued to process all remaining matches."
   ]
  },
  {
   "cell_type": "code",
   "execution_count": 1,
   "metadata": {},
   "outputs": [],
   "source": [
    "import pandas as pd\n",
    "import numpy as np\n",
    "from uuid import uuid4\n",
    "import os\n",
    "import json\n",
    "import sys"
   ]
  },
  {
   "cell_type": "code",
   "execution_count": 2,
   "metadata": {},
   "outputs": [],
   "source": [
    "sample_match_path = '../data/t20s_json/211028.json'\n",
    "with open(sample_match_path, 'r') as f:\n",
    "    data = json.load(f)\n",
    "    \n",
    "meta = data['meta']\n",
    "info = data['info']\n",
    "innings = data['innings']"
   ]
  },
  {
   "cell_type": "code",
   "execution_count": null,
   "metadata": {},
   "outputs": [],
   "source": [
    "print(f\"meta: {meta}\")\n",
    "print(f\"info: {info}\")"
   ]
  },
  {
   "cell_type": "code",
   "execution_count": null,
   "metadata": {},
   "outputs": [],
   "source": [
    "len(innings)"
   ]
  },
  {
   "cell_type": "code",
   "execution_count": null,
   "metadata": {},
   "outputs": [],
   "source": [
    "innings[0].keys()"
   ]
  },
  {
   "cell_type": "code",
   "execution_count": null,
   "metadata": {},
   "outputs": [],
   "source": [
    "innings[1].keys()"
   ]
  },
  {
   "cell_type": "code",
   "execution_count": null,
   "metadata": {},
   "outputs": [],
   "source": [
    "df = pd.DataFrame(innings[0]['overs'])\n",
    "df"
   ]
  },
  {
   "cell_type": "code",
   "execution_count": null,
   "metadata": {},
   "outputs": [],
   "source": [
    "innings[0]['overs'][0]['deliveries'][0]"
   ]
  },
  {
   "cell_type": "code",
   "execution_count": 9,
   "metadata": {},
   "outputs": [],
   "source": [
    "df_row = {\n",
    "    # Match identifiers\n",
    "    'game_id': None,\n",
    "    'date': None,\n",
    "    'venue': None,\n",
    "    'location': None,\n",
    "    'gender': None,\n",
    "    'match_type': None,\n",
    "    'innings': None,  # 1st or 2nd innings\n",
    "    \n",
    "    # Team info\n",
    "    'batting_team': None,\n",
    "    'bowling_team': None,\n",
    "    'batting_team_players': None,\n",
    "    'bowling_team_players': None,\n",
    "    \n",
    "    # Over/Ball info\n",
    "    'over': None,\n",
    "    'ball_in_over': None,  # 1-6\n",
    "    \n",
    "    # Players\n",
    "    'batter': None,\n",
    "    'bowler': None,\n",
    "    'non_striker': None,\n",
    "    \n",
    "    # Runs breakdown\n",
    "    'runs_batter': None,    # Runs scored by batter\n",
    "    'extras': None,         # Extra runs\n",
    "    'total': None,          # Total runs for delivery\n",
    "    \n",
    "    # Extra details\n",
    "    'is_wicket': False,     # Boolean\n",
    "    'wicket_type': None,    # caught/bowled/lbw etc\n",
    "    'fielder': None,        # If caught/run-out\n",
    "    \n",
    "    # Target (for 2nd innings)\n",
    "    'target_runs': None,\n",
    "    'target_overs': None,\n",
    "    \n",
    "    # Match situation\n",
    "    'current_runs': None,  # Team score before this ball\n",
    "    'current_wickets': None,       # Wickets fallen before this ball\n",
    "    'powerplay': False,     # Boolean - is it powerplay?\n",
    "    'extras_details': None,\n",
    "}\n"
   ]
  },
  {
   "cell_type": "code",
   "execution_count": 10,
   "metadata": {},
   "outputs": [],
   "source": [
    "def process_match(data):\n",
    "    match_df = pd.DataFrame(columns=df_row.keys())\n",
    "\n",
    "    meta = data['meta']\n",
    "    info = data['info']\n",
    "    all_innings = data['innings']\n",
    "#-----------------------------------------\n",
    "    game_id = uuid4()\n",
    "    date = info['dates'][0]\n",
    "    venue =  info['venue']\n",
    "    location = info['city'] if 'city' in info else None # Some matches don't have a city but keeping it may be userful later\n",
    "    gender = info['gender']\n",
    "    match_type = info['match_type']\n",
    "    innings = None\n",
    "    teams = info['teams']\n",
    "#-----------------------------------------\n",
    "    innings_count = 0\n",
    "    for inning in all_innings:\n",
    "        innings_count += 1\n",
    "        runs_this_innings = 0\n",
    "        wickets_this_innings = 0\n",
    "\n",
    "        batting_team = inning['team']\n",
    "        bowling_team = list(set(teams) - {batting_team})[0]\n",
    "\n",
    "        batting_team_players = info['players'][batting_team]\n",
    "        batting_team_players_ids = [info['registry']['people'][player] for player in batting_team_players]\n",
    "        bowling_team_players = info['players'][bowling_team]\n",
    "        bowling_team_players_ids = [info['registry']['people'][player] for player in bowling_team_players]\n",
    "        \n",
    "        # While I am only looking at t20 matches, I'd like to keep it more flexible for other match formats\n",
    "        powerplay_info = inning['powerplays']\n",
    "        powerplay_start = str(powerplay_info[0]['from']).split('.')\n",
    "        powerplay_end = str(powerplay_info[0]['to']).split('.')\n",
    "\n",
    "        if 'target' in inning:\n",
    "            target_runs = inning['target']['runs']\n",
    "            target_overs = inning['target']['overs']\n",
    "        else:\n",
    "            target_runs = None\n",
    "            target_overs = None\n",
    "\n",
    "        for over in inning['overs']:\n",
    "            over_num = over['over']\n",
    "            delivery_count = 0\n",
    "            for delivery in over['deliveries']:\n",
    "                delivery_count += 1\n",
    "\n",
    "                powerplay = True if over_num >= int(powerplay_start[0]) and over_num <= int(powerplay_end[0]) and delivery_count >= int(powerplay_start[1]) and delivery_count <= int(powerplay_end[1]) else False\n",
    "\n",
    "                batter = info['registry']['people'][delivery['batter']]\n",
    "                bowler = info['registry']['people'][delivery['bowler']]\n",
    "                non_striker = info['registry']['people'][delivery['non_striker']]\n",
    "\n",
    "                runs_batter = delivery['runs']['batter']\n",
    "                extras = delivery['runs']['extras']\n",
    "                total = delivery['runs']['total']\n",
    "                runs_this_innings += total\n",
    "\n",
    "                if 'wickets' in delivery:\n",
    "                    wickets_this_innings += 1\n",
    "                    is_wicket = True\n",
    "                    wicket_type = delivery['wickets'][0]['kind']\n",
    "                    player_out = info['registry']['people'][delivery['wickets'][0]['player_out']]\n",
    "                    if 'fielders' in delivery['wickets'][0]:\n",
    "                        fielder = info['registry']['people'][delivery['wickets'][0]['fielders'][0]]\n",
    "                    else:\n",
    "                        fielder = None\n",
    "                else:\n",
    "                    is_wicket = False\n",
    "                    wicket_type = None\n",
    "                    player_out = None\n",
    "                    fielder = None\n",
    "\n",
    "                over_row = {\n",
    "                    'game_id': game_id,\n",
    "                    'date': date,\n",
    "                    'venue': venue,\n",
    "                    'location': location,\n",
    "                    'gender': gender,\n",
    "                    'match_type': match_type,\n",
    "                    'innings': innings_count,\n",
    "                    \n",
    "                    'batting_team': batting_team,\n",
    "                    'bowling_team': bowling_team,\n",
    "                    'batting_team_players': batting_team_players_ids,\n",
    "                    'bowling_team_players': bowling_team_players_ids,\n",
    "                    \n",
    "                    'over': over_num,\n",
    "                    'ball_in_over': delivery_count,\n",
    "                    \n",
    "                    'batter': batter,\n",
    "                    'bowler': bowler,\n",
    "                    'non_striker': non_striker,\n",
    "                    \n",
    "                    'runs_batter': runs_batter,\n",
    "                    'extras': extras,\n",
    "                    'total': total,\n",
    "                    \n",
    "                    'is_wicket': is_wicket,\n",
    "                    'wicket_type': wicket_type,\n",
    "                    'fielder': fielder,\n",
    "                    'player_out': player_out,\n",
    "                    \n",
    "                    'target_runs': target_runs,\n",
    "                    'target_overs': target_overs,\n",
    "                    \n",
    "                    'current_runs': runs_this_innings,\n",
    "                    'current_wickets': wickets_this_innings,\n",
    "                    'powerplay': powerplay,\n",
    "                    'extras_details': delivery.get('extras'),\n",
    "                }\n",
    "                match_df = pd.concat([match_df, pd.DataFrame([over_row])], ignore_index=True)\n",
    "    return match_df\n",
    "    \n"
   ]
  },
  {
   "cell_type": "code",
   "execution_count": 11,
   "metadata": {},
   "outputs": [],
   "source": [
    "def process_match(data):\n",
    "    match_rows = []\n",
    "    \n",
    "    info = data['info']\n",
    "    game_id = uuid4()\n",
    "    match_info = {\n",
    "        'game_id': game_id,\n",
    "        'date': info['dates'][0],\n",
    "        'venue': info['venue'],\n",
    "        'location': info.get('city'),\n",
    "        'gender': info['gender'],\n",
    "        'match_type': info['match_type']\n",
    "    }\n",
    "    \n",
    "    teams = info['teams']\n",
    "    registry = info['registry']['people']\n",
    "    \n",
    "    for innings_count, inning in enumerate(data['innings'], 1):\n",
    "        batting_team = inning['team']\n",
    "        bowling_team = list(set(teams) - {batting_team})[0]\n",
    "        \n",
    "        batting_team_players_ids = [registry[player] for player in info['players'][batting_team]]\n",
    "        bowling_team_players_ids = [registry[player] for player in info['players'][bowling_team]]\n",
    "        \n",
    "        powerplay_info = inning['powerplays'][0]\n",
    "        pp_start = [int(x) for x in str(powerplay_info['from']).split('.')]\n",
    "        pp_end = [int(x) for x in str(powerplay_info['to']).split('.')]\n",
    "        \n",
    "        target_info = inning.get('target', {})\n",
    "        target_runs = target_info.get('runs')\n",
    "        target_overs = target_info.get('overs')\n",
    "        \n",
    "        runs_this_innings = 0\n",
    "        wickets_this_innings = 0\n",
    "        \n",
    "        for over in inning['overs']:\n",
    "            over_num = over['over']\n",
    "            for delivery_count, delivery in enumerate(over['deliveries'], 1):\n",
    "                powerplay = (over_num >= pp_start[0] and over_num <= pp_end[0] and \n",
    "                           delivery_count >= pp_start[1] and delivery_count <= pp_end[1])\n",
    "                \n",
    "                runs = delivery['runs']\n",
    "                total = runs['total']\n",
    "                runs_this_innings += total\n",
    "                \n",
    "                wicket_info = delivery.get('wickets', [{}])[0] if 'wickets' in delivery else {}\n",
    "                is_wicket = bool(wicket_info)\n",
    "                if is_wicket:\n",
    "                    wickets_this_innings += 1\n",
    "                \n",
    "                row = {\n",
    "                    **match_info,\n",
    "                    'innings': innings_count,\n",
    "                    'batting_team': batting_team,\n",
    "                    'bowling_team': bowling_team,\n",
    "                    'batting_team_players': batting_team_players_ids,\n",
    "                    'bowling_team_players': bowling_team_players_ids,\n",
    "                    'over': over_num,\n",
    "                    'ball_in_over': delivery_count,\n",
    "                    'batter': registry[delivery['batter']],\n",
    "                    'bowler': registry[delivery['bowler']],\n",
    "                    'non_striker': registry[delivery['non_striker']],\n",
    "                    'runs_batter': runs['batter'],\n",
    "                    'extras': runs['extras'],\n",
    "                    'total': total,\n",
    "                    'is_wicket': is_wicket,\n",
    "                    'wicket_type': wicket_info.get('kind'),\n",
    "                    'fielder': registry[wicket_info['fielders'][0]['name']] if 'fielders' in wicket_info else None,\n",
    "                    'player_out': registry[wicket_info['player_out']] if 'player_out' in wicket_info else None,\n",
    "                    'target_runs': target_runs,\n",
    "                    'target_overs': target_overs,\n",
    "                    'current_runs': runs_this_innings,\n",
    "                    'current_wickets': wickets_this_innings,\n",
    "                    'powerplay': powerplay,\n",
    "                    'extras_details': delivery.get('extras'),\n",
    "                }\n",
    "                match_rows.append(row)\n",
    "    \n",
    "    return pd.DataFrame(match_rows)"
   ]
  },
  {
   "cell_type": "code",
   "execution_count": null,
   "metadata": {},
   "outputs": [],
   "source": [
    "df = process_match(data)\n",
    "df.head(10)"
   ]
  },
  {
   "cell_type": "code",
   "execution_count": null,
   "metadata": {},
   "outputs": [],
   "source": [
    "df[df['is_wicket'] == True].head()"
   ]
  },
  {
   "cell_type": "code",
   "execution_count": null,
   "metadata": {},
   "outputs": [],
   "source": [
    "df.info()"
   ]
  },
  {
   "cell_type": "code",
   "execution_count": null,
   "metadata": {},
   "outputs": [],
   "source": [
    "def process_all_matches(path_to_data_directory):\n",
    "    files = os.listdir(path_to_data_directory)\n",
    "    all_matches_df = pd.DataFrame()\n",
    "\n",
    "    for file in files:\n",
    "        try:\n",
    "            with open(os.path.join(path_to_data_directory, file), 'r') as f:\n",
    "                data = json.load(f)\n",
    "                match_df = process_match(data)\n",
    "                all_matches_df = pd.concat([all_matches_df, match_df], ignore_index=True)\n",
    "        except Exception as e:\n",
    "            print(f\"Error processing match: {file}\")\n",
    "            print(f\"Error: {e}\")\n",
    "            print(\"\\n\\n\")\n",
    "            continue\n",
    "    return all_matches_df\n",
    "\n",
    "all_matches_df = process_all_matches('../data/t20s_json')\n",
    "all_matches_df.info()"
   ]
  },
  {
   "cell_type": "code",
   "execution_count": null,
   "metadata": {},
   "outputs": [],
   "source": [
    "all_matches_df['game_id'].nunique()"
   ]
  },
  {
   "cell_type": "markdown",
   "metadata": {},
   "source": [
    "3793 games out of a total of 3835 is pretty good going.\n",
    "\n",
    "There's quite a few matches that have no location, but I think this is okay, I doubt we really need it, if we want to group by location venue would probably be a better choice anyway.\n",
    "\n",
    "Of 858370 balls, there are 47481 wickets, so about 1 in 20. Of those, 29896 were due to a catch.\n",
    "Target runs is included in about half of the balls, which looks about right."
   ]
  },
  {
   "cell_type": "code",
   "execution_count": 17,
   "metadata": {},
   "outputs": [],
   "source": [
    "all_matches_df.to_csv('../data/saved_data/all_matches.csv', index=False)"
   ]
  },
  {
   "cell_type": "markdown",
   "metadata": {},
   "source": [
    "---"
   ]
  },
  {
   "cell_type": "code",
   "execution_count": 18,
   "metadata": {},
   "outputs": [],
   "source": [
    "matches_df = pd.read_csv('../data/saved_data/all_matches.csv')"
   ]
  },
  {
   "cell_type": "code",
   "execution_count": null,
   "metadata": {},
   "outputs": [],
   "source": [
    "matches_df['batter'].nunique()"
   ]
  },
  {
   "cell_type": "markdown",
   "metadata": {},
   "source": [
    "---"
   ]
  }
 ],
 "metadata": {
  "kernelspec": {
   "display_name": "epl-prediction-fZ7oNFll-py3.12",
   "language": "python",
   "name": "python3"
  },
  "language_info": {
   "codemirror_mode": {
    "name": "ipython",
    "version": 3
   },
   "file_extension": ".py",
   "mimetype": "text/x-python",
   "name": "python",
   "nbconvert_exporter": "python",
   "pygments_lexer": "ipython3",
   "version": "3.12.5"
  }
 },
 "nbformat": 4,
 "nbformat_minor": 2
}
