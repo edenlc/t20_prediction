{
 "cells": [
  {
   "cell_type": "code",
   "execution_count": 92,
   "metadata": {},
   "outputs": [],
   "source": [
    "import pandas as pd\n",
    "import numpy as np\n",
    "import matplotlib.pyplot as plt\n",
    "\n",
    "from sklearn.model_selection import train_test_split\n",
    "from sklearn.feature_selection import RFE\n",
    "from sklearn.linear_model import LinearRegression\n",
    "from sklearn.metrics import mean_squared_error, r2_score, mean_absolute_error, mean_absolute_percentage_error\n",
    "from sklearn.ensemble import RandomForestRegressor\n",
    "from sklearn.model_selection import GridSearchCV, RandomizedSearchCV\n",
    "from sklearn.model_selection import cross_validate\n"
   ]
  },
  {
   "cell_type": "code",
   "execution_count": 11,
   "metadata": {},
   "outputs": [
    {
     "data": {
      "text/html": [
       "<div>\n",
       "<style scoped>\n",
       "    .dataframe tbody tr th:only-of-type {\n",
       "        vertical-align: middle;\n",
       "    }\n",
       "\n",
       "    .dataframe tbody tr th {\n",
       "        vertical-align: top;\n",
       "    }\n",
       "\n",
       "    .dataframe thead th {\n",
       "        text-align: right;\n",
       "    }\n",
       "</style>\n",
       "<table border=\"1\" class=\"dataframe\">\n",
       "  <thead>\n",
       "    <tr style=\"text-align: right;\">\n",
       "      <th></th>\n",
       "      <th>game_id</th>\n",
       "      <th>innings</th>\n",
       "      <th>total_batter_runs_conceded_mean</th>\n",
       "      <th>total_runs_from_relevant_extras_mean</th>\n",
       "      <th>total_total_runs_conceded_mean</th>\n",
       "      <th>total_taken_from_relevant_wickets_mean</th>\n",
       "      <th>powerplay_batter_runs_conceded_mean</th>\n",
       "      <th>powerplay_runs_from_relevant_extras_mean</th>\n",
       "      <th>powerplay_total_runs_conceded_mean</th>\n",
       "      <th>powerplay_taken_from_relevant_wickets_mean</th>\n",
       "      <th>...</th>\n",
       "      <th>powerplay_runs_batter_mean</th>\n",
       "      <th>powerplay_high_scoring_hit_mean</th>\n",
       "      <th>powerplay_total_mean</th>\n",
       "      <th>powerplay_is_wicket_mean</th>\n",
       "      <th>non_powerplay_runs_batter_mean</th>\n",
       "      <th>non_powerplay_high_scoring_hit_mean</th>\n",
       "      <th>non_powerplay_total_mean</th>\n",
       "      <th>non_powerplay_is_wicket_mean</th>\n",
       "      <th>final_runs</th>\n",
       "      <th>final_wickets</th>\n",
       "    </tr>\n",
       "  </thead>\n",
       "  <tbody>\n",
       "    <tr>\n",
       "      <th>0</th>\n",
       "      <td>002241a4-33c2-4760-98f5-2e948c8ba72d</td>\n",
       "      <td>1</td>\n",
       "      <td>0.822497</td>\n",
       "      <td>-0.152112</td>\n",
       "      <td>0.750288</td>\n",
       "      <td>0.725801</td>\n",
       "      <td>1.714255</td>\n",
       "      <td>0.786943</td>\n",
       "      <td>1.806211</td>\n",
       "      <td>-0.443284</td>\n",
       "      <td>...</td>\n",
       "      <td>-0.067017</td>\n",
       "      <td>0.048304</td>\n",
       "      <td>-0.176614</td>\n",
       "      <td>0.319407</td>\n",
       "      <td>0.636517</td>\n",
       "      <td>0.408743</td>\n",
       "      <td>0.603931</td>\n",
       "      <td>-0.444931</td>\n",
       "      <td>199</td>\n",
       "      <td>5</td>\n",
       "    </tr>\n",
       "    <tr>\n",
       "      <th>1</th>\n",
       "      <td>002241a4-33c2-4760-98f5-2e948c8ba72d</td>\n",
       "      <td>2</td>\n",
       "      <td>0.057194</td>\n",
       "      <td>-0.494480</td>\n",
       "      <td>0.025546</td>\n",
       "      <td>-0.414094</td>\n",
       "      <td>0.393297</td>\n",
       "      <td>-0.696873</td>\n",
       "      <td>0.311807</td>\n",
       "      <td>-0.866606</td>\n",
       "      <td>...</td>\n",
       "      <td>0.083423</td>\n",
       "      <td>-0.139888</td>\n",
       "      <td>-0.095311</td>\n",
       "      <td>-1.294053</td>\n",
       "      <td>0.839044</td>\n",
       "      <td>0.709896</td>\n",
       "      <td>0.757129</td>\n",
       "      <td>-0.090809</td>\n",
       "      <td>97</td>\n",
       "      <td>7</td>\n",
       "    </tr>\n",
       "    <tr>\n",
       "      <th>2</th>\n",
       "      <td>005ad76d-5118-42b3-b201-7a66ddd993ff</td>\n",
       "      <td>1</td>\n",
       "      <td>0.295511</td>\n",
       "      <td>-0.183686</td>\n",
       "      <td>0.251142</td>\n",
       "      <td>0.452743</td>\n",
       "      <td>0.209040</td>\n",
       "      <td>-0.159175</td>\n",
       "      <td>0.170795</td>\n",
       "      <td>2.076613</td>\n",
       "      <td>...</td>\n",
       "      <td>0.713710</td>\n",
       "      <td>0.908928</td>\n",
       "      <td>0.697545</td>\n",
       "      <td>-0.376023</td>\n",
       "      <td>0.303475</td>\n",
       "      <td>0.466266</td>\n",
       "      <td>0.345178</td>\n",
       "      <td>-0.174936</td>\n",
       "      <td>173</td>\n",
       "      <td>6</td>\n",
       "    </tr>\n",
       "    <tr>\n",
       "      <th>3</th>\n",
       "      <td>005ad76d-5118-42b3-b201-7a66ddd993ff</td>\n",
       "      <td>2</td>\n",
       "      <td>0.216071</td>\n",
       "      <td>-0.570194</td>\n",
       "      <td>0.194874</td>\n",
       "      <td>0.444315</td>\n",
       "      <td>0.202152</td>\n",
       "      <td>-0.105897</td>\n",
       "      <td>0.207373</td>\n",
       "      <td>0.036535</td>\n",
       "      <td>...</td>\n",
       "      <td>1.073143</td>\n",
       "      <td>1.151856</td>\n",
       "      <td>1.065811</td>\n",
       "      <td>0.062678</td>\n",
       "      <td>0.660881</td>\n",
       "      <td>0.726828</td>\n",
       "      <td>0.675743</td>\n",
       "      <td>0.055117</td>\n",
       "      <td>167</td>\n",
       "      <td>7</td>\n",
       "    </tr>\n",
       "    <tr>\n",
       "      <th>4</th>\n",
       "      <td>0061255e-76ea-4415-aa89-fb6e87c61186</td>\n",
       "      <td>1</td>\n",
       "      <td>1.757912</td>\n",
       "      <td>-0.207368</td>\n",
       "      <td>1.764689</td>\n",
       "      <td>0.451444</td>\n",
       "      <td>1.364354</td>\n",
       "      <td>-0.226842</td>\n",
       "      <td>1.389270</td>\n",
       "      <td>-0.220704</td>\n",
       "      <td>...</td>\n",
       "      <td>0.956534</td>\n",
       "      <td>1.018972</td>\n",
       "      <td>0.949863</td>\n",
       "      <td>-0.251526</td>\n",
       "      <td>1.408916</td>\n",
       "      <td>1.649570</td>\n",
       "      <td>1.466700</td>\n",
       "      <td>-0.347873</td>\n",
       "      <td>234</td>\n",
       "      <td>6</td>\n",
       "    </tr>\n",
       "  </tbody>\n",
       "</table>\n",
       "<p>5 rows × 28 columns</p>\n",
       "</div>"
      ],
      "text/plain": [
       "                                game_id  innings  \\\n",
       "0  002241a4-33c2-4760-98f5-2e948c8ba72d        1   \n",
       "1  002241a4-33c2-4760-98f5-2e948c8ba72d        2   \n",
       "2  005ad76d-5118-42b3-b201-7a66ddd993ff        1   \n",
       "3  005ad76d-5118-42b3-b201-7a66ddd993ff        2   \n",
       "4  0061255e-76ea-4415-aa89-fb6e87c61186        1   \n",
       "\n",
       "   total_batter_runs_conceded_mean  total_runs_from_relevant_extras_mean  \\\n",
       "0                         0.822497                             -0.152112   \n",
       "1                         0.057194                             -0.494480   \n",
       "2                         0.295511                             -0.183686   \n",
       "3                         0.216071                             -0.570194   \n",
       "4                         1.757912                             -0.207368   \n",
       "\n",
       "   total_total_runs_conceded_mean  total_taken_from_relevant_wickets_mean  \\\n",
       "0                        0.750288                                0.725801   \n",
       "1                        0.025546                               -0.414094   \n",
       "2                        0.251142                                0.452743   \n",
       "3                        0.194874                                0.444315   \n",
       "4                        1.764689                                0.451444   \n",
       "\n",
       "   powerplay_batter_runs_conceded_mean  \\\n",
       "0                             1.714255   \n",
       "1                             0.393297   \n",
       "2                             0.209040   \n",
       "3                             0.202152   \n",
       "4                             1.364354   \n",
       "\n",
       "   powerplay_runs_from_relevant_extras_mean  \\\n",
       "0                                  0.786943   \n",
       "1                                 -0.696873   \n",
       "2                                 -0.159175   \n",
       "3                                 -0.105897   \n",
       "4                                 -0.226842   \n",
       "\n",
       "   powerplay_total_runs_conceded_mean  \\\n",
       "0                            1.806211   \n",
       "1                            0.311807   \n",
       "2                            0.170795   \n",
       "3                            0.207373   \n",
       "4                            1.389270   \n",
       "\n",
       "   powerplay_taken_from_relevant_wickets_mean  ...  \\\n",
       "0                                   -0.443284  ...   \n",
       "1                                   -0.866606  ...   \n",
       "2                                    2.076613  ...   \n",
       "3                                    0.036535  ...   \n",
       "4                                   -0.220704  ...   \n",
       "\n",
       "   powerplay_runs_batter_mean  powerplay_high_scoring_hit_mean  \\\n",
       "0                   -0.067017                         0.048304   \n",
       "1                    0.083423                        -0.139888   \n",
       "2                    0.713710                         0.908928   \n",
       "3                    1.073143                         1.151856   \n",
       "4                    0.956534                         1.018972   \n",
       "\n",
       "   powerplay_total_mean  powerplay_is_wicket_mean  \\\n",
       "0             -0.176614                  0.319407   \n",
       "1             -0.095311                 -1.294053   \n",
       "2              0.697545                 -0.376023   \n",
       "3              1.065811                  0.062678   \n",
       "4              0.949863                 -0.251526   \n",
       "\n",
       "   non_powerplay_runs_batter_mean  non_powerplay_high_scoring_hit_mean  \\\n",
       "0                        0.636517                             0.408743   \n",
       "1                        0.839044                             0.709896   \n",
       "2                        0.303475                             0.466266   \n",
       "3                        0.660881                             0.726828   \n",
       "4                        1.408916                             1.649570   \n",
       "\n",
       "   non_powerplay_total_mean  non_powerplay_is_wicket_mean  final_runs  \\\n",
       "0                  0.603931                     -0.444931         199   \n",
       "1                  0.757129                     -0.090809          97   \n",
       "2                  0.345178                     -0.174936         173   \n",
       "3                  0.675743                      0.055117         167   \n",
       "4                  1.466700                     -0.347873         234   \n",
       "\n",
       "   final_wickets  \n",
       "0              5  \n",
       "1              7  \n",
       "2              6  \n",
       "3              7  \n",
       "4              6  \n",
       "\n",
       "[5 rows x 28 columns]"
      ]
     },
     "execution_count": 11,
     "metadata": {},
     "output_type": "execute_result"
    }
   ],
   "source": [
    "data = pd.read_csv('../data/saved_data/standardized_per_game_data.csv')\n",
    "data.head()"
   ]
  },
  {
   "cell_type": "code",
   "execution_count": 18,
   "metadata": {},
   "outputs": [
    {
     "name": "stdout",
     "output_type": "stream",
     "text": [
      "<class 'pandas.core.frame.DataFrame'>\n",
      "RangeIndex: 7533 entries, 0 to 7532\n",
      "Data columns (total 28 columns):\n",
      " #   Column                                          Non-Null Count  Dtype  \n",
      "---  ------                                          --------------  -----  \n",
      " 0   game_id                                         7533 non-null   object \n",
      " 1   innings                                         7533 non-null   int64  \n",
      " 2   total_batter_runs_conceded_mean                 7533 non-null   float64\n",
      " 3   total_runs_from_relevant_extras_mean            7533 non-null   float64\n",
      " 4   total_total_runs_conceded_mean                  7533 non-null   float64\n",
      " 5   total_taken_from_relevant_wickets_mean          7533 non-null   float64\n",
      " 6   powerplay_batter_runs_conceded_mean             7533 non-null   float64\n",
      " 7   powerplay_runs_from_relevant_extras_mean        7533 non-null   float64\n",
      " 8   powerplay_total_runs_conceded_mean              7533 non-null   float64\n",
      " 9   powerplay_taken_from_relevant_wickets_mean      7533 non-null   float64\n",
      " 10  non_powerplay_batter_runs_conceded_mean         7532 non-null   float64\n",
      " 11  non_powerplay_runs_from_relevant_extras_mean    7532 non-null   float64\n",
      " 12  non_powerplay_total_runs_conceded_mean          7532 non-null   float64\n",
      " 13  non_powerplay_taken_from_relevant_wickets_mean  7532 non-null   float64\n",
      " 14  total_runs_batter_mean                          7533 non-null   float64\n",
      " 15  total_high_scoring_hit_mean                     7533 non-null   float64\n",
      " 16  total_total_mean                                7533 non-null   float64\n",
      " 17  total_is_wicket_mean                            7533 non-null   float64\n",
      " 18  powerplay_runs_batter_mean                      7533 non-null   float64\n",
      " 19  powerplay_high_scoring_hit_mean                 7533 non-null   float64\n",
      " 20  powerplay_total_mean                            7533 non-null   float64\n",
      " 21  powerplay_is_wicket_mean                        7533 non-null   float64\n",
      " 22  non_powerplay_runs_batter_mean                  7533 non-null   float64\n",
      " 23  non_powerplay_high_scoring_hit_mean             7533 non-null   float64\n",
      " 24  non_powerplay_total_mean                        7533 non-null   float64\n",
      " 25  non_powerplay_is_wicket_mean                    7533 non-null   float64\n",
      " 26  final_runs                                      7533 non-null   int64  \n",
      " 27  final_wickets                                   7533 non-null   int64  \n",
      "dtypes: float64(24), int64(3), object(1)\n",
      "memory usage: 1.6+ MB\n"
     ]
    }
   ],
   "source": [
    "data.info()"
   ]
  },
  {
   "cell_type": "code",
   "execution_count": 19,
   "metadata": {},
   "outputs": [],
   "source": [
    "# There's on game missing non-powerplay stats, so I will drop that game.\n",
    "data = data.dropna()"
   ]
  },
  {
   "cell_type": "code",
   "execution_count": 20,
   "metadata": {},
   "outputs": [],
   "source": [
    "run_estimation_df = data.drop(columns=['game_id', 'innings', 'final_wickets'])\n",
    "wicket_estimation_df = data.drop(columns=['game_id', 'innings', 'final_runs'])\n"
   ]
  },
  {
   "cell_type": "markdown",
   "metadata": {},
   "source": [
    "# Baseline Model\n",
    "\n",
    "For my baseline I am going to use linear regression. I will use RFE for feature selection.\n",
    "\n",
    "I belive innings score is given as runs and wickets, so I will train two models, one to predict runs and one to predict wickets. I will do these seperately."
   ]
  },
  {
   "cell_type": "markdown",
   "metadata": {},
   "source": [
    "# Run Estimation"
   ]
  },
  {
   "cell_type": "code",
   "execution_count": 49,
   "metadata": {},
   "outputs": [],
   "source": [
    "train_data, test_data = train_test_split(run_estimation_df, test_size=0.2, random_state=42)"
   ]
  },
  {
   "cell_type": "code",
   "execution_count": 50,
   "metadata": {},
   "outputs": [
    {
     "name": "stdout",
     "output_type": "stream",
     "text": [
      "Feature Rankings:\n",
      "                                           Feature  Ranking\n",
      "0                  total_batter_runs_conceded_mean        1\n",
      "20                  non_powerplay_runs_batter_mean        1\n",
      "12                          total_runs_batter_mean        1\n",
      "22                        non_powerplay_total_mean        1\n",
      "10          non_powerplay_total_runs_conceded_mean        1\n",
      "8          non_powerplay_batter_runs_conceded_mean        1\n",
      "9     non_powerplay_runs_from_relevant_extras_mean        1\n",
      "4              powerplay_batter_runs_conceded_mean        1\n",
      "6               powerplay_total_runs_conceded_mean        1\n",
      "18                            powerplay_total_mean        1\n",
      "5         powerplay_runs_from_relevant_extras_mean        2\n",
      "13                     total_high_scoring_hit_mean        3\n",
      "17                 powerplay_high_scoring_hit_mean        4\n",
      "21             non_powerplay_high_scoring_hit_mean        5\n",
      "2                   total_total_runs_conceded_mean        6\n",
      "1             total_runs_from_relevant_extras_mean        7\n",
      "15                            total_is_wicket_mean        8\n",
      "16                      powerplay_runs_batter_mean        9\n",
      "7       powerplay_taken_from_relevant_wickets_mean       10\n",
      "11  non_powerplay_taken_from_relevant_wickets_mean       11\n",
      "3           total_taken_from_relevant_wickets_mean       12\n",
      "14                                total_total_mean       13\n",
      "19                        powerplay_is_wicket_mean       14\n",
      "23                    non_powerplay_is_wicket_mean       15\n"
     ]
    }
   ],
   "source": [
    "from sklearn.feature_selection import RFE\n",
    "from sklearn.linear_model import LinearRegression\n",
    "\n",
    "def initial_feature_selection(df, n_features_to_select=10, target_column='final_runs'):\n",
    "    # Prepare features (exclude target and non-numeric columns)\n",
    "    X = df.drop(columns=[target_column])\n",
    "    y = df[target_column]\n",
    "    \n",
    "    # Initialize estimator\n",
    "    estimator = LinearRegression()\n",
    "    \n",
    "    # Create RFE selector\n",
    "    selector = RFE(estimator=estimator, \n",
    "                  n_features_to_select=n_features_to_select,\n",
    "                  step=1)  # Remove 1 feature at a time\n",
    "    \n",
    "    # Fit selector\n",
    "    selector = selector.fit(X, y)\n",
    "    \n",
    "    # Get selected feature names\n",
    "    selected_features = X.columns[selector.support_].tolist()\n",
    "    \n",
    "    # Print rankings\n",
    "    feature_ranking = pd.DataFrame({\n",
    "        'Feature': X.columns,\n",
    "        'Ranking': selector.ranking_\n",
    "    }).sort_values('Ranking')\n",
    "    print(\"Feature Rankings:\")\n",
    "    print(feature_ranking)\n",
    "    \n",
    "    return selected_features\n",
    "\n",
    "important_features = initial_feature_selection(train_data)\n"
   ]
  },
  {
   "cell_type": "code",
   "execution_count": 51,
   "metadata": {},
   "outputs": [
    {
     "name": "stdout",
     "output_type": "stream",
     "text": [
      "Highly correlated features:\n"
     ]
    },
    {
     "data": {
      "text/html": [
       "<div>\n",
       "<style scoped>\n",
       "    .dataframe tbody tr th:only-of-type {\n",
       "        vertical-align: middle;\n",
       "    }\n",
       "\n",
       "    .dataframe tbody tr th {\n",
       "        vertical-align: top;\n",
       "    }\n",
       "\n",
       "    .dataframe thead th {\n",
       "        text-align: right;\n",
       "    }\n",
       "</style>\n",
       "<table border=\"1\" class=\"dataframe\">\n",
       "  <thead>\n",
       "    <tr style=\"text-align: right;\">\n",
       "      <th></th>\n",
       "      <th>feature1</th>\n",
       "      <th>feature2</th>\n",
       "      <th>correlation</th>\n",
       "    </tr>\n",
       "  </thead>\n",
       "  <tbody>\n",
       "    <tr>\n",
       "      <th>0</th>\n",
       "      <td>total_batter_runs_conceded_mean</td>\n",
       "      <td>powerplay_batter_runs_conceded_mean</td>\n",
       "      <td>0.880071</td>\n",
       "    </tr>\n",
       "    <tr>\n",
       "      <th>1</th>\n",
       "      <td>total_batter_runs_conceded_mean</td>\n",
       "      <td>powerplay_total_runs_conceded_mean</td>\n",
       "      <td>0.866095</td>\n",
       "    </tr>\n",
       "    <tr>\n",
       "      <th>2</th>\n",
       "      <td>total_batter_runs_conceded_mean</td>\n",
       "      <td>non_powerplay_batter_runs_conceded_mean</td>\n",
       "      <td>0.974354</td>\n",
       "    </tr>\n",
       "    <tr>\n",
       "      <th>3</th>\n",
       "      <td>total_batter_runs_conceded_mean</td>\n",
       "      <td>non_powerplay_total_runs_conceded_mean</td>\n",
       "      <td>0.961049</td>\n",
       "    </tr>\n",
       "    <tr>\n",
       "      <th>4</th>\n",
       "      <td>total_batter_runs_conceded_mean</td>\n",
       "      <td>total_runs_batter_mean</td>\n",
       "      <td>0.767335</td>\n",
       "    </tr>\n",
       "    <tr>\n",
       "      <th>5</th>\n",
       "      <td>total_batter_runs_conceded_mean</td>\n",
       "      <td>non_powerplay_runs_batter_mean</td>\n",
       "      <td>0.738026</td>\n",
       "    </tr>\n",
       "    <tr>\n",
       "      <th>6</th>\n",
       "      <td>total_batter_runs_conceded_mean</td>\n",
       "      <td>non_powerplay_total_mean</td>\n",
       "      <td>0.729522</td>\n",
       "    </tr>\n",
       "    <tr>\n",
       "      <th>7</th>\n",
       "      <td>powerplay_batter_runs_conceded_mean</td>\n",
       "      <td>powerplay_total_runs_conceded_mean</td>\n",
       "      <td>0.981187</td>\n",
       "    </tr>\n",
       "    <tr>\n",
       "      <th>8</th>\n",
       "      <td>powerplay_batter_runs_conceded_mean</td>\n",
       "      <td>non_powerplay_batter_runs_conceded_mean</td>\n",
       "      <td>0.804075</td>\n",
       "    </tr>\n",
       "    <tr>\n",
       "      <th>9</th>\n",
       "      <td>powerplay_batter_runs_conceded_mean</td>\n",
       "      <td>non_powerplay_total_runs_conceded_mean</td>\n",
       "      <td>0.789061</td>\n",
       "    </tr>\n",
       "    <tr>\n",
       "      <th>10</th>\n",
       "      <td>powerplay_total_runs_conceded_mean</td>\n",
       "      <td>non_powerplay_batter_runs_conceded_mean</td>\n",
       "      <td>0.791858</td>\n",
       "    </tr>\n",
       "    <tr>\n",
       "      <th>11</th>\n",
       "      <td>powerplay_total_runs_conceded_mean</td>\n",
       "      <td>non_powerplay_total_runs_conceded_mean</td>\n",
       "      <td>0.798070</td>\n",
       "    </tr>\n",
       "    <tr>\n",
       "      <th>12</th>\n",
       "      <td>non_powerplay_batter_runs_conceded_mean</td>\n",
       "      <td>non_powerplay_total_runs_conceded_mean</td>\n",
       "      <td>0.987073</td>\n",
       "    </tr>\n",
       "    <tr>\n",
       "      <th>13</th>\n",
       "      <td>non_powerplay_batter_runs_conceded_mean</td>\n",
       "      <td>total_runs_batter_mean</td>\n",
       "      <td>0.750045</td>\n",
       "    </tr>\n",
       "    <tr>\n",
       "      <th>14</th>\n",
       "      <td>non_powerplay_batter_runs_conceded_mean</td>\n",
       "      <td>non_powerplay_runs_batter_mean</td>\n",
       "      <td>0.724947</td>\n",
       "    </tr>\n",
       "    <tr>\n",
       "      <th>15</th>\n",
       "      <td>non_powerplay_batter_runs_conceded_mean</td>\n",
       "      <td>non_powerplay_total_mean</td>\n",
       "      <td>0.715506</td>\n",
       "    </tr>\n",
       "    <tr>\n",
       "      <th>16</th>\n",
       "      <td>non_powerplay_total_runs_conceded_mean</td>\n",
       "      <td>total_runs_batter_mean</td>\n",
       "      <td>0.720517</td>\n",
       "    </tr>\n",
       "    <tr>\n",
       "      <th>17</th>\n",
       "      <td>total_runs_batter_mean</td>\n",
       "      <td>powerplay_total_mean</td>\n",
       "      <td>0.875231</td>\n",
       "    </tr>\n",
       "    <tr>\n",
       "      <th>18</th>\n",
       "      <td>total_runs_batter_mean</td>\n",
       "      <td>non_powerplay_runs_batter_mean</td>\n",
       "      <td>0.978083</td>\n",
       "    </tr>\n",
       "    <tr>\n",
       "      <th>19</th>\n",
       "      <td>total_runs_batter_mean</td>\n",
       "      <td>non_powerplay_total_mean</td>\n",
       "      <td>0.970448</td>\n",
       "    </tr>\n",
       "    <tr>\n",
       "      <th>20</th>\n",
       "      <td>powerplay_total_mean</td>\n",
       "      <td>non_powerplay_runs_batter_mean</td>\n",
       "      <td>0.818824</td>\n",
       "    </tr>\n",
       "    <tr>\n",
       "      <th>21</th>\n",
       "      <td>powerplay_total_mean</td>\n",
       "      <td>non_powerplay_total_mean</td>\n",
       "      <td>0.821131</td>\n",
       "    </tr>\n",
       "    <tr>\n",
       "      <th>22</th>\n",
       "      <td>non_powerplay_runs_batter_mean</td>\n",
       "      <td>non_powerplay_total_mean</td>\n",
       "      <td>0.993634</td>\n",
       "    </tr>\n",
       "  </tbody>\n",
       "</table>\n",
       "</div>"
      ],
      "text/plain": [
       "                                   feature1  \\\n",
       "0           total_batter_runs_conceded_mean   \n",
       "1           total_batter_runs_conceded_mean   \n",
       "2           total_batter_runs_conceded_mean   \n",
       "3           total_batter_runs_conceded_mean   \n",
       "4           total_batter_runs_conceded_mean   \n",
       "5           total_batter_runs_conceded_mean   \n",
       "6           total_batter_runs_conceded_mean   \n",
       "7       powerplay_batter_runs_conceded_mean   \n",
       "8       powerplay_batter_runs_conceded_mean   \n",
       "9       powerplay_batter_runs_conceded_mean   \n",
       "10       powerplay_total_runs_conceded_mean   \n",
       "11       powerplay_total_runs_conceded_mean   \n",
       "12  non_powerplay_batter_runs_conceded_mean   \n",
       "13  non_powerplay_batter_runs_conceded_mean   \n",
       "14  non_powerplay_batter_runs_conceded_mean   \n",
       "15  non_powerplay_batter_runs_conceded_mean   \n",
       "16   non_powerplay_total_runs_conceded_mean   \n",
       "17                   total_runs_batter_mean   \n",
       "18                   total_runs_batter_mean   \n",
       "19                   total_runs_batter_mean   \n",
       "20                     powerplay_total_mean   \n",
       "21                     powerplay_total_mean   \n",
       "22           non_powerplay_runs_batter_mean   \n",
       "\n",
       "                                   feature2  correlation  \n",
       "0       powerplay_batter_runs_conceded_mean     0.880071  \n",
       "1        powerplay_total_runs_conceded_mean     0.866095  \n",
       "2   non_powerplay_batter_runs_conceded_mean     0.974354  \n",
       "3    non_powerplay_total_runs_conceded_mean     0.961049  \n",
       "4                    total_runs_batter_mean     0.767335  \n",
       "5            non_powerplay_runs_batter_mean     0.738026  \n",
       "6                  non_powerplay_total_mean     0.729522  \n",
       "7        powerplay_total_runs_conceded_mean     0.981187  \n",
       "8   non_powerplay_batter_runs_conceded_mean     0.804075  \n",
       "9    non_powerplay_total_runs_conceded_mean     0.789061  \n",
       "10  non_powerplay_batter_runs_conceded_mean     0.791858  \n",
       "11   non_powerplay_total_runs_conceded_mean     0.798070  \n",
       "12   non_powerplay_total_runs_conceded_mean     0.987073  \n",
       "13                   total_runs_batter_mean     0.750045  \n",
       "14           non_powerplay_runs_batter_mean     0.724947  \n",
       "15                 non_powerplay_total_mean     0.715506  \n",
       "16                   total_runs_batter_mean     0.720517  \n",
       "17                     powerplay_total_mean     0.875231  \n",
       "18           non_powerplay_runs_batter_mean     0.978083  \n",
       "19                 non_powerplay_total_mean     0.970448  \n",
       "20           non_powerplay_runs_batter_mean     0.818824  \n",
       "21                 non_powerplay_total_mean     0.821131  \n",
       "22                 non_powerplay_total_mean     0.993634  "
      ]
     },
     "execution_count": 51,
     "metadata": {},
     "output_type": "execute_result"
    }
   ],
   "source": [
    "def check_correlations(df, features):\n",
    "    # Create correlation matrix\n",
    "    corr_matrix = df[features].corr()\n",
    "    \n",
    "    # Find highly correlated pairs\n",
    "    high_corr = []\n",
    "    for i in range(len(features)):\n",
    "        for j in range(i+1, len(features)):\n",
    "            if abs(corr_matrix.iloc[i,j]) > 0.7:  # Threshold\n",
    "                high_corr.append({\n",
    "                    'feature1': features[i],\n",
    "                    'feature2': features[j],\n",
    "                    'correlation': corr_matrix.iloc[i,j]\n",
    "                })\n",
    "    \n",
    "    return pd.DataFrame(high_corr)\n",
    "\n",
    "# Use it\n",
    "correlations = check_correlations(train_data, important_features)\n",
    "print(\"Highly correlated features:\")\n",
    "correlations"
   ]
  },
  {
   "cell_type": "markdown",
   "metadata": {},
   "source": [
    "It is evnident that there is significant correlation between several of the best ranked features, likely stemming from the fact that total stats encompass powerplay and non-powerplay stats. I am going to start by only keeping the total stats for now.\n",
    "\n",
    "Since I would be eliminating a large chunk of the 'important_features' I will start again from scratch with only the total stats."
   ]
  },
  {
   "cell_type": "code",
   "execution_count": 52,
   "metadata": {},
   "outputs": [],
   "source": [
    "cols_to_keep = [col for col in run_estimation_df.columns if 'total' in col[:5]] + ['final_runs']\n",
    "totals_run_estimation_df = run_estimation_df[cols_to_keep]\n",
    "\n",
    "train_data, test_data = train_test_split(totals_run_estimation_df, test_size=0.2, random_state=42)"
   ]
  },
  {
   "cell_type": "code",
   "execution_count": 53,
   "metadata": {},
   "outputs": [
    {
     "name": "stdout",
     "output_type": "stream",
     "text": [
      "Feature Rankings:\n",
      "                                  Feature  Ranking\n",
      "0         total_batter_runs_conceded_mean        1\n",
      "1    total_runs_from_relevant_extras_mean        1\n",
      "2          total_total_runs_conceded_mean        1\n",
      "3  total_taken_from_relevant_wickets_mean        1\n",
      "4                  total_runs_batter_mean        1\n",
      "5             total_high_scoring_hit_mean        1\n",
      "6                        total_total_mean        1\n",
      "7                    total_is_wicket_mean        1\n"
     ]
    },
    {
     "name": "stderr",
     "output_type": "stream",
     "text": [
      "/Users/eden/Library/Caches/pypoetry/virtualenvs/coding-task-BR_zkfTV-py3.12/lib/python3.12/site-packages/sklearn/feature_selection/_rfe.py:291: UserWarning: Found n_features_to_select=10 > n_features=8. There will be no feature selection and all features will be kept.\n",
      "  warnings.warn(\n"
     ]
    }
   ],
   "source": [
    "important_features = initial_feature_selection(train_data, target_column='final_runs')"
   ]
  },
  {
   "cell_type": "markdown",
   "metadata": {},
   "source": [
    "RFE does not work with <10 features. That being said barring any significant correlations I don't think I have an amount that should negatively impact the model so I will keep all features."
   ]
  },
  {
   "cell_type": "code",
   "execution_count": 54,
   "metadata": {},
   "outputs": [
    {
     "data": {
      "text/html": [
       "<div>\n",
       "<style scoped>\n",
       "    .dataframe tbody tr th:only-of-type {\n",
       "        vertical-align: middle;\n",
       "    }\n",
       "\n",
       "    .dataframe tbody tr th {\n",
       "        vertical-align: top;\n",
       "    }\n",
       "\n",
       "    .dataframe thead th {\n",
       "        text-align: right;\n",
       "    }\n",
       "</style>\n",
       "<table border=\"1\" class=\"dataframe\">\n",
       "  <thead>\n",
       "    <tr style=\"text-align: right;\">\n",
       "      <th></th>\n",
       "      <th>feature1</th>\n",
       "      <th>feature2</th>\n",
       "      <th>correlation</th>\n",
       "    </tr>\n",
       "  </thead>\n",
       "  <tbody>\n",
       "    <tr>\n",
       "      <th>0</th>\n",
       "      <td>total_batter_runs_conceded_mean</td>\n",
       "      <td>total_total_runs_conceded_mean</td>\n",
       "      <td>0.985675</td>\n",
       "    </tr>\n",
       "    <tr>\n",
       "      <th>1</th>\n",
       "      <td>total_batter_runs_conceded_mean</td>\n",
       "      <td>total_runs_batter_mean</td>\n",
       "      <td>0.767335</td>\n",
       "    </tr>\n",
       "    <tr>\n",
       "      <th>2</th>\n",
       "      <td>total_batter_runs_conceded_mean</td>\n",
       "      <td>total_high_scoring_hit_mean</td>\n",
       "      <td>0.726575</td>\n",
       "    </tr>\n",
       "    <tr>\n",
       "      <th>3</th>\n",
       "      <td>total_batter_runs_conceded_mean</td>\n",
       "      <td>total_total_mean</td>\n",
       "      <td>0.761869</td>\n",
       "    </tr>\n",
       "    <tr>\n",
       "      <th>4</th>\n",
       "      <td>total_total_runs_conceded_mean</td>\n",
       "      <td>total_runs_batter_mean</td>\n",
       "      <td>0.733073</td>\n",
       "    </tr>\n",
       "    <tr>\n",
       "      <th>5</th>\n",
       "      <td>total_total_runs_conceded_mean</td>\n",
       "      <td>total_total_mean</td>\n",
       "      <td>0.738530</td>\n",
       "    </tr>\n",
       "    <tr>\n",
       "      <th>6</th>\n",
       "      <td>total_runs_batter_mean</td>\n",
       "      <td>total_high_scoring_hit_mean</td>\n",
       "      <td>0.964654</td>\n",
       "    </tr>\n",
       "    <tr>\n",
       "      <th>7</th>\n",
       "      <td>total_runs_batter_mean</td>\n",
       "      <td>total_total_mean</td>\n",
       "      <td>0.994221</td>\n",
       "    </tr>\n",
       "    <tr>\n",
       "      <th>8</th>\n",
       "      <td>total_high_scoring_hit_mean</td>\n",
       "      <td>total_total_mean</td>\n",
       "      <td>0.965277</td>\n",
       "    </tr>\n",
       "  </tbody>\n",
       "</table>\n",
       "</div>"
      ],
      "text/plain": [
       "                          feature1                        feature2  \\\n",
       "0  total_batter_runs_conceded_mean  total_total_runs_conceded_mean   \n",
       "1  total_batter_runs_conceded_mean          total_runs_batter_mean   \n",
       "2  total_batter_runs_conceded_mean     total_high_scoring_hit_mean   \n",
       "3  total_batter_runs_conceded_mean                total_total_mean   \n",
       "4   total_total_runs_conceded_mean          total_runs_batter_mean   \n",
       "5   total_total_runs_conceded_mean                total_total_mean   \n",
       "6           total_runs_batter_mean     total_high_scoring_hit_mean   \n",
       "7           total_runs_batter_mean                total_total_mean   \n",
       "8      total_high_scoring_hit_mean                total_total_mean   \n",
       "\n",
       "   correlation  \n",
       "0     0.985675  \n",
       "1     0.767335  \n",
       "2     0.726575  \n",
       "3     0.761869  \n",
       "4     0.733073  \n",
       "5     0.738530  \n",
       "6     0.964654  \n",
       "7     0.994221  \n",
       "8     0.965277  "
      ]
     },
     "execution_count": 54,
     "metadata": {},
     "output_type": "execute_result"
    }
   ],
   "source": [
    "correlations = check_correlations(train_data, important_features)\n",
    "correlations"
   ]
  },
  {
   "cell_type": "markdown",
   "metadata": {},
   "source": [
    "so... there are a lot of high correlations, but a couple very high ones.\n",
    "- The mean runs conceded and the mean batter only runs conceded are highly very highly correlated, likely due to the fact that most of the runs conceded are batter runs and not extras.\n",
    "- the mean runs conceded scored by the batter is very highly correlated with:\n",
    "    - the mean no. of high scoring balls hit\n",
    "    - the mean total runs made by the batting side including batter runs and extras.\n",
    "- Finally the mean total runs scored is highly correlated with the mean no. of high scoring balls hit.\n",
    "\n",
    "Based on this, I will remove:\n",
    "- The mean total runs conceded per game\n",
    "- The mean number of high scoring balls hit per game\n",
    "- The mean runs scored by the batting side per game\n",
    "\n",
    "For the sake of clarity I will also rename the existing features."
   ]
  },
  {
   "cell_type": "code",
   "execution_count": 55,
   "metadata": {},
   "outputs": [
    {
     "data": {
      "text/plain": [
       "Index(['total_batter_runs_conceded_mean',\n",
       "       'total_runs_from_relevant_extras_mean',\n",
       "       'total_taken_from_relevant_wickets_mean', 'total_runs_batter_mean',\n",
       "       'total_is_wicket_mean', 'final_runs'],\n",
       "      dtype='object')"
      ]
     },
     "execution_count": 55,
     "metadata": {},
     "output_type": "execute_result"
    }
   ],
   "source": [
    "train_data = train_data.drop(columns=['total_total_runs_conceded_mean', 'total_total_mean', 'total_high_scoring_hit_mean'])\n",
    "test_data = test_data.drop(columns=['total_total_runs_conceded_mean', 'total_total_mean', 'total_high_scoring_hit_mean'])\n",
    "\n",
    "train_data.columns"
   ]
  },
  {
   "cell_type": "code",
   "execution_count": 56,
   "metadata": {},
   "outputs": [
    {
     "data": {
      "text/plain": [
       "Index(['mean_batter_runs_conceded', 'mean_extras_runs_conceded',\n",
       "       'mean_wickets_taken', 'mean_batter_runs_scored',\n",
       "       'mean_wickets_conceded', 'final_runs'],\n",
       "      dtype='object')"
      ]
     },
     "execution_count": 56,
     "metadata": {},
     "output_type": "execute_result"
    }
   ],
   "source": [
    "cols_to_rename = {\n",
    "    'total_batter_runs_conceded_mean': 'mean_batter_runs_conceded',\n",
    "    'total_runs_from_relevant_extras_mean': 'mean_extras_runs_conceded',\n",
    "    'total_taken_from_relevant_wickets_mean': 'mean_wickets_taken',\n",
    "    'total_runs_batter_mean': 'mean_batter_runs_scored',\n",
    "    'total_is_wicket_mean': 'mean_wickets_conceded'\n",
    "}\n",
    "\n",
    "train_data.rename(columns=cols_to_rename, inplace=True)\n",
    "test_data.rename(columns=cols_to_rename, inplace=True)\n",
    "train_data.columns"
   ]
  },
  {
   "cell_type": "code",
   "execution_count": 64,
   "metadata": {},
   "outputs": [
    {
     "name": "stdout",
     "output_type": "stream",
     "text": [
      "Model Performance:\n",
      "Train R²: 0.446\n",
      "Test R²: 0.446\n",
      "Train RMSE: 33.140\n",
      "Test RMSE: 33.414\n",
      "Train MAPE: 0.334\n",
      "Test MAPE: 0.301\n",
      "\n",
      "Feature Coefficients:\n",
      "                     Feature  Coefficient\n",
      "0  mean_batter_runs_conceded    11.028226\n",
      "1  mean_extras_runs_conceded     7.054916\n",
      "2         mean_wickets_taken    -0.711567\n",
      "3    mean_batter_runs_scored    20.738551\n",
      "4      mean_wickets_conceded    -4.659263\n"
     ]
    }
   ],
   "source": [
    "def train_and_evaluate_baseline_model(train_data, test_data, target_column):\n",
    "    X_train = train_data.drop(columns=[target_column])\n",
    "    y_train = train_data[target_column]\n",
    "    X_test = test_data.drop(columns=[target_column])\n",
    "    y_test = test_data[target_column]\n",
    "\n",
    "    model = LinearRegression()\n",
    "    model.fit(X_train, y_train)\n",
    "\n",
    "    y_pred_train = model.predict(X_train)\n",
    "    y_pred_test = model.predict(X_test)\n",
    "\n",
    "    # Calculate metrics\n",
    "    metrics = {\n",
    "        'train': {\n",
    "            'r2': r2_score(y_train, y_pred_train),\n",
    "            'rmse': np.sqrt(mean_squared_error(y_train, y_pred_train)),\n",
    "            'mape': mean_absolute_percentage_error(y_train, y_pred_train)\n",
    "        },\n",
    "        'test': {\n",
    "            'r2': r2_score(y_test, y_pred_test),\n",
    "            'rmse': np.sqrt(mean_squared_error(y_test, y_pred_test)),\n",
    "            'mape': mean_absolute_percentage_error(y_test, y_pred_test)\n",
    "        }\n",
    "    }\n",
    "    \n",
    "    # Print feature coefficients\n",
    "    coefficients = pd.DataFrame({\n",
    "        'Feature': X_train.columns,\n",
    "        'Coefficient': model.coef_\n",
    "    })\n",
    "    \n",
    "    print(\"Model Performance:\")\n",
    "    print(f\"Train R²: {metrics['train']['r2']:.3f}\")\n",
    "    print(f\"Test R²: {metrics['train']['r2']:.3f}\")\n",
    "    print(f\"Train RMSE: {metrics['train']['rmse']:.3f}\")\n",
    "    print(f\"Test RMSE: {metrics['test']['rmse']:.3f}\")\n",
    "    print(f\"Train MAPE: {metrics['train']['mape']:.3f}\")\n",
    "    print(f\"Test MAPE: {metrics['test']['mape']:.3f}\")\n",
    "    print(\"\\nFeature Coefficients:\")\n",
    "    print(coefficients)\n",
    "    \n",
    "    return model, metrics, coefficients\n",
    "\n",
    "# Use the function\n",
    "model, metrics, coefficients = train_and_evaluate_baseline_model(train_data, test_data, 'final_runs')\n",
    "\n"
   ]
  },
  {
   "cell_type": "markdown",
   "metadata": {},
   "source": [
    "So... The model is not great - but that's fine for a baseline.\n",
    "\n",
    "The similar test and train results suggest no overfitting, though considering the number of features and the model itself this was unlikely anyway.\n",
    "\n",
    "The R^2 is 0.446 which is not great, suggests out baseline struggled to fit the data well.\n",
    "\n",
    "The MAPE is 0.301, suggesting that while the model is not great, it is faily okay for getting a ballpark estimation... \n",
    "\n",
    "Anyways, time to improve on this."
   ]
  },
  {
   "cell_type": "markdown",
   "metadata": {},
   "source": [
    "## Random Forest\n",
    "\n",
    "I am going to try an approach using tree based models to see if they can improve results over simple linear regression.\n",
    "\n",
    "I will start with a random forest model.\n",
    "\n",
    "Since random forest is not significantly affected by multicollinearity, I will keep the original feature set as it should filter what it believes is most important/informative at each step. Depending on performance however I may then try removing some features.\n",
    "\n",
    "I will be using a train/valid/test split this time as there are some hyperparameters to tune."
   ]
  },
  {
   "cell_type": "code",
   "execution_count": 98,
   "metadata": {},
   "outputs": [],
   "source": [
    "data = run_estimation_df\n",
    "target_column = 'final_runs'\n",
    "test_size = 0.15\n",
    "random_state = 42\n",
    "\n",
    "# Prepare data\n",
    "X = data.drop(columns=[target_column])\n",
    "y = data[target_column]\n",
    "\n",
    "# Split data\n",
    "X_train, X_test, y_train, y_test = train_test_split(\n",
    "    X, y, test_size=test_size, random_state=random_state\n",
    ")"
   ]
  },
  {
   "cell_type": "code",
   "execution_count": 99,
   "metadata": {},
   "outputs": [],
   "source": [
    "def do_random_forest(X_train, y_train, cv=5, random_state=42, **kwargs):\n",
    "    model = RandomForestRegressor(random_state=random_state, **kwargs)\n",
    "    \n",
    "    # Perform cross-validation\n",
    "    cv_results = cross_validate(\n",
    "        model,\n",
    "        X_train,\n",
    "        y_train,\n",
    "        cv=cv,\n",
    "        scoring={\n",
    "            'r2': 'r2',\n",
    "            'rmse': 'neg_root_mean_squared_error',\n",
    "            'mape': 'neg_mean_absolute_percentage_error'\n",
    "        },\n",
    "        return_train_score=True\n",
    "    )\n",
    "    \n",
    "    # Fit final model\n",
    "    model.fit(X_train, y_train)\n",
    "    \n",
    "    # Analyze CV results\n",
    "    analysis = {\n",
    "        'r2': {\n",
    "            'train_avg': cv_results['train_r2'].mean(),\n",
    "            'train_std': cv_results['train_r2'].std(),\n",
    "            'cv_avg': cv_results['test_r2'].mean(),\n",
    "            'cv_std': cv_results['test_r2'].std(),\n",
    "            'gap': cv_results['train_r2'].mean() - cv_results['test_r2'].mean(),\n",
    "            'consistency': 'Stable' if cv_results['test_r2'].std() < 0.05 else 'Unstable'\n",
    "        },\n",
    "        'rmse': {\n",
    "            'train_avg': -cv_results['train_rmse'].mean(),\n",
    "            'train_std': cv_results['train_rmse'].std(),\n",
    "            'cv_avg': -cv_results['test_rmse'].mean(),\n",
    "            'cv_std': cv_results['test_rmse'].std(),\n",
    "            'gap': -cv_results['test_rmse'].mean() - (-cv_results['train_rmse'].mean())\n",
    "        },\n",
    "        'mape': {\n",
    "            'train_avg': -cv_results['train_mape'].mean(),\n",
    "            'train_std': cv_results['train_mape'].std(),\n",
    "            'cv_avg': -cv_results['test_mape'].mean(),\n",
    "            'cv_std': cv_results['test_mape'].std(),\n",
    "            'gap': -cv_results['test_mape'].mean() - (-cv_results['train_mape'].mean())\n",
    "        }\n",
    "    }\n",
    "    \n",
    "    # Print detailed analysis\n",
    "    print(\"Cross-Validation Analysis:\")\n",
    "    print(\"\\nR² Scores:\")\n",
    "    print(f\"Training Average: {analysis['r2']['train_avg']:.3f} ± {analysis['r2']['train_std']:.3f}\")\n",
    "    print(f\"CV Average: {analysis['r2']['cv_avg']:.3f} ± {analysis['r2']['cv_std']:.3f}\")\n",
    "    print(f\"Gap (Train-CV): {analysis['r2']['gap']:.3f}\")\n",
    "    print(f\"CV Consistency: {analysis['r2']['consistency']}\")\n",
    "    \n",
    "    print(\"\\nRMSE Scores:\")\n",
    "    print(f\"Training Average: {analysis['rmse']['train_avg']:.3f} ± {analysis['rmse']['train_std']:.3f}\")\n",
    "    print(f\"CV Average: {analysis['rmse']['cv_avg']:.3f} ± {analysis['rmse']['cv_std']:.3f}\")\n",
    "    print(f\"Gap (CV-Train): {analysis['rmse']['gap']:.3f}\")\n",
    "    \n",
    "    print(\"\\nMAPE Scores:\")\n",
    "    print(f\"Training Average: {analysis['mape']['train_avg']:.3f} ± {analysis['mape']['train_std']:.3f}\")\n",
    "    print(f\"CV Average: {analysis['mape']['cv_avg']:.3f} ± {analysis['mape']['cv_std']:.3f}\")\n",
    "    print(f\"Gap (CV-Train): {analysis['mape']['gap']:.3f}\")\n",
    "    \n",
    "    # Feature importance\n",
    "    feature_importance = pd.DataFrame({\n",
    "        'Feature': X_train.columns,\n",
    "        'Importance': model.feature_importances_\n",
    "    }).sort_values('Importance', ascending=False)\n",
    "    \n",
    "    print(\"\\nTop 10 Most Important Features:\")\n",
    "    print(feature_importance.head(10))\n",
    "    \n",
    "    return model, analysis, feature_importance"
   ]
  },
  {
   "cell_type": "code",
   "execution_count": 100,
   "metadata": {},
   "outputs": [
    {
     "name": "stdout",
     "output_type": "stream",
     "text": [
      "Cross-Validation Analysis:\n",
      "\n",
      "R² Scores:\n",
      "Training Average: 0.924 ± 0.001\n",
      "CV Average: 0.454 ± 0.021\n",
      "Gap (Train-CV): 0.471\n",
      "CV Consistency: Stable\n",
      "\n",
      "RMSE Scores:\n",
      "Training Average: 12.287 ± 0.076\n",
      "CV Average: 32.971 ± 0.753\n",
      "Gap (CV-Train): 20.684\n",
      "\n",
      "MAPE Scores:\n",
      "Training Average: 0.121 ± 0.003\n",
      "CV Average: 0.327 ± 0.035\n",
      "Gap (CV-Train): 0.206\n",
      "\n",
      "Top 10 Most Important Features:\n",
      "                                           Feature  Importance\n",
      "22                        non_powerplay_total_mean    0.288054\n",
      "14                                total_total_mean    0.123146\n",
      "2                   total_total_runs_conceded_mean    0.050088\n",
      "5         powerplay_runs_from_relevant_extras_mean    0.035849\n",
      "1             total_runs_from_relevant_extras_mean    0.034163\n",
      "10          non_powerplay_total_runs_conceded_mean    0.032838\n",
      "15                            total_is_wicket_mean    0.031734\n",
      "13                     total_high_scoring_hit_mean    0.030962\n",
      "11  non_powerplay_taken_from_relevant_wickets_mean    0.030770\n",
      "9     non_powerplay_runs_from_relevant_extras_mean    0.030404\n"
     ]
    }
   ],
   "source": [
    "model, analysis, feature_importance = do_random_forest(X_train, y_train)"
   ]
  },
  {
   "cell_type": "markdown",
   "metadata": {},
   "source": [
    "So... with no tuning the model is not great. It is able to fit the training data very well, but the CV gap demonstrates that there is significant overfitting going on. In fact, we see scores that are marginally worse than the baseline model.\n",
    "\n",
    "I am going to begin by seeing how much I can improve the model by tuning the hyperparameters. Hopefully automated tuning should help a decent amount, followed by manual tuning depending on results."
   ]
  },
  {
   "cell_type": "code",
   "execution_count": 111,
   "metadata": {},
   "outputs": [],
   "source": [
    "def tune_random_forest(X_train, y_train):    \n",
    "    # Define parameter grid\n",
    "    param_grid = {\n",
    "        'max_depth': [10, 20, 30, 50, 100, None],\n",
    "        'min_samples_split': [2, 5, 10, 20, 50],\n",
    "        'min_samples_leaf': [1, 2, 4, 8, 16],\n",
    "        'n_estimators': [100, 200, 300, 400, 500],\n",
    "        'max_features': ['sqrt', 'log2', None]\n",
    "    }\n",
    "    \n",
    "    # Initialize search with cross-validation\n",
    "    search = RandomizedSearchCV(\n",
    "        RandomForestRegressor(random_state=42),\n",
    "        param_grid,\n",
    "        cv=5,  # 5-fold cross-validation\n",
    "        scoring='r2',\n",
    "        n_jobs=-1,\n",
    "        verbose=2\n",
    "    )\n",
    "    \n",
    "    # Fit on training data only\n",
    "    search.fit(X_train, y_train)\n",
    "    \n",
    "    # Evaluate on test set\n",
    "    best_model = search.best_estimator_\n",
    "    final_score = best_model.score(X_train, y_train)\n",
    "    \n",
    "    print(\"Best parameters:\", search.best_params_)\n",
    "    print(\"CV Score:\", search.best_score_)\n",
    "    print(\"Final Score:\", final_score)\n",
    "    \n",
    "    return best_model, search.best_params_"
   ]
  },
  {
   "cell_type": "code",
   "execution_count": 112,
   "metadata": {},
   "outputs": [
    {
     "name": "stdout",
     "output_type": "stream",
     "text": [
      "Fitting 5 folds for each of 10 candidates, totalling 50 fits\n",
      "[CV] END max_depth=30, max_features=log2, min_samples_leaf=4, min_samples_split=50, n_estimators=300; total time=   4.8s\n",
      "[CV] END max_depth=30, max_features=log2, min_samples_leaf=4, min_samples_split=50, n_estimators=300; total time=   4.9s\n",
      "[CV] END max_depth=30, max_features=log2, min_samples_leaf=4, min_samples_split=50, n_estimators=300; total time=   4.9s\n",
      "[CV] END max_depth=30, max_features=log2, min_samples_leaf=4, min_samples_split=50, n_estimators=300; total time=   4.8s\n",
      "[CV] END max_depth=30, max_features=log2, min_samples_leaf=4, min_samples_split=50, n_estimators=300; total time=   4.9s\n",
      "[CV] END max_depth=50, max_features=log2, min_samples_leaf=2, min_samples_split=5, n_estimators=400; total time=   8.3s\n",
      "[CV] END max_depth=50, max_features=log2, min_samples_leaf=2, min_samples_split=5, n_estimators=400; total time=   8.4s\n",
      "[CV] END max_depth=50, max_features=log2, min_samples_leaf=2, min_samples_split=5, n_estimators=400; total time=   8.4s\n",
      "[CV] END max_depth=10, max_features=None, min_samples_leaf=1, min_samples_split=20, n_estimators=100; total time=   7.7s\n",
      "[CV] END max_depth=10, max_features=None, min_samples_leaf=1, min_samples_split=20, n_estimators=100; total time=   7.9s\n",
      "[CV] END max_depth=50, max_features=log2, min_samples_leaf=2, min_samples_split=5, n_estimators=400; total time=   8.0s\n",
      "[CV] END max_depth=10, max_features=None, min_samples_leaf=1, min_samples_split=20, n_estimators=100; total time=   8.0s\n",
      "[CV] END max_depth=50, max_features=log2, min_samples_leaf=2, min_samples_split=5, n_estimators=400; total time=   8.3s\n",
      "[CV] END max_depth=50, max_features=log2, min_samples_leaf=8, min_samples_split=5, n_estimators=400; total time=   6.1s\n",
      "[CV] END max_depth=10, max_features=None, min_samples_leaf=1, min_samples_split=20, n_estimators=100; total time=   7.7s\n",
      "[CV] END max_depth=10, max_features=None, min_samples_leaf=1, min_samples_split=20, n_estimators=100; total time=   7.8s\n",
      "[CV] END max_depth=50, max_features=log2, min_samples_leaf=8, min_samples_split=5, n_estimators=400; total time=   6.2s\n",
      "[CV] END max_depth=50, max_features=log2, min_samples_leaf=8, min_samples_split=5, n_estimators=400; total time=   6.1s\n",
      "[CV] END max_depth=50, max_features=log2, min_samples_leaf=8, min_samples_split=5, n_estimators=400; total time=   6.3s\n",
      "[CV] END max_depth=50, max_features=log2, min_samples_leaf=8, min_samples_split=5, n_estimators=400; total time=   6.3s\n",
      "[CV] END max_depth=100, max_features=log2, min_samples_leaf=4, min_samples_split=5, n_estimators=100; total time=   1.8s\n",
      "[CV] END max_depth=100, max_features=log2, min_samples_leaf=4, min_samples_split=5, n_estimators=100; total time=   1.8s\n",
      "[CV] END max_depth=100, max_features=log2, min_samples_leaf=4, min_samples_split=5, n_estimators=100; total time=   1.8s\n",
      "[CV] END max_depth=20, max_features=sqrt, min_samples_leaf=16, min_samples_split=5, n_estimators=100; total time=   1.3s\n",
      "[CV] END max_depth=100, max_features=log2, min_samples_leaf=4, min_samples_split=5, n_estimators=100; total time=   1.9s\n",
      "[CV] END max_depth=100, max_features=log2, min_samples_leaf=4, min_samples_split=5, n_estimators=100; total time=   1.8s\n",
      "[CV] END max_depth=20, max_features=sqrt, min_samples_leaf=16, min_samples_split=5, n_estimators=100; total time=   1.3s\n",
      "[CV] END max_depth=20, max_features=sqrt, min_samples_leaf=16, min_samples_split=5, n_estimators=100; total time=   1.3s\n",
      "[CV] END max_depth=20, max_features=sqrt, min_samples_leaf=16, min_samples_split=5, n_estimators=100; total time=   1.4s\n",
      "[CV] END max_depth=20, max_features=sqrt, min_samples_leaf=16, min_samples_split=5, n_estimators=100; total time=   1.3s\n",
      "[CV] END max_depth=30, max_features=None, min_samples_leaf=4, min_samples_split=20, n_estimators=200; total time=  18.7s\n",
      "[CV] END max_depth=30, max_features=None, min_samples_leaf=4, min_samples_split=20, n_estimators=200; total time=  19.1s\n",
      "[CV] END max_depth=30, max_features=None, min_samples_leaf=4, min_samples_split=20, n_estimators=200; total time=  18.9s\n",
      "[CV] END max_depth=30, max_features=None, min_samples_leaf=4, min_samples_split=20, n_estimators=200; total time=  19.0s\n",
      "[CV] END max_depth=100, max_features=None, min_samples_leaf=1, min_samples_split=5, n_estimators=100; total time=  11.8s\n",
      "[CV] END max_depth=100, max_features=None, min_samples_leaf=1, min_samples_split=5, n_estimators=100; total time=  12.0s\n",
      "[CV] END max_depth=20, max_features=log2, min_samples_leaf=8, min_samples_split=50, n_estimators=100; total time=   1.4s\n",
      "[CV] END max_depth=20, max_features=log2, min_samples_leaf=8, min_samples_split=50, n_estimators=100; total time=   1.3s\n",
      "[CV] END max_depth=100, max_features=None, min_samples_leaf=1, min_samples_split=5, n_estimators=100; total time=  12.0s\n",
      "[CV] END max_depth=20, max_features=log2, min_samples_leaf=8, min_samples_split=50, n_estimators=100; total time=   1.4s\n",
      "[CV] END max_depth=20, max_features=log2, min_samples_leaf=8, min_samples_split=50, n_estimators=100; total time=   1.3s\n",
      "[CV] END max_depth=30, max_features=None, min_samples_leaf=4, min_samples_split=20, n_estimators=200; total time=  18.8s\n",
      "[CV] END max_depth=20, max_features=log2, min_samples_leaf=8, min_samples_split=50, n_estimators=100; total time=   1.4s\n",
      "[CV] END max_depth=100, max_features=None, min_samples_leaf=1, min_samples_split=5, n_estimators=100; total time=  11.6s\n",
      "[CV] END max_depth=100, max_features=None, min_samples_leaf=1, min_samples_split=5, n_estimators=100; total time=  11.4s\n",
      "[CV] END max_depth=30, max_features=None, min_samples_leaf=1, min_samples_split=20, n_estimators=300; total time=  26.7s\n",
      "[CV] END max_depth=30, max_features=None, min_samples_leaf=1, min_samples_split=20, n_estimators=300; total time=  26.7s\n",
      "[CV] END max_depth=30, max_features=None, min_samples_leaf=1, min_samples_split=20, n_estimators=300; total time=  26.7s\n",
      "[CV] END max_depth=30, max_features=None, min_samples_leaf=1, min_samples_split=20, n_estimators=300; total time=  26.5s\n",
      "[CV] END max_depth=30, max_features=None, min_samples_leaf=1, min_samples_split=20, n_estimators=300; total time=  26.9s\n",
      "Best parameters: {'n_estimators': 400, 'min_samples_split': 5, 'min_samples_leaf': 2, 'max_features': 'log2', 'max_depth': 50}\n",
      "CV Score: 0.465746543077093\n",
      "Final Score: 0.872024015307718\n"
     ]
    }
   ],
   "source": [
    "best_rf, kwargs = tune_random_forest(X_train, y_train)"
   ]
  },
  {
   "cell_type": "code",
   "execution_count": 113,
   "metadata": {},
   "outputs": [
    {
     "data": {
      "text/plain": [
       "{'n_estimators': 400,\n",
       " 'min_samples_split': 5,\n",
       " 'min_samples_leaf': 2,\n",
       " 'max_features': 'log2',\n",
       " 'max_depth': 50}"
      ]
     },
     "execution_count": 113,
     "metadata": {},
     "output_type": "execute_result"
    }
   ],
   "source": [
    "kwargs"
   ]
  },
  {
   "cell_type": "code",
   "execution_count": 114,
   "metadata": {},
   "outputs": [
    {
     "name": "stdout",
     "output_type": "stream",
     "text": [
      "Cross-Validation Analysis:\n",
      "\n",
      "R² Scores:\n",
      "Training Average: 0.871 ± 0.001\n",
      "CV Average: 0.466 ± 0.018\n",
      "Gap (Train-CV): 0.405\n",
      "CV Consistency: Stable\n",
      "\n",
      "RMSE Scores:\n",
      "Training Average: 16.042 ± 0.096\n",
      "CV Average: 32.604 ± 0.716\n",
      "Gap (CV-Train): 16.562\n",
      "\n",
      "MAPE Scores:\n",
      "Training Average: 0.164 ± 0.005\n",
      "CV Average: 0.326 ± 0.033\n",
      "Gap (CV-Train): 0.163\n",
      "\n",
      "Top 10 Most Important Features:\n",
      "                                    Feature  Importance\n",
      "22                 non_powerplay_total_mean    0.093018\n",
      "14                         total_total_mean    0.089463\n",
      "20           non_powerplay_runs_batter_mean    0.074490\n",
      "12                   total_runs_batter_mean    0.070077\n",
      "13              total_high_scoring_hit_mean    0.067810\n",
      "21      non_powerplay_high_scoring_hit_mean    0.059272\n",
      "2            total_total_runs_conceded_mean    0.051413\n",
      "10   non_powerplay_total_runs_conceded_mean    0.042186\n",
      "8   non_powerplay_batter_runs_conceded_mean    0.041568\n",
      "18                     powerplay_total_mean    0.037055\n"
     ]
    }
   ],
   "source": [
    "model, analysis, feature_importance = do_random_forest(X_train, y_train, cv=5, random_state=42, **kwargs)"
   ]
  },
  {
   "cell_type": "markdown",
   "metadata": {},
   "source": [
    "Compared to the earlier results, we see very little improvement. The CV gap has been reduced, however the actual scores are only very marginally imroved. This suggests that the model is overfitting less, but this is not leading to an improvement in the model's ability to predict new data. \n",
    "\n",
    "I am going to try some extremenly agressive hyperparameter values to see if it helps. I expect they may reduce overfitting, but I doubt they will improve the model's overall performance. Possibly worth a shot though"
   ]
  },
  {
   "cell_type": "code",
   "execution_count": 115,
   "metadata": {},
   "outputs": [
    {
     "name": "stdout",
     "output_type": "stream",
     "text": [
      "Cross-Validation Analysis:\n",
      "\n",
      "R² Scores:\n",
      "Training Average: 0.646 ± 0.005\n",
      "CV Average: 0.462 ± 0.018\n",
      "Gap (Train-CV): 0.184\n",
      "CV Consistency: Stable\n",
      "\n",
      "RMSE Scores:\n",
      "Training Average: 26.549 ± 0.200\n",
      "CV Average: 32.711 ± 0.749\n",
      "Gap (CV-Train): 6.162\n",
      "\n",
      "MAPE Scores:\n",
      "Training Average: 0.263 ± 0.007\n",
      "CV Average: 0.329 ± 0.033\n",
      "Gap (CV-Train): 0.065\n",
      "\n",
      "Top 10 Most Important Features:\n",
      "                                    Feature  Importance\n",
      "22                 non_powerplay_total_mean    0.119190\n",
      "14                         total_total_mean    0.111705\n",
      "20           non_powerplay_runs_batter_mean    0.092864\n",
      "12                   total_runs_batter_mean    0.084491\n",
      "13              total_high_scoring_hit_mean    0.078198\n",
      "21      non_powerplay_high_scoring_hit_mean    0.067099\n",
      "2            total_total_runs_conceded_mean    0.056044\n",
      "10   non_powerplay_total_runs_conceded_mean    0.039902\n",
      "8   non_powerplay_batter_runs_conceded_mean    0.036524\n",
      "0           total_batter_runs_conceded_mean    0.036102\n"
     ]
    }
   ],
   "source": [
    "kwargs = {\n",
    "    'max_depth': 10,\n",
    "    'min_samples_split': 10,\n",
    "    'min_samples_leaf': 5,\n",
    "    'n_estimators': 500,\n",
    "    'max_features': 'log2'\n",
    "}\n",
    "model, analysis, feature_importance = do_random_forest(X_train, y_train, cv=5, random_state=42, **kwargs)"
   ]
  },
  {
   "cell_type": "markdown",
   "metadata": {},
   "source": [
    "Turns out my hypothesis was indeed correct, the model is overfitting far less, however the scores have not really improved.\n",
    "I will finally use this final model with my test set."
   ]
  },
  {
   "cell_type": "code",
   "execution_count": 116,
   "metadata": {},
   "outputs": [
    {
     "name": "stdout",
     "output_type": "stream",
     "text": [
      "Final Model Performance:\n",
      "R²: 0.504\n",
      "RMSE: 31.269\n",
      "MAPE: 0.265\n"
     ]
    }
   ],
   "source": [
    "def test_final_model(model, X_test, y_test):\n",
    "    y_pred = model.predict(X_test)\n",
    "    r2 = r2_score(y_test, y_pred)\n",
    "    rmse = np.sqrt(mean_squared_error(y_test, y_pred))\n",
    "    mape = mean_absolute_percentage_error(y_test, y_pred)\n",
    "    print(\"Final Model Performance:\")\n",
    "    print(f\"R²: {r2:.3f}\")\n",
    "    print(f\"RMSE: {rmse:.3f}\")\n",
    "    print(f\"MAPE: {mape:.3f}\")\n",
    "    return r2, rmse, mape\n",
    "\n",
    "r2, rmse, mape = test_final_model(best_rf, X_test, y_test)\n"
   ]
  },
  {
   "cell_type": "markdown",
   "metadata": {},
   "source": [
    "Compared to the baseline model, we do see improvements in all values, albeit not significant ones. MAPE is 0.265 compared to 0.301, RMSE 31.3 compared to 33.4 and R^2 is 0.504 compared to 0.446.\n",
    "\n",
    "I would however like to repeat this with only the total features. While random forest should filter out features itself, I am curious to see how it will affect performance."
   ]
  },
  {
   "cell_type": "code",
   "execution_count": 119,
   "metadata": {},
   "outputs": [],
   "source": [
    "cols_to_rename = {\n",
    "    'total_batter_runs_conceded_mean': 'mean_batter_runs_conceded',\n",
    "    'total_runs_from_relevant_extras_mean': 'mean_extras_runs_conceded',\n",
    "    'total_taken_from_relevant_wickets_mean': 'mean_wickets_taken',\n",
    "    'total_runs_batter_mean': 'mean_batter_runs_scored',\n",
    "    'total_is_wicket_mean': 'mean_wickets_conceded'\n",
    "}\n",
    "\n",
    "data = totals_run_estimation_df.drop(columns=['total_total_runs_conceded_mean', 'total_total_mean', 'total_high_scoring_hit_mean']) \\\n",
    "                               .rename(columns=cols_to_rename)\n",
    "\n",
    "X = data.drop(columns=['final_runs'])\n",
    "y = data['final_runs']\n",
    "\n",
    "X_train, X_test, y_train, y_test = train_test_split(X, y, test_size=0.2, random_state=42)"
   ]
  },
  {
   "cell_type": "code",
   "execution_count": 120,
   "metadata": {},
   "outputs": [
    {
     "name": "stdout",
     "output_type": "stream",
     "text": [
      "Cross-Validation Analysis:\n",
      "\n",
      "R² Scores:\n",
      "Training Average: 0.919 ± 0.001\n",
      "CV Average: 0.418 ± 0.017\n",
      "Gap (Train-CV): 0.501\n",
      "CV Consistency: Stable\n",
      "\n",
      "RMSE Scores:\n",
      "Training Average: 12.636 ± 0.087\n",
      "CV Average: 33.942 ± 0.841\n",
      "Gap (CV-Train): 21.307\n",
      "\n",
      "MAPE Scores:\n",
      "Training Average: 0.122 ± 0.002\n",
      "CV Average: 0.332 ± 0.012\n",
      "Gap (CV-Train): 0.210\n",
      "\n",
      "Top 10 Most Important Features:\n",
      "                     Feature  Importance\n",
      "3    mean_batter_runs_scored    0.493358\n",
      "0  mean_batter_runs_conceded    0.143125\n",
      "1  mean_extras_runs_conceded    0.139528\n",
      "2         mean_wickets_taken    0.113458\n",
      "4      mean_wickets_conceded    0.110531\n"
     ]
    }
   ],
   "source": [
    "# No Hyperparameter tuning:\n",
    "model, analysis, feature_importance = do_random_forest(X_train, y_train, cv=5, random_state=42)"
   ]
  },
  {
   "cell_type": "markdown",
   "metadata": {},
   "source": [
    "Intereestingly, we see marginally worse results than using all features with no hyperparameter tuning."
   ]
  },
  {
   "cell_type": "code",
   "execution_count": 121,
   "metadata": {},
   "outputs": [
    {
     "name": "stdout",
     "output_type": "stream",
     "text": [
      "Fitting 5 folds for each of 10 candidates, totalling 50 fits\n",
      "[CV] END max_depth=30, max_features=sqrt, min_samples_leaf=2, min_samples_split=10, n_estimators=200; total time=   2.0s\n",
      "[CV] END max_depth=30, max_features=sqrt, min_samples_leaf=2, min_samples_split=10, n_estimators=200; total time=   2.0s\n",
      "[CV] END max_depth=30, max_features=sqrt, min_samples_leaf=2, min_samples_split=10, n_estimators=200; total time=   2.1s\n",
      "[CV] END max_depth=30, max_features=sqrt, min_samples_leaf=2, min_samples_split=10, n_estimators=200; total time=   2.1s\n",
      "[CV] END max_depth=30, max_features=sqrt, min_samples_leaf=2, min_samples_split=10, n_estimators=200; total time=   2.1s\n",
      "[CV] END max_depth=100, max_features=None, min_samples_leaf=8, min_samples_split=20, n_estimators=200; total time=   3.5s\n",
      "[CV] END max_depth=100, max_features=None, min_samples_leaf=8, min_samples_split=20, n_estimators=200; total time=   3.7s\n",
      "[CV] END max_depth=100, max_features=None, min_samples_leaf=8, min_samples_split=20, n_estimators=200; total time=   3.9s\n",
      "[CV] END max_depth=100, max_features=None, min_samples_leaf=8, min_samples_split=20, n_estimators=200; total time=   3.4s\n",
      "[CV] END max_depth=100, max_features=None, min_samples_leaf=8, min_samples_split=20, n_estimators=200; total time=   3.6s\n",
      "[CV] END max_depth=20, max_features=None, min_samples_leaf=1, min_samples_split=20, n_estimators=200; total time=   4.3s\n",
      "[CV] END max_depth=20, max_features=None, min_samples_leaf=1, min_samples_split=20, n_estimators=200; total time=   4.3s\n",
      "[CV] END max_depth=20, max_features=None, min_samples_leaf=1, min_samples_split=20, n_estimators=200; total time=   4.3s\n",
      "[CV] END max_depth=None, max_features=None, min_samples_leaf=1, min_samples_split=2, n_estimators=100; total time=   2.6s\n",
      "[CV] END max_depth=20, max_features=None, min_samples_leaf=1, min_samples_split=20, n_estimators=200; total time=   4.4s\n",
      "[CV] END max_depth=20, max_features=None, min_samples_leaf=1, min_samples_split=20, n_estimators=200; total time=   4.3s\n",
      "[CV] END max_depth=None, max_features=None, min_samples_leaf=1, min_samples_split=2, n_estimators=100; total time=   2.7s\n",
      "[CV] END max_depth=None, max_features=None, min_samples_leaf=1, min_samples_split=2, n_estimators=100; total time=   2.6s\n",
      "[CV] END max_depth=None, max_features=None, min_samples_leaf=1, min_samples_split=2, n_estimators=100; total time=   2.5s\n",
      "[CV] END max_depth=20, max_features=log2, min_samples_leaf=8, min_samples_split=10, n_estimators=100; total time=   0.8s\n",
      "[CV] END max_depth=None, max_features=None, min_samples_leaf=1, min_samples_split=2, n_estimators=100; total time=   2.7s\n",
      "[CV] END max_depth=20, max_features=log2, min_samples_leaf=8, min_samples_split=10, n_estimators=100; total time=   0.8s\n",
      "[CV] END max_depth=20, max_features=log2, min_samples_leaf=8, min_samples_split=10, n_estimators=100; total time=   0.8s\n",
      "[CV] END max_depth=20, max_features=log2, min_samples_leaf=8, min_samples_split=10, n_estimators=100; total time=   0.8s\n",
      "[CV] END max_depth=20, max_features=log2, min_samples_leaf=8, min_samples_split=10, n_estimators=100; total time=   0.8s\n",
      "[CV] END max_depth=50, max_features=log2, min_samples_leaf=4, min_samples_split=5, n_estimators=500; total time=   4.5s\n",
      "[CV] END max_depth=50, max_features=log2, min_samples_leaf=4, min_samples_split=5, n_estimators=500; total time=   4.8s\n",
      "[CV] END max_depth=100, max_features=None, min_samples_leaf=4, min_samples_split=2, n_estimators=100; total time=   2.0s\n",
      "[CV] END max_depth=100, max_features=None, min_samples_leaf=4, min_samples_split=2, n_estimators=100; total time=   2.1s\n",
      "[CV] END max_depth=100, max_features=None, min_samples_leaf=4, min_samples_split=2, n_estimators=100; total time=   2.0s\n",
      "[CV] END max_depth=50, max_features=log2, min_samples_leaf=4, min_samples_split=5, n_estimators=500; total time=   4.6s\n",
      "[CV] END max_depth=50, max_features=log2, min_samples_leaf=4, min_samples_split=5, n_estimators=500; total time=   4.7s\n",
      "[CV] END max_depth=50, max_features=log2, min_samples_leaf=4, min_samples_split=5, n_estimators=500; total time=   4.7s\n",
      "[CV] END max_depth=100, max_features=None, min_samples_leaf=4, min_samples_split=2, n_estimators=100; total time=   2.0s\n",
      "[CV] END max_depth=100, max_features=None, min_samples_leaf=4, min_samples_split=2, n_estimators=100; total time=   1.9s\n",
      "[CV] END max_depth=20, max_features=sqrt, min_samples_leaf=16, min_samples_split=5, n_estimators=400; total time=   2.6s\n",
      "[CV] END max_depth=20, max_features=sqrt, min_samples_leaf=16, min_samples_split=5, n_estimators=400; total time=   2.7s\n",
      "[CV] END max_depth=20, max_features=sqrt, min_samples_leaf=16, min_samples_split=5, n_estimators=400; total time=   2.9s\n",
      "[CV] END max_depth=20, max_features=sqrt, min_samples_leaf=16, min_samples_split=5, n_estimators=400; total time=   2.8s\n",
      "[CV] END max_depth=20, max_features=sqrt, min_samples_leaf=16, min_samples_split=5, n_estimators=400; total time=   2.7s\n",
      "[CV] END max_depth=10, max_features=None, min_samples_leaf=4, min_samples_split=2, n_estimators=200; total time=   3.2s\n",
      "[CV] END max_depth=10, max_features=None, min_samples_leaf=4, min_samples_split=2, n_estimators=200; total time=   3.3s\n",
      "[CV] END max_depth=10, max_features=None, min_samples_leaf=4, min_samples_split=2, n_estimators=200; total time=   3.2s\n",
      "[CV] END max_depth=20, max_features=log2, min_samples_leaf=16, min_samples_split=20, n_estimators=300; total time=   1.9s\n",
      "[CV] END max_depth=20, max_features=log2, min_samples_leaf=16, min_samples_split=20, n_estimators=300; total time=   1.9s\n",
      "[CV] END max_depth=20, max_features=log2, min_samples_leaf=16, min_samples_split=20, n_estimators=300; total time=   1.9s\n",
      "[CV] END max_depth=10, max_features=None, min_samples_leaf=4, min_samples_split=2, n_estimators=200; total time=   3.0s\n",
      "[CV] END max_depth=10, max_features=None, min_samples_leaf=4, min_samples_split=2, n_estimators=200; total time=   3.1s\n",
      "[CV] END max_depth=20, max_features=log2, min_samples_leaf=16, min_samples_split=20, n_estimators=300; total time=   1.8s\n",
      "[CV] END max_depth=20, max_features=log2, min_samples_leaf=16, min_samples_split=20, n_estimators=300; total time=   1.6s\n",
      "Best parameters: {'n_estimators': 300, 'min_samples_split': 20, 'min_samples_leaf': 16, 'max_features': 'log2', 'max_depth': 20}\n",
      "CV Score: 0.4481209259818611\n",
      "Final Score: 0.5607897421198584\n"
     ]
    }
   ],
   "source": [
    "model, kwargs = tune_random_forest(X_train, y_train)"
   ]
  },
  {
   "cell_type": "code",
   "execution_count": 125,
   "metadata": {},
   "outputs": [
    {
     "name": "stdout",
     "output_type": "stream",
     "text": [
      "Cross-Validation Analysis:\n",
      "\n",
      "R² Scores:\n",
      "Training Average: 0.636 ± 0.003\n",
      "CV Average: 0.449 ± 0.014\n",
      "Gap (Train-CV): 0.187\n",
      "CV Consistency: Stable\n",
      "\n",
      "RMSE Scores:\n",
      "Training Average: 26.869 ± 0.169\n",
      "CV Average: 33.042 ± 0.792\n",
      "Gap (CV-Train): 6.173\n",
      "\n",
      "MAPE Scores:\n",
      "Training Average: 0.268 ± 0.003\n",
      "CV Average: 0.329 ± 0.015\n",
      "Gap (CV-Train): 0.061\n",
      "\n",
      "Top 10 Most Important Features:\n",
      "                     Feature  Importance\n",
      "3    mean_batter_runs_scored    0.440788\n",
      "0  mean_batter_runs_conceded    0.275927\n",
      "4      mean_wickets_conceded    0.128514\n",
      "1  mean_extras_runs_conceded    0.088376\n",
      "2         mean_wickets_taken    0.066395\n"
     ]
    }
   ],
   "source": [
    "model, analysis, feature_importance = do_random_forest(X_train, y_train, cv=5, random_state=42, **kwargs)"
   ]
  },
  {
   "cell_type": "markdown",
   "metadata": {},
   "source": [
    "So... There is very little overfitting which is good (likely stemming from the reduced feature set). However scores are marginally worse than our other model with the entire feature set.\n",
    "\n",
    "Based on the fact that we are experiencing very little overfitting, I am going to attempt to increase the model complexity to see if it improves performance."
   ]
  },
  {
   "cell_type": "code",
   "execution_count": 123,
   "metadata": {},
   "outputs": [
    {
     "data": {
      "text/plain": [
       "{'n_estimators': 300,\n",
       " 'min_samples_split': 20,\n",
       " 'min_samples_leaf': 16,\n",
       " 'max_features': 'log2',\n",
       " 'max_depth': 20}"
      ]
     },
     "execution_count": 123,
     "metadata": {},
     "output_type": "execute_result"
    }
   ],
   "source": [
    "kwargs "
   ]
  },
  {
   "cell_type": "code",
   "execution_count": 124,
   "metadata": {},
   "outputs": [
    {
     "name": "stdout",
     "output_type": "stream",
     "text": [
      "Cross-Validation Analysis:\n",
      "\n",
      "R² Scores:\n",
      "Training Average: 0.636 ± 0.003\n",
      "CV Average: 0.449 ± 0.014\n",
      "Gap (Train-CV): 0.187\n",
      "CV Consistency: Stable\n",
      "\n",
      "RMSE Scores:\n",
      "Training Average: 26.869 ± 0.169\n",
      "CV Average: 33.042 ± 0.792\n",
      "Gap (CV-Train): 6.173\n",
      "\n",
      "MAPE Scores:\n",
      "Training Average: 0.268 ± 0.003\n",
      "CV Average: 0.329 ± 0.015\n",
      "Gap (CV-Train): 0.061\n",
      "\n",
      "Top 10 Most Important Features:\n",
      "                     Feature  Importance\n",
      "3    mean_batter_runs_scored    0.440788\n",
      "0  mean_batter_runs_conceded    0.275927\n",
      "4      mean_wickets_conceded    0.128514\n",
      "1  mean_extras_runs_conceded    0.088376\n",
      "2         mean_wickets_taken    0.066395\n"
     ]
    }
   ],
   "source": [
    "kwargs = {\n",
    "    'n_estimators': 1000,\n",
    "    'min_samples_split': 10,\n",
    "    'min_samples_leaf': 8,\n",
    "    'max_features': 'log2',\n",
    "    'max_depth': 50\n",
    "}\n",
    "tuned_model, tuned_analysis, tuned_feature_importance = do_random_forest(X_train, y_train, cv=5, random_state=42, **kwargs)\n"
   ]
  },
  {
   "cell_type": "markdown",
   "metadata": {},
   "source": [
    "Unfortunately, the actaul results stay relatively similar while performance on the training data improves, suggesting that the increase in complexity is only leading to more overfitting.\n",
    "\n",
    "I will therefore use the previous model with the test set."
   ]
  },
  {
   "cell_type": "code",
   "execution_count": 126,
   "metadata": {},
   "outputs": [
    {
     "name": "stdout",
     "output_type": "stream",
     "text": [
      "Final Model Performance:\n",
      "R²: 0.457\n",
      "RMSE: 33.054\n",
      "MAPE: 0.296\n"
     ]
    }
   ],
   "source": [
    "r2, rmse, mape = test_final_model(model, X_test, y_test)"
   ]
  },
  {
   "cell_type": "markdown",
   "metadata": {},
   "source": [
    "Comparing the test scores to those of the random forest model with all features, we see that the scores marginally worse. The R^2 is 0.457 compared to 0.504, RMSE is 33.1 compared to 31.3 and MAPE is 0.296 compared to 0.265.\n",
    "\n",
    "As per my original theory, it is therefore evident that reducing the feature set has not led to an improvement in the random forest model's performance, in fact leading to the opposite. While it does still marginally outperform the baseline model, it is far from ideal.\n",
    "\n",
    "I am curious to see if a more complex model such as a neural network could improve results. If I have time I will try this later"
   ]
  },
  {
   "cell_type": "markdown",
   "metadata": {},
   "source": [
    "---\n",
    "# Wicket Estimation\n",
    "\n",
    "Learning from run estimation, I will start by using only total stats. Furthermore I won't bother with feature selection due to the small number of features we'll have.\n",
    "\n",
    "While RFE is useless as above due to the small number of features, I did consider dropping everything except the number of wickets taken/conceded. That being said, in my head it makes sense that either:\n",
    "- More aggressive runs will lead to more wickets being taken\n",
    "- more runs = a better batting side and therefore less wickets conceded\n",
    "\n",
    "I'll evaluate the model results to see if these are the case or if these features were completely insignificant. Hopefully leaving them in shouldn't harm baseline performance much."
   ]
  },
  {
   "cell_type": "code",
   "execution_count": 68,
   "metadata": {},
   "outputs": [],
   "source": [
    "cols_to_keep = [col for col in wicket_estimation_df.columns if 'total' in col[:5]] + ['final_wickets']\n",
    "totals_wicket_estimation_df = wicket_estimation_df[cols_to_keep].copy()\n",
    "\n",
    "cols_to_rename = {\n",
    "    'total_batter_runs_conceded_mean': 'mean_batter_runs_conceded',\n",
    "    'total_runs_from_relevant_extras_mean': 'mean_extras_runs_conceded',\n",
    "    'total_taken_from_relevant_wickets_mean': 'mean_wickets_taken',\n",
    "    'total_runs_batter_mean': 'mean_batter_runs_scored',\n",
    "    'total_is_wicket_mean': 'mean_wickets_conceded'\n",
    "}\n",
    "\n",
    "totals_wicket_estimation_df.rename(columns=cols_to_rename, inplace=True)\n",
    "\n",
    "train_data, test_data = train_test_split(totals_wicket_estimation_df, test_size=0.2, random_state=42)"
   ]
  },
  {
   "cell_type": "code",
   "execution_count": 70,
   "metadata": {},
   "outputs": [
    {
     "data": {
      "text/plain": [
       "Index(['mean_batter_runs_conceded', 'mean_extras_runs_conceded',\n",
       "       'total_total_runs_conceded_mean', 'mean_wickets_taken',\n",
       "       'mean_batter_runs_scored', 'total_high_scoring_hit_mean',\n",
       "       'total_total_mean', 'mean_wickets_conceded', 'final_wickets'],\n",
       "      dtype='object')"
      ]
     },
     "execution_count": 70,
     "metadata": {},
     "output_type": "execute_result"
    }
   ],
   "source": [
    "totals_wicket_estimation_df.columns"
   ]
  },
  {
   "cell_type": "code",
   "execution_count": 69,
   "metadata": {},
   "outputs": [
    {
     "name": "stdout",
     "output_type": "stream",
     "text": [
      "Model Performance:\n",
      "Train R²: 0.456\n",
      "Test R²: 0.456\n",
      "Train RMSE: 2.066\n",
      "Test RMSE: 2.152\n",
      "Train MAPE: 292375532727009.438\n",
      "Test MAPE: 402287741477278.312\n",
      "\n",
      "Feature Coefficients:\n",
      "                          Feature  Coefficient\n",
      "0       mean_batter_runs_conceded     1.804795\n",
      "1       mean_extras_runs_conceded    -0.153227\n",
      "2  total_total_runs_conceded_mean    -1.608579\n",
      "3              mean_wickets_taken     0.474210\n",
      "4         mean_batter_runs_scored    -1.244086\n",
      "5     total_high_scoring_hit_mean    -2.424828\n",
      "6                total_total_mean     3.149803\n",
      "7           mean_wickets_conceded     1.454342\n"
     ]
    }
   ],
   "source": [
    "model, metrics, coefficients = train_and_evaluate_baseline_model(train_data, test_data, 'final_wickets')"
   ]
  },
  {
   "cell_type": "code",
   "execution_count": 71,
   "metadata": {},
   "outputs": [
    {
     "data": {
      "text/plain": [
       "np.float64(6.295273499734466)"
      ]
     },
     "execution_count": 71,
     "metadata": {},
     "output_type": "execute_result"
    }
   ],
   "source": [
    "totals_wicket_estimation_df['final_wickets'].mean()"
   ]
  },
  {
   "cell_type": "markdown",
   "metadata": {},
   "source": [
    "Okay interesting. The model is okay, but not amazing.\n",
    "\n",
    "The absurd MAPE values are liekly due to games with 0 wickets conceded as I know that MAPE struggles with 0 values.\n",
    "\n",
    "THat being said, the result of only 2 wickets taken off is okay. Based on the mean value of 6.30 wickets conceded per game, this suggests that the actual MAPE is again around 0.3 which is not terrible but again really not great.\n",
    "\n",
    "Similar results for R^2 compared to run estimation, hence similar conclusions.\n",
    "\n",
    "It is however interesting that the model does not find mean_wickets_taken very important. I want to repeat this one more time with only wickets taken statistics."
   ]
  },
  {
   "cell_type": "code",
   "execution_count": 72,
   "metadata": {},
   "outputs": [
    {
     "name": "stdout",
     "output_type": "stream",
     "text": [
      "Model Performance:\n",
      "Train R²: 0.388\n",
      "Test R²: 0.388\n",
      "Train RMSE: 2.190\n",
      "Test RMSE: 2.285\n",
      "Train MAPE: 348523715092883.062\n",
      "Test MAPE: 449098048095465.750\n",
      "\n",
      "Feature Coefficients:\n",
      "                 Feature  Coefficient\n",
      "0     mean_wickets_taken     0.530018\n",
      "1  mean_wickets_conceded     1.538253\n"
     ]
    }
   ],
   "source": [
    "wickets_only = totals_wicket_estimation_df[['mean_wickets_taken', 'mean_wickets_conceded', 'final_wickets']]\n",
    "\n",
    "train_data, test_data = train_test_split(wickets_only, test_size=0.2, random_state=42)\n",
    "\n",
    "model, metrics, coefficients = train_and_evaluate_baseline_model(train_data, test_data, 'final_wickets')"
   ]
  },
  {
   "cell_type": "markdown",
   "metadata": {},
   "source": [
    "Interestingly this performs even worse, and mean_wickets_taken is not much more important than when all of the other features were included.\n",
    "\n",
    "This suggests they may indeed be of somewhat importance to predicting the number of wickets taken."
   ]
  },
  {
   "cell_type": "markdown",
   "metadata": {},
   "source": [
    "## Random Forest for Wicket Estimation\n",
    "\n",
    "I will now repeat the same process for wicket estimation as I did for run estimation.\n",
    "Based on my results above with the baseline and also those of the random forest with all features, I will start with all features. I may attempt to slim down the feature set later, however my experiments on run estimation suggest that this will not lead to any meaningful improvements and would probably be a waste of time."
   ]
  },
  {
   "cell_type": "code",
   "execution_count": 134,
   "metadata": {},
   "outputs": [],
   "source": [
    "data = wicket_estimation_df\n",
    "X = data.drop(columns=['final_wickets'])\n",
    "y = data['final_wickets']\n",
    "\n",
    "X_train, X_test, y_train, y_test = train_test_split(X, y, test_size=test_size, random_state=random_state)"
   ]
  },
  {
   "cell_type": "code",
   "execution_count": 135,
   "metadata": {},
   "outputs": [
    {
     "name": "stdout",
     "output_type": "stream",
     "text": [
      "Cross-Validation Analysis:\n",
      "\n",
      "R² Scores:\n",
      "Training Average: 0.934 ± 0.001\n",
      "CV Average: 0.535 ± 0.012\n",
      "Gap (Train-CV): 0.399\n",
      "CV Consistency: Stable\n",
      "\n",
      "RMSE Scores:\n",
      "Training Average: 0.719 ± 0.002\n",
      "CV Average: 1.910 ± 0.024\n",
      "Gap (CV-Train): 1.192\n",
      "\n",
      "MAPE Scores:\n",
      "Training Average: 97973539648279.156 ± 4057527847656.355\n",
      "CV Average: 264303690240606.938 ± 45837545190482.172\n",
      "Gap (CV-Train): 166330150592327.781\n",
      "\n",
      "Top 10 Most Important Features:\n",
      "                                           Feature  Importance\n",
      "15                            total_is_wicket_mean    0.450925\n",
      "3           total_taken_from_relevant_wickets_mean    0.053848\n",
      "19                        powerplay_is_wicket_mean    0.049884\n",
      "11  non_powerplay_taken_from_relevant_wickets_mean    0.049578\n",
      "23                    non_powerplay_is_wicket_mean    0.044251\n",
      "13                     total_high_scoring_hit_mean    0.033180\n",
      "7       powerplay_taken_from_relevant_wickets_mean    0.026933\n",
      "5         powerplay_runs_from_relevant_extras_mean    0.025796\n",
      "1             total_runs_from_relevant_extras_mean    0.023821\n",
      "9     non_powerplay_runs_from_relevant_extras_mean    0.023493\n"
     ]
    }
   ],
   "source": [
    "model, analysis, feature_importance = do_random_forest(X_train, y_train, cv=5, random_state=42)"
   ]
  },
  {
   "cell_type": "markdown",
   "metadata": {},
   "source": [
    "Compared to out baseline, we see at least a marginally better model performance across the board. The model is able to fit the data better, as evidenced by the greater R^2 values, as well as having a slightly lower RMSE. Again due to the presence of 0 values, the MAPE is pretty useless here.\n",
    "\n",
    "There is however clear evidence of overfitting, as evidenced by the somewhat high CV gap for both R^2 and RMSE."
   ]
  },
  {
   "cell_type": "code",
   "execution_count": 136,
   "metadata": {},
   "outputs": [
    {
     "name": "stdout",
     "output_type": "stream",
     "text": [
      "Fitting 5 folds for each of 10 candidates, totalling 50 fits\n",
      "[CV] END max_depth=20, max_features=log2, min_samples_leaf=1, min_samples_split=10, n_estimators=200; total time=   4.2s\n",
      "[CV] END max_depth=20, max_features=log2, min_samples_leaf=1, min_samples_split=10, n_estimators=200; total time=   4.2s\n",
      "[CV] END max_depth=20, max_features=log2, min_samples_leaf=1, min_samples_split=10, n_estimators=200; total time=   4.2s\n",
      "[CV] END max_depth=20, max_features=log2, min_samples_leaf=1, min_samples_split=10, n_estimators=200; total time=   4.1s\n",
      "[CV] END max_depth=20, max_features=log2, min_samples_leaf=1, min_samples_split=10, n_estimators=200; total time=   4.3s\n",
      "[CV] END max_depth=10, max_features=sqrt, min_samples_leaf=2, min_samples_split=2, n_estimators=300; total time=   4.8s\n",
      "[CV] END max_depth=10, max_features=sqrt, min_samples_leaf=2, min_samples_split=2, n_estimators=300; total time=   4.8s\n",
      "[CV] END max_depth=10, max_features=sqrt, min_samples_leaf=2, min_samples_split=2, n_estimators=300; total time=   4.8s\n",
      "[CV] END max_depth=100, max_features=log2, min_samples_leaf=8, min_samples_split=20, n_estimators=200; total time=   3.1s\n",
      "[CV] END max_depth=100, max_features=log2, min_samples_leaf=8, min_samples_split=20, n_estimators=200; total time=   3.1s\n",
      "[CV] END max_depth=100, max_features=log2, min_samples_leaf=8, min_samples_split=20, n_estimators=200; total time=   3.1s\n",
      "[CV] END max_depth=100, max_features=log2, min_samples_leaf=8, min_samples_split=20, n_estimators=200; total time=   3.0s\n",
      "[CV] END max_depth=100, max_features=log2, min_samples_leaf=8, min_samples_split=20, n_estimators=200; total time=   3.1s\n",
      "[CV] END max_depth=10, max_features=sqrt, min_samples_leaf=2, min_samples_split=2, n_estimators=300; total time=   4.3s\n",
      "[CV] END max_depth=10, max_features=sqrt, min_samples_leaf=2, min_samples_split=2, n_estimators=300; total time=   4.4s\n",
      "[CV] END max_depth=30, max_features=log2, min_samples_leaf=2, min_samples_split=10, n_estimators=100; total time=   1.8s\n",
      "[CV] END max_depth=30, max_features=log2, min_samples_leaf=2, min_samples_split=10, n_estimators=100; total time=   1.9s\n",
      "[CV] END max_depth=30, max_features=log2, min_samples_leaf=2, min_samples_split=10, n_estimators=100; total time=   1.9s\n",
      "[CV] END max_depth=30, max_features=log2, min_samples_leaf=2, min_samples_split=10, n_estimators=100; total time=   1.8s\n",
      "[CV] END max_depth=30, max_features=log2, min_samples_leaf=2, min_samples_split=10, n_estimators=100; total time=   1.9s\n",
      "[CV] END max_depth=30, max_features=sqrt, min_samples_leaf=1, min_samples_split=2, n_estimators=400; total time=   8.4s\n",
      "[CV] END max_depth=30, max_features=sqrt, min_samples_leaf=1, min_samples_split=2, n_estimators=400; total time=   8.4s\n",
      "[CV] END max_depth=30, max_features=sqrt, min_samples_leaf=1, min_samples_split=2, n_estimators=400; total time=   8.4s\n",
      "[CV] END max_depth=30, max_features=sqrt, min_samples_leaf=1, min_samples_split=2, n_estimators=400; total time=   8.7s\n",
      "[CV] END max_depth=30, max_features=sqrt, min_samples_leaf=1, min_samples_split=2, n_estimators=400; total time=   8.5s\n",
      "[CV] END max_depth=30, max_features=sqrt, min_samples_leaf=1, min_samples_split=5, n_estimators=500; total time=  10.2s\n",
      "[CV] END max_depth=30, max_features=sqrt, min_samples_leaf=1, min_samples_split=5, n_estimators=500; total time=  10.2s\n",
      "[CV] END max_depth=30, max_features=sqrt, min_samples_leaf=1, min_samples_split=5, n_estimators=500; total time=  10.3s\n",
      "[CV] END max_depth=30, max_features=sqrt, min_samples_leaf=1, min_samples_split=5, n_estimators=500; total time=  10.2s\n",
      "[CV] END max_depth=None, max_features=None, min_samples_leaf=2, min_samples_split=20, n_estimators=400; total time=  36.6s\n",
      "[CV] END max_depth=30, max_features=log2, min_samples_leaf=8, min_samples_split=20, n_estimators=300; total time=   4.6s\n",
      "[CV] END max_depth=None, max_features=None, min_samples_leaf=2, min_samples_split=20, n_estimators=400; total time=  36.9s\n",
      "[CV] END max_depth=None, max_features=None, min_samples_leaf=2, min_samples_split=20, n_estimators=400; total time=  37.2s\n",
      "[CV] END max_depth=None, max_features=None, min_samples_leaf=2, min_samples_split=20, n_estimators=400; total time=  37.2s\n",
      "[CV] END max_depth=None, max_features=None, min_samples_leaf=2, min_samples_split=20, n_estimators=400; total time=  36.6s\n",
      "[CV] END max_depth=30, max_features=log2, min_samples_leaf=8, min_samples_split=20, n_estimators=300; total time=   4.7s\n",
      "[CV] END max_depth=30, max_features=log2, min_samples_leaf=8, min_samples_split=20, n_estimators=300; total time=   4.6s\n",
      "[CV] END max_depth=30, max_features=sqrt, min_samples_leaf=1, min_samples_split=5, n_estimators=500; total time=   9.9s\n",
      "[CV] END max_depth=30, max_features=log2, min_samples_leaf=8, min_samples_split=20, n_estimators=300; total time=   4.7s\n",
      "[CV] END max_depth=30, max_features=log2, min_samples_leaf=8, min_samples_split=20, n_estimators=300; total time=   4.6s\n",
      "[CV] END max_depth=30, max_features=log2, min_samples_leaf=4, min_samples_split=50, n_estimators=400; total time=   6.0s\n",
      "[CV] END max_depth=30, max_features=log2, min_samples_leaf=4, min_samples_split=50, n_estimators=400; total time=   5.9s\n",
      "[CV] END max_depth=30, max_features=log2, min_samples_leaf=4, min_samples_split=50, n_estimators=400; total time=   6.0s\n",
      "[CV] END max_depth=30, max_features=log2, min_samples_leaf=4, min_samples_split=50, n_estimators=400; total time=   5.8s\n",
      "[CV] END max_depth=30, max_features=log2, min_samples_leaf=4, min_samples_split=50, n_estimators=400; total time=   5.6s\n",
      "[CV] END max_depth=100, max_features=None, min_samples_leaf=16, min_samples_split=10, n_estimators=400; total time=  25.4s\n",
      "[CV] END max_depth=100, max_features=None, min_samples_leaf=16, min_samples_split=10, n_estimators=400; total time=  25.5s\n",
      "[CV] END max_depth=100, max_features=None, min_samples_leaf=16, min_samples_split=10, n_estimators=400; total time=  25.7s\n",
      "[CV] END max_depth=100, max_features=None, min_samples_leaf=16, min_samples_split=10, n_estimators=400; total time=  24.9s\n",
      "[CV] END max_depth=100, max_features=None, min_samples_leaf=16, min_samples_split=10, n_estimators=400; total time=  25.0s\n",
      "Best parameters: {'n_estimators': 400, 'min_samples_split': 20, 'min_samples_leaf': 2, 'max_features': None, 'max_depth': None}\n",
      "CV Score: 0.5348552696998977\n",
      "Final Score: 0.8019091436167214\n"
     ]
    }
   ],
   "source": [
    "model, kwargs = tune_random_forest(X_train, y_train)"
   ]
  },
  {
   "cell_type": "code",
   "execution_count": 137,
   "metadata": {},
   "outputs": [
    {
     "name": "stdout",
     "output_type": "stream",
     "text": [
      "Cross-Validation Analysis:\n",
      "\n",
      "R² Scores:\n",
      "Training Average: 0.799 ± 0.002\n",
      "CV Average: 0.535 ± 0.014\n",
      "Gap (Train-CV): 0.264\n",
      "CV Consistency: Stable\n",
      "\n",
      "RMSE Scores:\n",
      "Training Average: 1.257 ± 0.004\n",
      "CV Average: 1.910 ± 0.029\n",
      "Gap (CV-Train): 0.654\n",
      "\n",
      "MAPE Scores:\n",
      "Training Average: 184495958698196.062 ± 7839447938444.005\n",
      "CV Average: 270531481338957.938 ± 49280875876057.430\n",
      "Gap (CV-Train): 86035522640761.875\n",
      "\n",
      "Top 10 Most Important Features:\n",
      "                                           Feature  Importance\n",
      "15                            total_is_wicket_mean    0.539399\n",
      "3           total_taken_from_relevant_wickets_mean    0.053853\n",
      "11  non_powerplay_taken_from_relevant_wickets_mean    0.047092\n",
      "19                        powerplay_is_wicket_mean    0.046759\n",
      "23                    non_powerplay_is_wicket_mean    0.040804\n",
      "13                     total_high_scoring_hit_mean    0.031512\n",
      "5         powerplay_runs_from_relevant_extras_mean    0.019222\n",
      "7       powerplay_taken_from_relevant_wickets_mean    0.018788\n",
      "17                 powerplay_high_scoring_hit_mean    0.018698\n",
      "1             total_runs_from_relevant_extras_mean    0.018595\n"
     ]
    }
   ],
   "source": [
    "model, analysis, feature_importance = do_random_forest(X_train, y_train, cv=5, random_state=42, **kwargs)"
   ]
  },
  {
   "cell_type": "markdown",
   "metadata": {},
   "source": [
    "While the model is overfitting less, the scores have not improved whatsoever. We still see the same CV R^2 and RMSE, suggesting that perhaps the model is a) not a good fit for the data or b) the model has reached the capacity of how much it can learn from the data.\n",
    "\n",
    "Since the model has not capped out at any of the hyperparameters (on an end of either complexity or reducing overfitting), this suggets that it further hyperparameter tuning will be unlikely to improve performance significantly.\n",
    "\n",
    "Despite this, it is a 5-10 percent improvement in RMSE over the baseline model, so it is not nothing, though not significant. I will evaluate the final performance of the model with the test set and see how it compares.\n"
   ]
  },
  {
   "cell_type": "code",
   "execution_count": 139,
   "metadata": {},
   "outputs": [
    {
     "name": "stdout",
     "output_type": "stream",
     "text": [
      "Final Model Performance:\n",
      "R²: 0.541\n",
      "RMSE: 1.914\n",
      "MAPE: 298297340872460.750\n"
     ]
    }
   ],
   "source": [
    "r2, rmse, mape = test_final_model(model, X_test, y_test)"
   ]
  },
  {
   "cell_type": "markdown",
   "metadata": {},
   "source": [
    "The results here are very similar to those of the validation set. It does suggest minimal overfitting for the model, however again the scores are not a great improvement over the baseline model.\n",
    "\n",
    "While I do not expect much or any of an improvement, I will repeat this with only the total features to see if I am wrong."
   ]
  },
  {
   "cell_type": "code",
   "execution_count": 141,
   "metadata": {},
   "outputs": [],
   "source": [
    "data = totals_wicket_estimation_df\n",
    "X = data.drop(columns=['final_wickets'])\n",
    "y = data['final_wickets']\n",
    "\n",
    "X_train, X_test, y_train, y_test = train_test_split(X, y, test_size=test_size, random_state=random_state)"
   ]
  },
  {
   "cell_type": "code",
   "execution_count": 142,
   "metadata": {},
   "outputs": [
    {
     "name": "stdout",
     "output_type": "stream",
     "text": [
      "Cross-Validation Analysis:\n",
      "\n",
      "R² Scores:\n",
      "Training Average: 0.927 ± 0.000\n",
      "CV Average: 0.477 ± 0.012\n",
      "Gap (Train-CV): 0.450\n",
      "CV Consistency: Stable\n",
      "\n",
      "RMSE Scores:\n",
      "Training Average: 0.757 ± 0.003\n",
      "CV Average: 2.025 ± 0.022\n",
      "Gap (CV-Train): 1.269\n",
      "\n",
      "MAPE Scores:\n",
      "Training Average: 101482163357139.844 ± 3807303728736.096\n",
      "CV Average: 278734270683032.312 ± 55129956444989.617\n",
      "Gap (CV-Train): 177252107325892.469\n",
      "\n",
      "Top 10 Most Important Features:\n",
      "                          Feature  Importance\n",
      "7           mean_wickets_conceded    0.490366\n",
      "3              mean_wickets_taken    0.121427\n",
      "5     total_high_scoring_hit_mean    0.099266\n",
      "1       mean_extras_runs_conceded    0.084365\n",
      "4         mean_batter_runs_scored    0.052550\n",
      "6                total_total_mean    0.051002\n",
      "2  total_total_runs_conceded_mean    0.050753\n",
      "0       mean_batter_runs_conceded    0.050270\n"
     ]
    }
   ],
   "source": [
    "# No Hyperparameter tuning:\n",
    "model, analysis, feature_importance = do_random_forest(X_train, y_train, cv=5, random_state=42)"
   ]
  },
  {
   "cell_type": "code",
   "execution_count": 143,
   "metadata": {},
   "outputs": [
    {
     "name": "stdout",
     "output_type": "stream",
     "text": [
      "Fitting 5 folds for each of 10 candidates, totalling 50 fits\n",
      "[CV] END max_depth=50, max_features=None, min_samples_leaf=2, min_samples_split=2, n_estimators=100; total time=   3.6s\n",
      "[CV] END max_depth=50, max_features=None, min_samples_leaf=2, min_samples_split=2, n_estimators=100; total time=   3.7s\n",
      "[CV] END max_depth=50, max_features=None, min_samples_leaf=2, min_samples_split=2, n_estimators=100; total time=   3.7s[CV] END max_depth=50, max_features=None, min_samples_leaf=2, min_samples_split=2, n_estimators=100; total time=   3.7s\n",
      "\n",
      "[CV] END max_depth=50, max_features=None, min_samples_leaf=2, min_samples_split=2, n_estimators=100; total time=   3.7s\n",
      "[CV] END max_depth=20, max_features=sqrt, min_samples_leaf=16, min_samples_split=2, n_estimators=500; total time=   3.8s\n",
      "[CV] END max_depth=20, max_features=sqrt, min_samples_leaf=16, min_samples_split=2, n_estimators=500; total time=   3.8s\n",
      "[CV] END max_depth=20, max_features=sqrt, min_samples_leaf=16, min_samples_split=2, n_estimators=500; total time=   4.0s\n",
      "[CV] END max_depth=20, max_features=log2, min_samples_leaf=2, min_samples_split=10, n_estimators=100; total time=   1.5s\n",
      "[CV] END max_depth=20, max_features=log2, min_samples_leaf=2, min_samples_split=10, n_estimators=100; total time=   1.4s\n",
      "[CV] END max_depth=30, max_features=log2, min_samples_leaf=1, min_samples_split=5, n_estimators=200; total time=   3.3s\n",
      "[CV] END max_depth=30, max_features=log2, min_samples_leaf=1, min_samples_split=5, n_estimators=200; total time=   3.4s\n",
      "[CV] END max_depth=30, max_features=log2, min_samples_leaf=1, min_samples_split=5, n_estimators=200; total time=   3.3s\n",
      "[CV] END max_depth=30, max_features=log2, min_samples_leaf=1, min_samples_split=5, n_estimators=200; total time=   3.5s\n",
      "[CV] END max_depth=30, max_features=log2, min_samples_leaf=1, min_samples_split=5, n_estimators=200; total time=   3.5s\n",
      "[CV] END max_depth=20, max_features=sqrt, min_samples_leaf=16, min_samples_split=2, n_estimators=500; total time=   3.9s\n",
      "[CV] END max_depth=20, max_features=sqrt, min_samples_leaf=16, min_samples_split=2, n_estimators=500; total time=   4.0s\n",
      "[CV] END max_depth=20, max_features=log2, min_samples_leaf=2, min_samples_split=10, n_estimators=100; total time=   1.4s\n",
      "[CV] END max_depth=20, max_features=log2, min_samples_leaf=2, min_samples_split=10, n_estimators=100; total time=   1.5s\n",
      "[CV] END max_depth=20, max_features=log2, min_samples_leaf=2, min_samples_split=10, n_estimators=100; total time=   1.4s\n",
      "[CV] END max_depth=10, max_features=log2, min_samples_leaf=16, min_samples_split=20, n_estimators=500; total time=   4.8s\n",
      "[CV] END max_depth=10, max_features=log2, min_samples_leaf=16, min_samples_split=20, n_estimators=500; total time=   4.9s\n",
      "[CV] END max_depth=10, max_features=log2, min_samples_leaf=16, min_samples_split=20, n_estimators=500; total time=   4.9s\n",
      "[CV] END max_depth=10, max_features=log2, min_samples_leaf=16, min_samples_split=20, n_estimators=500; total time=   4.8s\n",
      "[CV] END max_depth=10, max_features=log2, min_samples_leaf=16, min_samples_split=20, n_estimators=500; total time=   4.9s\n",
      "[CV] END max_depth=20, max_features=log2, min_samples_leaf=4, min_samples_split=10, n_estimators=400; total time=   5.2s\n",
      "[CV] END max_depth=20, max_features=log2, min_samples_leaf=4, min_samples_split=10, n_estimators=400; total time=   5.2s\n",
      "[CV] END max_depth=20, max_features=log2, min_samples_leaf=4, min_samples_split=10, n_estimators=400; total time=   5.3s\n",
      "[CV] END max_depth=50, max_features=None, min_samples_leaf=2, min_samples_split=10, n_estimators=500; total time=  16.6s\n",
      "[CV] END max_depth=20, max_features=log2, min_samples_leaf=4, min_samples_split=10, n_estimators=400; total time=   5.3s\n",
      "[CV] END max_depth=50, max_features=None, min_samples_leaf=2, min_samples_split=10, n_estimators=500; total time=  16.5s\n",
      "[CV] END max_depth=50, max_features=None, min_samples_leaf=2, min_samples_split=10, n_estimators=500; total time=  16.7s\n",
      "[CV] END max_depth=50, max_features=None, min_samples_leaf=2, min_samples_split=10, n_estimators=500; total time=  17.1s\n",
      "[CV] END max_depth=50, max_features=None, min_samples_leaf=2, min_samples_split=10, n_estimators=500; total time=  16.7s\n",
      "[CV] END max_depth=20, max_features=log2, min_samples_leaf=4, min_samples_split=10, n_estimators=400; total time=   5.2s\n",
      "[CV] END max_depth=50, max_features=None, min_samples_leaf=16, min_samples_split=10, n_estimators=200; total time=   4.7s\n",
      "[CV] END max_depth=50, max_features=None, min_samples_leaf=16, min_samples_split=10, n_estimators=200; total time=   4.6s\n",
      "[CV] END max_depth=50, max_features=log2, min_samples_leaf=2, min_samples_split=10, n_estimators=400; total time=   5.7s\n",
      "[CV] END max_depth=50, max_features=log2, min_samples_leaf=2, min_samples_split=10, n_estimators=400; total time=   5.5s\n",
      "[CV] END max_depth=50, max_features=log2, min_samples_leaf=2, min_samples_split=10, n_estimators=400; total time=   5.8s\n",
      "[CV] END max_depth=50, max_features=log2, min_samples_leaf=2, min_samples_split=10, n_estimators=400; total time=   5.6s\n",
      "[CV] END max_depth=50, max_features=log2, min_samples_leaf=2, min_samples_split=10, n_estimators=400; total time=   5.7s\n",
      "[CV] END max_depth=100, max_features=None, min_samples_leaf=4, min_samples_split=20, n_estimators=100; total time=   2.9s\n",
      "[CV] END max_depth=100, max_features=None, min_samples_leaf=4, min_samples_split=20, n_estimators=100; total time=   2.9s\n",
      "[CV] END max_depth=100, max_features=None, min_samples_leaf=4, min_samples_split=20, n_estimators=100; total time=   2.8s\n",
      "[CV] END max_depth=100, max_features=None, min_samples_leaf=4, min_samples_split=20, n_estimators=100; total time=   2.9s\n",
      "[CV] END max_depth=100, max_features=None, min_samples_leaf=4, min_samples_split=20, n_estimators=100; total time=   2.8s\n",
      "[CV] END max_depth=50, max_features=None, min_samples_leaf=16, min_samples_split=10, n_estimators=200; total time=   4.6s\n",
      "[CV] END max_depth=50, max_features=None, min_samples_leaf=16, min_samples_split=10, n_estimators=200; total time=   4.4s\n",
      "[CV] END max_depth=50, max_features=None, min_samples_leaf=16, min_samples_split=10, n_estimators=200; total time=   4.5s\n",
      "Best parameters: {'n_estimators': 400, 'min_samples_split': 10, 'min_samples_leaf': 4, 'max_features': 'log2', 'max_depth': 20}\n",
      "CV Score: 0.5004233407735772\n",
      "Final Score: 0.7689006218829011\n"
     ]
    }
   ],
   "source": [
    "model, kwargs = tune_random_forest(X_train, y_train)"
   ]
  },
  {
   "cell_type": "code",
   "execution_count": 144,
   "metadata": {},
   "outputs": [
    {
     "name": "stdout",
     "output_type": "stream",
     "text": [
      "Cross-Validation Analysis:\n",
      "\n",
      "R² Scores:\n",
      "Training Average: 0.768 ± 0.001\n",
      "CV Average: 0.500 ± 0.014\n",
      "Gap (Train-CV): 0.268\n",
      "CV Consistency: Stable\n",
      "\n",
      "RMSE Scores:\n",
      "Training Average: 1.349 ± 0.005\n",
      "CV Average: 1.980 ± 0.034\n",
      "Gap (CV-Train): 0.631\n",
      "\n",
      "MAPE Scores:\n",
      "Training Average: 203878937434920.500 ± 8348068630364.134\n",
      "CV Average: 290926562965318.438 ± 60395113572165.492\n",
      "Gap (CV-Train): 87047625530397.938\n",
      "\n",
      "Top 10 Most Important Features:\n",
      "                          Feature  Importance\n",
      "7           mean_wickets_conceded    0.478821\n",
      "3              mean_wickets_taken    0.132890\n",
      "5     total_high_scoring_hit_mean    0.107585\n",
      "1       mean_extras_runs_conceded    0.066748\n",
      "6                total_total_mean    0.063595\n",
      "4         mean_batter_runs_scored    0.058719\n",
      "0       mean_batter_runs_conceded    0.045857\n",
      "2  total_total_runs_conceded_mean    0.045786\n"
     ]
    }
   ],
   "source": [
    "model, analysis, feature_importance = do_random_forest(X_train, y_train, cv=5, random_state=42, **kwargs)"
   ]
  },
  {
   "cell_type": "markdown",
   "metadata": {},
   "source": [
    "Interestingly, the hyperparameter tuning does lead to more of an improvement here than while using all features. That being said, it still performs worse than said model (albeit marginally better than the baseline). I expect altering model complexity to again have very limited impact based on all of the results up to this point, hence I do not expect to gain anything from trying it."
   ]
  },
  {
   "cell_type": "code",
   "execution_count": 145,
   "metadata": {},
   "outputs": [
    {
     "name": "stdout",
     "output_type": "stream",
     "text": [
      "Final Model Performance:\n",
      "R²: 0.503\n",
      "RMSE: 1.992\n",
      "MAPE: 330637638622981.625\n"
     ]
    }
   ],
   "source": [
    "r2, rmse, mape = test_final_model(model, X_test, y_test)"
   ]
  },
  {
   "cell_type": "markdown",
   "metadata": {},
   "source": [
    "As seen with the cross validation results, the model does not outperform the similar one with a full feature set, albeit it does marginally better than the baseline."
   ]
  }
 ],
 "metadata": {
  "kernelspec": {
   "display_name": "coding-task-BR_zkfTV-py3.12",
   "language": "python",
   "name": "python3"
  },
  "language_info": {
   "codemirror_mode": {
    "name": "ipython",
    "version": 3
   },
   "file_extension": ".py",
   "mimetype": "text/x-python",
   "name": "python",
   "nbconvert_exporter": "python",
   "pygments_lexer": "ipython3",
   "version": "3.12.5"
  }
 },
 "nbformat": 4,
 "nbformat_minor": 2
}
