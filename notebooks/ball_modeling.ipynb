{
 "cells": [
  {
   "cell_type": "markdown",
   "metadata": {},
   "source": [
    "# Simulating a cricket game\n",
    "\n",
    "Seperately from the previous modeling, where I tried to predict the outcome of a game based on the stats of the players, I want to attempt to model a cricket game itself, ball by ball.\n",
    "\n",
    "I will create three models:\n",
    "1. A model that predicts the probability of a wicket occuring in a ball.\n",
    "2. A model predicting the number of extras resulting from a ball.\n",
    "3. A model predicting the number of runs scored by a ball.\n",
    "\n",
    "These will then be combined into a cricket simulator with the aim of predicting the outcome of a game through modelling the sequence of events within it."
   ]
  },
  {
   "cell_type": "code",
   "execution_count": 2,
   "metadata": {},
   "outputs": [],
   "source": [
    "import pandas as pd\n",
    "import numpy as np\n",
    "import matplotlib.pyplot as plt\n",
    "import ast\n",
    "from joblib import dump, load\n",
    "import traceback\n",
    "import sys\n",
    "\n",
    "from sklearn.model_selection import train_test_split\n",
    "from sklearn.feature_selection import RFE\n",
    "from sklearn.linear_model import LinearRegression\n",
    "from sklearn.metrics import mean_squared_error, r2_score, mean_absolute_error, mean_absolute_percentage_error, f1_score\n",
    "from sklearn.ensemble import RandomForestClassifier, RandomForestRegressor\n",
    "from sklearn.model_selection import GridSearchCV, RandomizedSearchCV\n",
    "from sklearn.model_selection import cross_validate\n",
    "from sklearn.preprocessing import OneHotEncoder"
   ]
  },
  {
   "cell_type": "markdown",
   "metadata": {},
   "source": [
    "# 1. Predicting the probability of a wicket occuring in a ball"
   ]
  },
  {
   "cell_type": "code",
   "execution_count": 2,
   "metadata": {},
   "outputs": [
    {
     "name": "stdout",
     "output_type": "stream",
     "text": [
      "<class 'pandas.core.frame.DataFrame'>\n",
      "RangeIndex: 857199 entries, 0 to 857198\n",
      "Data columns (total 29 columns):\n",
      " #   Column                Non-Null Count   Dtype  \n",
      "---  ------                --------------   -----  \n",
      " 0   game_id               857199 non-null  object \n",
      " 1   date                  857199 non-null  object \n",
      " 2   venue                 857199 non-null  object \n",
      " 3   location              816895 non-null  object \n",
      " 4   gender                857199 non-null  object \n",
      " 5   match_type            857199 non-null  object \n",
      " 6   innings               857199 non-null  int64  \n",
      " 7   batting_team          857199 non-null  object \n",
      " 8   bowling_team          857199 non-null  object \n",
      " 9   batting_team_players  857199 non-null  object \n",
      " 10  bowling_team_players  857199 non-null  object \n",
      " 11  over                  857199 non-null  int64  \n",
      " 12  ball_in_over          857199 non-null  int64  \n",
      " 13  batter                857199 non-null  object \n",
      " 14  bowler                857199 non-null  object \n",
      " 15  non_striker           857199 non-null  object \n",
      " 16  runs_batter           857199 non-null  int64  \n",
      " 17  extras                857199 non-null  int64  \n",
      " 18  total                 857199 non-null  int64  \n",
      " 19  is_wicket             857199 non-null  bool   \n",
      " 20  wicket_type           47416 non-null   object \n",
      " 21  fielder               29853 non-null   object \n",
      " 22  player_out            47416 non-null   object \n",
      " 23  target_runs           392608 non-null  float64\n",
      " 24  target_overs          392608 non-null  float64\n",
      " 25  current_runs          857199 non-null  int64  \n",
      " 26  current_wickets       857199 non-null  int64  \n",
      " 27  powerplay             857199 non-null  bool   \n",
      " 28  extras_details        55337 non-null   object \n",
      "dtypes: bool(2), float64(2), int64(8), object(17)\n",
      "memory usage: 178.2+ MB\n"
     ]
    }
   ],
   "source": [
    "data = pd.read_csv('../data/saved_data/all_matches.csv')\n",
    "data.info()"
   ]
  },
  {
   "cell_type": "code",
   "execution_count": 3,
   "metadata": {},
   "outputs": [
    {
     "data": {
      "text/plain": [
       "freehit\n",
       "False    852523\n",
       "True       4676\n",
       "Name: count, dtype: int64"
      ]
     },
     "execution_count": 3,
     "metadata": {},
     "output_type": "execute_result"
    }
   ],
   "source": [
    "data['extras_details'] = data['extras_details'].apply(lambda x: ast.literal_eval(x) if not pd.isna(x) else {})\n",
    "data['freehit'] = data['extras_details'].apply(lambda x: 'noballs' in list(x.keys()))\n",
    "data['freehit'].value_counts()"
   ]
  },
  {
   "cell_type": "code",
   "execution_count": 4,
   "metadata": {},
   "outputs": [],
   "source": [
    "# Before I do anything, I am going to seperate my data into training and testing sets.\n",
    "# The training set will be used to train all the models/make distributions for the simulator\n",
    "# The test set will be used to test the overall model at the end.\n",
    "\n",
    "\n",
    "unique_games = data['game_id'].unique()\n",
    "train_games, test_games = train_test_split(unique_games, test_size=0.2, random_state=42)\n",
    "\n",
    "train_data = data[data['game_id'].isin(train_games)]\n",
    "test_data = data[data['game_id'].isin(test_games)]\n",
    "\n",
    "test_data.to_csv('../data/saved_data/simulation_test_data.csv', index=False)\n",
    "data = train_data"
   ]
  },
  {
   "cell_type": "code",
   "execution_count": 5,
   "metadata": {},
   "outputs": [],
   "source": [
    "batter_stats = pd.read_csv('../data/saved_data/batter_stats.csv')\n",
    "bowler_stats = pd.read_csv('../data/saved_data/bowler_stats.csv')"
   ]
  },
  {
   "cell_type": "code",
   "execution_count": 6,
   "metadata": {},
   "outputs": [
    {
     "data": {
      "text/html": [
       "<div>\n",
       "<style scoped>\n",
       "    .dataframe tbody tr th:only-of-type {\n",
       "        vertical-align: middle;\n",
       "    }\n",
       "\n",
       "    .dataframe tbody tr th {\n",
       "        vertical-align: top;\n",
       "    }\n",
       "\n",
       "    .dataframe thead th {\n",
       "        text-align: right;\n",
       "    }\n",
       "</style>\n",
       "<table border=\"1\" class=\"dataframe\">\n",
       "  <thead>\n",
       "    <tr style=\"text-align: right;\">\n",
       "      <th></th>\n",
       "      <th>batter</th>\n",
       "      <th>total_runs_batter_mean</th>\n",
       "      <th>total_high_scoring_hit_mean</th>\n",
       "      <th>total_total_mean</th>\n",
       "      <th>total_is_wicket_mean</th>\n",
       "      <th>powerplay_runs_batter_mean</th>\n",
       "      <th>powerplay_high_scoring_hit_mean</th>\n",
       "      <th>powerplay_total_mean</th>\n",
       "      <th>powerplay_is_wicket_mean</th>\n",
       "      <th>non_powerplay_runs_batter_mean</th>\n",
       "      <th>non_powerplay_high_scoring_hit_mean</th>\n",
       "      <th>non_powerplay_total_mean</th>\n",
       "      <th>non_powerplay_is_wicket_mean</th>\n",
       "    </tr>\n",
       "  </thead>\n",
       "  <tbody>\n",
       "    <tr>\n",
       "      <th>0</th>\n",
       "      <td>00015688</td>\n",
       "      <td>0.294118</td>\n",
       "      <td>0.029412</td>\n",
       "      <td>0.485294</td>\n",
       "      <td>0.044118</td>\n",
       "      <td>0.375</td>\n",
       "      <td>0.05</td>\n",
       "      <td>0.525</td>\n",
       "      <td>0.025</td>\n",
       "      <td>0.178571</td>\n",
       "      <td>0.000000</td>\n",
       "      <td>0.428571</td>\n",
       "      <td>0.071429</td>\n",
       "    </tr>\n",
       "    <tr>\n",
       "      <th>1</th>\n",
       "      <td>00029c30</td>\n",
       "      <td>0.454545</td>\n",
       "      <td>0.000000</td>\n",
       "      <td>0.818182</td>\n",
       "      <td>0.000000</td>\n",
       "      <td>NaN</td>\n",
       "      <td>NaN</td>\n",
       "      <td>NaN</td>\n",
       "      <td>NaN</td>\n",
       "      <td>0.454545</td>\n",
       "      <td>0.000000</td>\n",
       "      <td>0.818182</td>\n",
       "      <td>0.000000</td>\n",
       "    </tr>\n",
       "    <tr>\n",
       "      <th>2</th>\n",
       "      <td>0030a57d</td>\n",
       "      <td>0.533333</td>\n",
       "      <td>0.000000</td>\n",
       "      <td>0.733333</td>\n",
       "      <td>0.000000</td>\n",
       "      <td>NaN</td>\n",
       "      <td>NaN</td>\n",
       "      <td>NaN</td>\n",
       "      <td>NaN</td>\n",
       "      <td>0.533333</td>\n",
       "      <td>0.000000</td>\n",
       "      <td>0.733333</td>\n",
       "      <td>0.000000</td>\n",
       "    </tr>\n",
       "    <tr>\n",
       "      <th>3</th>\n",
       "      <td>00321fff</td>\n",
       "      <td>0.612245</td>\n",
       "      <td>0.040816</td>\n",
       "      <td>0.673469</td>\n",
       "      <td>0.081633</td>\n",
       "      <td>NaN</td>\n",
       "      <td>NaN</td>\n",
       "      <td>NaN</td>\n",
       "      <td>NaN</td>\n",
       "      <td>0.612245</td>\n",
       "      <td>0.040816</td>\n",
       "      <td>0.673469</td>\n",
       "      <td>0.081633</td>\n",
       "    </tr>\n",
       "    <tr>\n",
       "      <th>4</th>\n",
       "      <td>00467a76</td>\n",
       "      <td>0.974684</td>\n",
       "      <td>0.101266</td>\n",
       "      <td>1.088608</td>\n",
       "      <td>0.101266</td>\n",
       "      <td>NaN</td>\n",
       "      <td>NaN</td>\n",
       "      <td>NaN</td>\n",
       "      <td>NaN</td>\n",
       "      <td>0.974684</td>\n",
       "      <td>0.101266</td>\n",
       "      <td>1.088608</td>\n",
       "      <td>0.101266</td>\n",
       "    </tr>\n",
       "  </tbody>\n",
       "</table>\n",
       "</div>"
      ],
      "text/plain": [
       "     batter  total_runs_batter_mean  total_high_scoring_hit_mean  \\\n",
       "0  00015688                0.294118                     0.029412   \n",
       "1  00029c30                0.454545                     0.000000   \n",
       "2  0030a57d                0.533333                     0.000000   \n",
       "3  00321fff                0.612245                     0.040816   \n",
       "4  00467a76                0.974684                     0.101266   \n",
       "\n",
       "   total_total_mean  total_is_wicket_mean  powerplay_runs_batter_mean  \\\n",
       "0          0.485294              0.044118                       0.375   \n",
       "1          0.818182              0.000000                         NaN   \n",
       "2          0.733333              0.000000                         NaN   \n",
       "3          0.673469              0.081633                         NaN   \n",
       "4          1.088608              0.101266                         NaN   \n",
       "\n",
       "   powerplay_high_scoring_hit_mean  powerplay_total_mean  \\\n",
       "0                             0.05                 0.525   \n",
       "1                              NaN                   NaN   \n",
       "2                              NaN                   NaN   \n",
       "3                              NaN                   NaN   \n",
       "4                              NaN                   NaN   \n",
       "\n",
       "   powerplay_is_wicket_mean  non_powerplay_runs_batter_mean  \\\n",
       "0                     0.025                        0.178571   \n",
       "1                       NaN                        0.454545   \n",
       "2                       NaN                        0.533333   \n",
       "3                       NaN                        0.612245   \n",
       "4                       NaN                        0.974684   \n",
       "\n",
       "   non_powerplay_high_scoring_hit_mean  non_powerplay_total_mean  \\\n",
       "0                             0.000000                  0.428571   \n",
       "1                             0.000000                  0.818182   \n",
       "2                             0.000000                  0.733333   \n",
       "3                             0.040816                  0.673469   \n",
       "4                             0.101266                  1.088608   \n",
       "\n",
       "   non_powerplay_is_wicket_mean  \n",
       "0                      0.071429  \n",
       "1                      0.000000  \n",
       "2                      0.000000  \n",
       "3                      0.081633  \n",
       "4                      0.101266  "
      ]
     },
     "execution_count": 6,
     "metadata": {},
     "output_type": "execute_result"
    }
   ],
   "source": [
    "batter_stats.head()"
   ]
  },
  {
   "cell_type": "code",
   "execution_count": 7,
   "metadata": {},
   "outputs": [
    {
     "data": {
      "text/html": [
       "<div>\n",
       "<style scoped>\n",
       "    .dataframe tbody tr th:only-of-type {\n",
       "        vertical-align: middle;\n",
       "    }\n",
       "\n",
       "    .dataframe tbody tr th {\n",
       "        vertical-align: top;\n",
       "    }\n",
       "\n",
       "    .dataframe thead th {\n",
       "        text-align: right;\n",
       "    }\n",
       "</style>\n",
       "<table border=\"1\" class=\"dataframe\">\n",
       "  <thead>\n",
       "    <tr style=\"text-align: right;\">\n",
       "      <th></th>\n",
       "      <th>bowler</th>\n",
       "      <th>total_batter_runs_conceded_mean</th>\n",
       "      <th>total_runs_from_relevant_extras_mean</th>\n",
       "      <th>total_total_runs_conceded_mean</th>\n",
       "      <th>total_taken_from_relevant_wickets_mean</th>\n",
       "      <th>powerplay_batter_runs_conceded_mean</th>\n",
       "      <th>powerplay_runs_from_relevant_extras_mean</th>\n",
       "      <th>powerplay_total_runs_conceded_mean</th>\n",
       "      <th>powerplay_taken_from_relevant_wickets_mean</th>\n",
       "      <th>non_powerplay_batter_runs_conceded_mean</th>\n",
       "      <th>non_powerplay_runs_from_relevant_extras_mean</th>\n",
       "      <th>non_powerplay_total_runs_conceded_mean</th>\n",
       "      <th>non_powerplay_taken_from_relevant_wickets_mean</th>\n",
       "    </tr>\n",
       "  </thead>\n",
       "  <tbody>\n",
       "    <tr>\n",
       "      <th>0</th>\n",
       "      <td>00029c30</td>\n",
       "      <td>1.090909</td>\n",
       "      <td>0.060606</td>\n",
       "      <td>1.151515</td>\n",
       "      <td>0.045455</td>\n",
       "      <td>NaN</td>\n",
       "      <td>NaN</td>\n",
       "      <td>NaN</td>\n",
       "      <td>NaN</td>\n",
       "      <td>1.090909</td>\n",
       "      <td>0.060606</td>\n",
       "      <td>1.151515</td>\n",
       "      <td>0.045455</td>\n",
       "    </tr>\n",
       "    <tr>\n",
       "      <th>1</th>\n",
       "      <td>00321fff</td>\n",
       "      <td>1.067210</td>\n",
       "      <td>0.036660</td>\n",
       "      <td>1.107943</td>\n",
       "      <td>0.052953</td>\n",
       "      <td>NaN</td>\n",
       "      <td>NaN</td>\n",
       "      <td>NaN</td>\n",
       "      <td>NaN</td>\n",
       "      <td>1.067210</td>\n",
       "      <td>0.036660</td>\n",
       "      <td>1.107943</td>\n",
       "      <td>0.052953</td>\n",
       "    </tr>\n",
       "    <tr>\n",
       "      <th>2</th>\n",
       "      <td>00467a76</td>\n",
       "      <td>1.236742</td>\n",
       "      <td>0.068182</td>\n",
       "      <td>1.348485</td>\n",
       "      <td>0.066288</td>\n",
       "      <td>1.331034</td>\n",
       "      <td>0.048276</td>\n",
       "      <td>1.427586</td>\n",
       "      <td>0.055172</td>\n",
       "      <td>1.201044</td>\n",
       "      <td>0.075718</td>\n",
       "      <td>1.318538</td>\n",
       "      <td>0.070496</td>\n",
       "    </tr>\n",
       "    <tr>\n",
       "      <th>3</th>\n",
       "      <td>005f0561</td>\n",
       "      <td>0.864734</td>\n",
       "      <td>0.021739</td>\n",
       "      <td>0.898551</td>\n",
       "      <td>0.057971</td>\n",
       "      <td>0.757396</td>\n",
       "      <td>0.017751</td>\n",
       "      <td>0.775148</td>\n",
       "      <td>0.041420</td>\n",
       "      <td>0.938776</td>\n",
       "      <td>0.024490</td>\n",
       "      <td>0.983673</td>\n",
       "      <td>0.069388</td>\n",
       "    </tr>\n",
       "    <tr>\n",
       "      <th>4</th>\n",
       "      <td>007113d7</td>\n",
       "      <td>1.008584</td>\n",
       "      <td>0.025751</td>\n",
       "      <td>1.068670</td>\n",
       "      <td>0.081545</td>\n",
       "      <td>NaN</td>\n",
       "      <td>NaN</td>\n",
       "      <td>NaN</td>\n",
       "      <td>NaN</td>\n",
       "      <td>1.008584</td>\n",
       "      <td>0.025751</td>\n",
       "      <td>1.068670</td>\n",
       "      <td>0.081545</td>\n",
       "    </tr>\n",
       "  </tbody>\n",
       "</table>\n",
       "</div>"
      ],
      "text/plain": [
       "     bowler  total_batter_runs_conceded_mean  \\\n",
       "0  00029c30                         1.090909   \n",
       "1  00321fff                         1.067210   \n",
       "2  00467a76                         1.236742   \n",
       "3  005f0561                         0.864734   \n",
       "4  007113d7                         1.008584   \n",
       "\n",
       "   total_runs_from_relevant_extras_mean  total_total_runs_conceded_mean  \\\n",
       "0                              0.060606                        1.151515   \n",
       "1                              0.036660                        1.107943   \n",
       "2                              0.068182                        1.348485   \n",
       "3                              0.021739                        0.898551   \n",
       "4                              0.025751                        1.068670   \n",
       "\n",
       "   total_taken_from_relevant_wickets_mean  \\\n",
       "0                                0.045455   \n",
       "1                                0.052953   \n",
       "2                                0.066288   \n",
       "3                                0.057971   \n",
       "4                                0.081545   \n",
       "\n",
       "   powerplay_batter_runs_conceded_mean  \\\n",
       "0                                  NaN   \n",
       "1                                  NaN   \n",
       "2                             1.331034   \n",
       "3                             0.757396   \n",
       "4                                  NaN   \n",
       "\n",
       "   powerplay_runs_from_relevant_extras_mean  \\\n",
       "0                                       NaN   \n",
       "1                                       NaN   \n",
       "2                                  0.048276   \n",
       "3                                  0.017751   \n",
       "4                                       NaN   \n",
       "\n",
       "   powerplay_total_runs_conceded_mean  \\\n",
       "0                                 NaN   \n",
       "1                                 NaN   \n",
       "2                            1.427586   \n",
       "3                            0.775148   \n",
       "4                                 NaN   \n",
       "\n",
       "   powerplay_taken_from_relevant_wickets_mean  \\\n",
       "0                                         NaN   \n",
       "1                                         NaN   \n",
       "2                                    0.055172   \n",
       "3                                    0.041420   \n",
       "4                                         NaN   \n",
       "\n",
       "   non_powerplay_batter_runs_conceded_mean  \\\n",
       "0                                 1.090909   \n",
       "1                                 1.067210   \n",
       "2                                 1.201044   \n",
       "3                                 0.938776   \n",
       "4                                 1.008584   \n",
       "\n",
       "   non_powerplay_runs_from_relevant_extras_mean  \\\n",
       "0                                      0.060606   \n",
       "1                                      0.036660   \n",
       "2                                      0.075718   \n",
       "3                                      0.024490   \n",
       "4                                      0.025751   \n",
       "\n",
       "   non_powerplay_total_runs_conceded_mean  \\\n",
       "0                                1.151515   \n",
       "1                                1.107943   \n",
       "2                                1.318538   \n",
       "3                                0.983673   \n",
       "4                                1.068670   \n",
       "\n",
       "   non_powerplay_taken_from_relevant_wickets_mean  \n",
       "0                                        0.045455  \n",
       "1                                        0.052953  \n",
       "2                                        0.070496  \n",
       "3                                        0.069388  \n",
       "4                                        0.081545  "
      ]
     },
     "execution_count": 7,
     "metadata": {},
     "output_type": "execute_result"
    }
   ],
   "source": [
    "bowler_stats.head()"
   ]
  },
  {
   "cell_type": "code",
   "execution_count": 8,
   "metadata": {},
   "outputs": [],
   "source": [
    "powerplay_balls = data[data['powerplay'] == True][['batter', 'bowler', 'is_wicket', 'freehit']]\n",
    "powerplay_batter_stats = batter_stats[['batter'] + [col for col in batter_stats.columns if 'powerplay' in col[:9]]]\n",
    "powerplay_bowler_stats = bowler_stats[['bowler'] + [col for col in bowler_stats.columns if 'powerplay' in col[:9]]]\n",
    "\n",
    "non_powerplay_balls = data[data['powerplay'] == False][['batter', 'bowler', 'is_wicket', 'freehit']]\n",
    "non_powerplay_batter_stats = batter_stats[['batter'] + [col for col in batter_stats.columns if 'non_powerplay' in col[:13]]]\n",
    "non_powerplay_bowler_stats = bowler_stats[['bowler'] + [col for col in bowler_stats.columns if 'non_powerplay' in col[:13]]]"
   ]
  },
  {
   "cell_type": "markdown",
   "metadata": {},
   "source": [
    "Due to time constraints, their performance and ease of use, I will be using a random forest classifierto predict the probability of a wicket occuring in a ball. It's ability to easily return class probabilities rather than just the classes makes it useful here too."
   ]
  },
  {
   "cell_type": "code",
   "execution_count": 9,
   "metadata": {},
   "outputs": [
    {
     "data": {
      "text/html": [
       "<div>\n",
       "<style scoped>\n",
       "    .dataframe tbody tr th:only-of-type {\n",
       "        vertical-align: middle;\n",
       "    }\n",
       "\n",
       "    .dataframe tbody tr th {\n",
       "        vertical-align: top;\n",
       "    }\n",
       "\n",
       "    .dataframe thead th {\n",
       "        text-align: right;\n",
       "    }\n",
       "</style>\n",
       "<table border=\"1\" class=\"dataframe\">\n",
       "  <thead>\n",
       "    <tr style=\"text-align: right;\">\n",
       "      <th></th>\n",
       "      <th>is_wicket</th>\n",
       "      <th>freehit</th>\n",
       "      <th>powerplay_runs_batter_mean</th>\n",
       "      <th>powerplay_high_scoring_hit_mean</th>\n",
       "      <th>powerplay_total_mean</th>\n",
       "      <th>powerplay_is_wicket_mean</th>\n",
       "      <th>powerplay_batter_runs_conceded_mean</th>\n",
       "      <th>powerplay_runs_from_relevant_extras_mean</th>\n",
       "      <th>powerplay_total_runs_conceded_mean</th>\n",
       "      <th>powerplay_taken_from_relevant_wickets_mean</th>\n",
       "    </tr>\n",
       "  </thead>\n",
       "  <tbody>\n",
       "    <tr>\n",
       "      <th>0</th>\n",
       "      <td>False</td>\n",
       "      <td>False</td>\n",
       "      <td>1.329810</td>\n",
       "      <td>0.228330</td>\n",
       "      <td>1.439746</td>\n",
       "      <td>0.033827</td>\n",
       "      <td>0.65942</td>\n",
       "      <td>0.144928</td>\n",
       "      <td>0.855072</td>\n",
       "      <td>0.050725</td>\n",
       "    </tr>\n",
       "    <tr>\n",
       "      <th>1</th>\n",
       "      <td>False</td>\n",
       "      <td>False</td>\n",
       "      <td>1.329810</td>\n",
       "      <td>0.228330</td>\n",
       "      <td>1.439746</td>\n",
       "      <td>0.033827</td>\n",
       "      <td>0.65942</td>\n",
       "      <td>0.144928</td>\n",
       "      <td>0.855072</td>\n",
       "      <td>0.050725</td>\n",
       "    </tr>\n",
       "    <tr>\n",
       "      <th>2</th>\n",
       "      <td>False</td>\n",
       "      <td>False</td>\n",
       "      <td>1.329810</td>\n",
       "      <td>0.228330</td>\n",
       "      <td>1.439746</td>\n",
       "      <td>0.033827</td>\n",
       "      <td>0.65942</td>\n",
       "      <td>0.144928</td>\n",
       "      <td>0.855072</td>\n",
       "      <td>0.050725</td>\n",
       "    </tr>\n",
       "    <tr>\n",
       "      <th>3</th>\n",
       "      <td>False</td>\n",
       "      <td>False</td>\n",
       "      <td>1.268603</td>\n",
       "      <td>0.215971</td>\n",
       "      <td>1.333938</td>\n",
       "      <td>0.050817</td>\n",
       "      <td>0.65942</td>\n",
       "      <td>0.144928</td>\n",
       "      <td>0.855072</td>\n",
       "      <td>0.050725</td>\n",
       "    </tr>\n",
       "    <tr>\n",
       "      <th>4</th>\n",
       "      <td>False</td>\n",
       "      <td>False</td>\n",
       "      <td>1.268603</td>\n",
       "      <td>0.215971</td>\n",
       "      <td>1.333938</td>\n",
       "      <td>0.050817</td>\n",
       "      <td>0.65942</td>\n",
       "      <td>0.144928</td>\n",
       "      <td>0.855072</td>\n",
       "      <td>0.050725</td>\n",
       "    </tr>\n",
       "  </tbody>\n",
       "</table>\n",
       "</div>"
      ],
      "text/plain": [
       "   is_wicket  freehit  powerplay_runs_batter_mean  \\\n",
       "0      False    False                    1.329810   \n",
       "1      False    False                    1.329810   \n",
       "2      False    False                    1.329810   \n",
       "3      False    False                    1.268603   \n",
       "4      False    False                    1.268603   \n",
       "\n",
       "   powerplay_high_scoring_hit_mean  powerplay_total_mean  \\\n",
       "0                         0.228330              1.439746   \n",
       "1                         0.228330              1.439746   \n",
       "2                         0.228330              1.439746   \n",
       "3                         0.215971              1.333938   \n",
       "4                         0.215971              1.333938   \n",
       "\n",
       "   powerplay_is_wicket_mean  powerplay_batter_runs_conceded_mean  \\\n",
       "0                  0.033827                              0.65942   \n",
       "1                  0.033827                              0.65942   \n",
       "2                  0.033827                              0.65942   \n",
       "3                  0.050817                              0.65942   \n",
       "4                  0.050817                              0.65942   \n",
       "\n",
       "   powerplay_runs_from_relevant_extras_mean  \\\n",
       "0                                  0.144928   \n",
       "1                                  0.144928   \n",
       "2                                  0.144928   \n",
       "3                                  0.144928   \n",
       "4                                  0.144928   \n",
       "\n",
       "   powerplay_total_runs_conceded_mean  \\\n",
       "0                            0.855072   \n",
       "1                            0.855072   \n",
       "2                            0.855072   \n",
       "3                            0.855072   \n",
       "4                            0.855072   \n",
       "\n",
       "   powerplay_taken_from_relevant_wickets_mean  \n",
       "0                                    0.050725  \n",
       "1                                    0.050725  \n",
       "2                                    0.050725  \n",
       "3                                    0.050725  \n",
       "4                                    0.050725  "
      ]
     },
     "execution_count": 9,
     "metadata": {},
     "output_type": "execute_result"
    }
   ],
   "source": [
    "powerplay_balls_stats = powerplay_balls.merge(powerplay_batter_stats, on='batter', how='left').drop(columns=['batter'])\n",
    "powerplay_balls_stats = powerplay_balls_stats.merge(powerplay_bowler_stats, on='bowler', how='left').drop(columns=['bowler'])\n",
    "\n",
    "non_powerplay_balls_stats = non_powerplay_balls.merge(non_powerplay_batter_stats, on='batter', how='left').drop(columns=['batter'])\n",
    "non_powerplay_balls_stats = non_powerplay_balls_stats.merge(non_powerplay_bowler_stats, on='bowler', how='left').drop(columns=['bowler'])\n",
    "powerplay_balls_stats.head()"
   ]
  },
  {
   "cell_type": "code",
   "execution_count": 10,
   "metadata": {},
   "outputs": [],
   "source": [
    "X_powerplay = powerplay_balls_stats.drop(columns=['is_wicket'])\n",
    "y_powerplay = powerplay_balls_stats['is_wicket']\n",
    "\n",
    "X_train, X_test, y_train, y_test = train_test_split(X_powerplay, y_powerplay, test_size=0.2, random_state=42)"
   ]
  },
  {
   "cell_type": "code",
   "execution_count": 11,
   "metadata": {},
   "outputs": [
    {
     "name": "stdout",
     "output_type": "stream",
     "text": [
      "Model Performance:\n",
      "Train AUC: 0.963 ± 0.000\n",
      "CV AUC: 0.598 ± 0.002\n",
      "Precision: 0.043 ± 0.008\n",
      "Recall: 0.010 ± 0.002\n",
      "F1 Score: 0.016 ± 0.003\n"
     ]
    }
   ],
   "source": [
    "from sklearn.ensemble import RandomForestClassifier\n",
    "\n",
    "def do_random_forest_classifier(X_train, y_train, cv=5, random_state=42, **kwargs):\n",
    "    \"\"\"\n",
    "    Train Random Forest Classifier and get probability predictions\n",
    "    \"\"\"\n",
    "    model = RandomForestClassifier(\n",
    "        random_state=random_state,\n",
    "        **kwargs\n",
    "    )\n",
    "    cv_results = cross_validate(\n",
    "        model,\n",
    "        X_train,\n",
    "        y_train,\n",
    "        cv=cv,\n",
    "        scoring={\n",
    "            'auc': 'roc_auc',\n",
    "            'precision': 'precision', \n",
    "            'recall': 'recall',\n",
    "            'f1': 'f1'\n",
    "        },\n",
    "        return_train_score=True,\n",
    "        verbose=1\n",
    "    )\n",
    "    \n",
    "    model.fit(X_train, y_train)\n",
    "    \n",
    "    print(\"Model Performance:\")\n",
    "    print(f\"Train AUC: {cv_results['train_auc'].mean():.3f} ± {cv_results['train_auc'].std():.3f}\")\n",
    "    print(f\"CV AUC: {cv_results['test_auc'].mean():.3f} ± {cv_results['test_auc'].std():.3f}\")\n",
    "\n",
    "    print(f\"Precision: {cv_results['test_precision'].mean():.3f} ± {cv_results['test_precision'].std():.3f}\")\n",
    "    print(f\"Recall: {cv_results['test_recall'].mean():.3f} ± {cv_results['test_recall'].std():.3f}\")\n",
    "    print(f\"F1 Score: {cv_results['test_f1'].mean():.3f} ± {cv_results['test_f1'].std():.3f}\")\n",
    "    \n",
    "    return model\n",
    "\n",
    "powerplay_wicket_model = do_random_forest_classifier(X_train, y_train)"
   ]
  },
  {
   "cell_type": "code",
   "execution_count": 12,
   "metadata": {},
   "outputs": [
    {
     "data": {
      "text/plain": [
       "['../models/simulation_models/powerplay_wicket_model.joblib']"
      ]
     },
     "execution_count": 12,
     "metadata": {},
     "output_type": "execute_result"
    }
   ],
   "source": [
    "dump(powerplay_wicket_model, '../models/simulation_models/powerplay_wicket_model.joblib')"
   ]
  },
  {
   "cell_type": "code",
   "execution_count": 13,
   "metadata": {},
   "outputs": [
    {
     "data": {
      "text/plain": [
       "array([[1.        , 0.        ],\n",
       "       [1.        , 0.        ],\n",
       "       [1.        , 0.        ],\n",
       "       ...,\n",
       "       [0.87471492, 0.12528508],\n",
       "       [0.93141667, 0.06858333],\n",
       "       [1.        , 0.        ]])"
      ]
     },
     "execution_count": 13,
     "metadata": {},
     "output_type": "execute_result"
    }
   ],
   "source": [
    "powerplay_results = powerplay_wicket_model.predict_proba(X_test)\n",
    "powerplay_results\n"
   ]
  },
  {
   "cell_type": "code",
   "execution_count": 14,
   "metadata": {},
   "outputs": [
    {
     "name": "stdout",
     "output_type": "stream",
     "text": [
      "Proportion of balls where wicket chance is 0: 0.574\n",
      "Max wicket chance: 0.941\n",
      "Mean wicket chance: 0.041\n"
     ]
    }
   ],
   "source": [
    "print(f\"Proportion of balls where wicket chance is 0: {len(powerplay_results[powerplay_results[:, 1] == 0]) / len(powerplay_results):.3f}\")\n",
    "print(f\"Max wicket chance: {powerplay_results[:, 1].max():.3f}\")\n",
    "print(f\"Mean wicket chance: {powerplay_results[:, 1].mean():.3f}\")"
   ]
  },
  {
   "cell_type": "markdown",
   "metadata": {},
   "source": [
    "At a face value these results look awful, and were we trying to use this to classify whether or not a wicket occurs they would be.\n",
    "\n",
    "However, we are trying to predict the probability of a wicket occuring in a ball. Binary classification models return the class with the highest proability - which in our case will pretty much always be no wicket...\n",
    "\n",
    "Therefore, I do not think the low auc/f1 values are a problem.\n",
    "\n",
    "I am however more concerned about the high number of balls with a wicket chance of 0. Since technically, there is always a small chance of a wicket occuring, I am going to add a small 'fudge factor' to the predictions to ensure that this always exists."
   ]
  },
  {
   "cell_type": "code",
   "execution_count": 15,
   "metadata": {},
   "outputs": [
    {
     "name": "stdout",
     "output_type": "stream",
     "text": [
      "Mean actual wicket chance: 0.044\n",
      "Mean predicted wicket chance: 0.041\n",
      "STD of actual wicket chance: 0.205\n",
      "STD of predicted wicket chance: 0.097\n"
     ]
    }
   ],
   "source": [
    "print(f\"Mean actual wicket chance: {powerplay_balls_stats['is_wicket'].mean():.3f}\")\n",
    "print(f\"Mean predicted wicket chance: {powerplay_results[:, 1].mean():.3f}\")\n",
    "\n",
    "print(f\"STD of actual wicket chance: {powerplay_balls_stats['is_wicket'].std():.3f}\")\n",
    "print(f\"STD of predicted wicket chance: {powerplay_results[:, 1].std():.3f}\")"
   ]
  },
  {
   "cell_type": "markdown",
   "metadata": {},
   "source": [
    "The mean wicket chance outputted by the model is 0.04, very similar to the actual wicket chance of 0.039, suggesting that the model is actually fairly representative of the actual wicket chance.\n",
    "\n",
    "Therefore I probably want the fudge factor to be small but non-zero, keeping the mean predicted wicket chance close to the actual wicket chance.\n"
   ]
  },
  {
   "cell_type": "code",
   "execution_count": 16,
   "metadata": {},
   "outputs": [
    {
     "name": "stdout",
     "output_type": "stream",
     "text": [
      "New mean predicted wicket chance: 0.051\n"
     ]
    }
   ],
   "source": [
    "def predict_wicket_probability(model, X, fudge_factor=0.01):\n",
    "    wicket_prob = model.predict_proba(X)[:, 1]\n",
    "    wicket_prop = wicket_prob * (1 - fudge_factor) + fudge_factor\n",
    "    return wicket_prop\n",
    "\n",
    "powerplay_results = predict_wicket_probability(powerplay_wicket_model, X_test, 0.01)\n",
    "print(f\"New mean predicted wicket chance: {powerplay_results.mean():.3f}\")"
   ]
  },
  {
   "cell_type": "markdown",
   "metadata": {},
   "source": [
    "Adding a fudge factor of 1% seems to be alright. While it is arbitrarily chosen, it does keep the mean chance similar to the actual chance while ensuring that there is somewhat of a chance of a wicket occuring at all times."
   ]
  },
  {
   "cell_type": "markdown",
   "metadata": {},
   "source": [
    "# Non powerplay wickets\n",
    "\n",
    "Again, I am going to repeat the exact same process for the non powerplay wickets."
   ]
  },
  {
   "cell_type": "code",
   "execution_count": 17,
   "metadata": {},
   "outputs": [],
   "source": [
    "X_non_powerplay = non_powerplay_balls_stats.drop(columns=['is_wicket'])\n",
    "y_non_powerplay = non_powerplay_balls_stats['is_wicket']\n",
    "\n",
    "X_train, X_test, y_train, y_test = train_test_split(X_non_powerplay, y_non_powerplay, test_size=0.2, random_state=42)"
   ]
  },
  {
   "cell_type": "code",
   "execution_count": 18,
   "metadata": {},
   "outputs": [
    {
     "name": "stdout",
     "output_type": "stream",
     "text": [
      "Model Performance:\n",
      "Train AUC: 0.955 ± 0.000\n",
      "CV AUC: 0.579 ± 0.004\n",
      "Precision: 0.056 ± 0.003\n",
      "Recall: 0.014 ± 0.001\n",
      "F1 Score: 0.022 ± 0.001\n"
     ]
    }
   ],
   "source": [
    "non_powerplay_wicket_model = do_random_forest_classifier(X_train, y_train)"
   ]
  },
  {
   "cell_type": "code",
   "execution_count": 19,
   "metadata": {},
   "outputs": [
    {
     "data": {
      "text/plain": [
       "['../models/simulation_models/non_powerplay_wicket_model.joblib']"
      ]
     },
     "execution_count": 19,
     "metadata": {},
     "output_type": "execute_result"
    }
   ],
   "source": [
    "dump(non_powerplay_wicket_model, '../models/simulation_models/non_powerplay_wicket_model.joblib')"
   ]
  },
  {
   "cell_type": "code",
   "execution_count": 20,
   "metadata": {},
   "outputs": [
    {
     "name": "stdout",
     "output_type": "stream",
     "text": [
      "Proportion of balls where wicket chance is 0: 0.489\n",
      "Max wicket chance: 0.990\n",
      "Mean wicket chance: 0.056\n"
     ]
    }
   ],
   "source": [
    "non_powerplay_results = predict_wicket_probability(non_powerplay_wicket_model, X_test, 0)\n",
    "print(f\"Proportion of balls where wicket chance is 0: {len(non_powerplay_results[non_powerplay_results == 0]) / len(non_powerplay_results):.3f}\")\n",
    "print(f\"Max wicket chance: {non_powerplay_results.max():.3f}\")\n",
    "print(f\"Mean wicket chance: {non_powerplay_results.mean():.3f}\")"
   ]
  },
  {
   "cell_type": "code",
   "execution_count": 21,
   "metadata": {},
   "outputs": [
    {
     "name": "stdout",
     "output_type": "stream",
     "text": [
      "Mean actual wicket chance: 0.060\n",
      "Mean predicted wicket chance: 0.056\n",
      "STD of actual wicket chance: 0.238\n",
      "STD of predicted wicket chance: 0.113\n"
     ]
    }
   ],
   "source": [
    "print(f\"Mean actual wicket chance: {non_powerplay_balls_stats['is_wicket'].mean():.3f}\")\n",
    "print(f\"Mean predicted wicket chance: {non_powerplay_results.mean():.3f}\")\n",
    "\n",
    "print(f\"STD of actual wicket chance: {non_powerplay_balls_stats['is_wicket'].std():.3f}\")\n",
    "print(f\"STD of predicted wicket chance: {non_powerplay_results.std():.3f}\")\n"
   ]
  },
  {
   "cell_type": "markdown",
   "metadata": {},
   "source": [
    "Again we see that the model is fairly representative of the actual wicket chance, good signs all around.\n",
    "\n",
    "I think I will stick with the same fudge factor of 1% for the non powerplay wickets to keep things consistent."
   ]
  },
  {
   "cell_type": "code",
   "execution_count": 22,
   "metadata": {},
   "outputs": [
    {
     "name": "stdout",
     "output_type": "stream",
     "text": [
      "New mean predicted wicket chance: 0.066\n"
     ]
    }
   ],
   "source": [
    "non_powerplay_results = predict_wicket_probability(non_powerplay_wicket_model, X_test, 0.01)\n",
    "print(f\"New mean predicted wicket chance: {non_powerplay_results.mean():.3f}\")"
   ]
  },
  {
   "cell_type": "markdown",
   "metadata": {},
   "source": [
    "Again, this remains within ±1% of the actual wicket chance, I'm happy with this for now."
   ]
  },
  {
   "cell_type": "markdown",
   "metadata": {},
   "source": [
    "---\n",
    "# 2. Predicting the number of extras resulting from a ball\n",
    "\n",
    "I think I am going to break this down into three models:\n",
    "1. A model predicting the probability of an extra occuring in a ball.\n",
    "2. A model predicting the type of extra | an extra has occured.\n",
    "3. A model predicting the number of extras occuring in a ball | The type of extra\n",
    "\n",
    "This should help solve the problem of the high number of extra balls where the number of extras is 0, which would likely skew the predictions if I were to use just a single model.\n",
    "\n",
    "Again, I am going to use a random forest classifier for this task.\n",
    "\n",
    "## 2.a) Predicting the probability of an extra occuring in a ball"
   ]
  },
  {
   "cell_type": "markdown",
   "metadata": {},
   "source": [
    "## Powerplay"
   ]
  },
  {
   "cell_type": "code",
   "execution_count": 23,
   "metadata": {},
   "outputs": [],
   "source": [
    "powerplay_extra_balls = data[data['powerplay'] == True][['batter', 'bowler', 'extras']]\n",
    "powerplay_extra_batter_stats = batter_stats[['batter'] + [col for col in batter_stats.columns if 'powerplay' in col[:9]]]\n",
    "powerplay_extra_bowler_stats = bowler_stats[['bowler'] + [col for col in bowler_stats.columns if 'powerplay' in col[:9]]]\n",
    "\n",
    "non_powerplay_extra_balls = data[data['powerplay'] == False][['batter', 'bowler', 'extras']]\n",
    "non_powerplay_extra_batter_stats = batter_stats[['batter'] + [col for col in batter_stats.columns if 'non_powerplay' in col[:13]]]\n",
    "non_powerplay_extra_bowler_stats = bowler_stats[['bowler'] + [col for col in bowler_stats.columns if 'non_powerplay' in col[:13]]]"
   ]
  },
  {
   "cell_type": "code",
   "execution_count": 24,
   "metadata": {},
   "outputs": [
    {
     "data": {
      "text/plain": [
       "np.float64(0.08995126113550889)"
      ]
     },
     "execution_count": 24,
     "metadata": {},
     "output_type": "execute_result"
    }
   ],
   "source": [
    "powerplay_extra_balls['extras'].mean()"
   ]
  },
  {
   "cell_type": "code",
   "execution_count": 25,
   "metadata": {},
   "outputs": [
    {
     "name": "stdout",
     "output_type": "stream",
     "text": [
      "<class 'pandas.core.frame.DataFrame'>\n",
      "Index: 215639 entries, 248 to 857110\n",
      "Data columns (total 4 columns):\n",
      " #   Column     Non-Null Count   Dtype \n",
      "---  ------     --------------   ----- \n",
      " 0   batter     215639 non-null  object\n",
      " 1   bowler     215639 non-null  object\n",
      " 2   extras     215639 non-null  int64 \n",
      " 3   is_extras  215639 non-null  bool  \n",
      "dtypes: bool(1), int64(1), object(2)\n",
      "memory usage: 6.8+ MB\n"
     ]
    }
   ],
   "source": [
    "powerplay_extra_balls['is_extras'] = powerplay_extra_balls['extras'] > 0\n",
    "powerplay_extra_balls.info()"
   ]
  },
  {
   "cell_type": "code",
   "execution_count": 26,
   "metadata": {},
   "outputs": [],
   "source": [
    "powerplay_extra_balls = powerplay_extra_balls.merge(powerplay_extra_batter_stats, on='batter', how='left').drop(columns=['batter'])\n",
    "powerplay_extra_balls = powerplay_extra_balls.merge(powerplay_extra_bowler_stats, on='bowler', how='left').drop(columns=['bowler'])"
   ]
  },
  {
   "cell_type": "code",
   "execution_count": 27,
   "metadata": {},
   "outputs": [],
   "source": [
    "X_powerplay = powerplay_extra_balls.drop(columns=['extras', 'is_extras'])\n",
    "y_powerplay = powerplay_extra_balls['is_extras']\n",
    "\n",
    "X_train, X_test, y_train, y_test = train_test_split(X_powerplay, y_powerplay, test_size=0.2, random_state=42)"
   ]
  },
  {
   "cell_type": "code",
   "execution_count": 28,
   "metadata": {},
   "outputs": [
    {
     "name": "stdout",
     "output_type": "stream",
     "text": [
      "Model Performance:\n",
      "Train AUC: 0.924 ± 0.001\n",
      "CV AUC: 0.585 ± 0.008\n",
      "Precision: 0.140 ± 0.013\n",
      "Recall: 0.034 ± 0.005\n",
      "F1 Score: 0.055 ± 0.007\n"
     ]
    }
   ],
   "source": [
    "extras_model = do_random_forest_classifier(X_train, y_train)"
   ]
  },
  {
   "cell_type": "code",
   "execution_count": 29,
   "metadata": {},
   "outputs": [
    {
     "data": {
      "text/plain": [
       "['../models/simulation_models/powerplay_extras_binary_model.joblib']"
      ]
     },
     "execution_count": 29,
     "metadata": {},
     "output_type": "execute_result"
    }
   ],
   "source": [
    "dump(extras_model, '../models/simulation_models/powerplay_extras_binary_model.joblib')"
   ]
  },
  {
   "cell_type": "code",
   "execution_count": 30,
   "metadata": {},
   "outputs": [
    {
     "name": "stdout",
     "output_type": "stream",
     "text": [
      "Proportion of balls where extra chance is 0: 0.424\n",
      "Max extra chance: 0.993\n",
      "Mean extra chance: 0.072\n"
     ]
    }
   ],
   "source": [
    "powerplay_results = predict_wicket_probability(extras_model, X_test, 0)\n",
    "print(f\"Proportion of balls where extra chance is 0: {len(powerplay_results[powerplay_results == 0]) / len(powerplay_results):.3f}\")\n",
    "print(f\"Max extra chance: {powerplay_results.max():.3f}\")\n",
    "print(f\"Mean extra chance: {powerplay_results.mean():.3f}\")"
   ]
  },
  {
   "cell_type": "code",
   "execution_count": 31,
   "metadata": {},
   "outputs": [
    {
     "name": "stdout",
     "output_type": "stream",
     "text": [
      "Mean actual extra chance: 0.090\n",
      "Mean predicted extra chance: 0.072\n",
      "STD of actual extra chance: 0.392\n",
      "STD of predicted extra chance: 0.123\n"
     ]
    }
   ],
   "source": [
    "print(f\"Mean actual extra chance: {powerplay_extra_balls['extras'].mean():.3f}\")\n",
    "print(f\"Mean predicted extra chance: {powerplay_results.mean():.3f}\")\n",
    "\n",
    "print(f\"STD of actual extra chance: {powerplay_extra_balls['extras'].std():.3f}\")\n",
    "print(f\"STD of predicted extra chance: {powerplay_results.std():.3f}\")"
   ]
  },
  {
   "cell_type": "markdown",
   "metadata": {},
   "source": [
    "Interesting to see that the predictions are less accurate here than for the wickets. Its still within ±2% of the actual mean chance, but not as close as I would like.\n",
    "\n",
    "That being said, again adding a fudge factor of 1% seems like it would be alright, and in fact would bring the mean predicted extra chance closer to the actual extra chance."
   ]
  },
  {
   "cell_type": "code",
   "execution_count": 32,
   "metadata": {},
   "outputs": [
    {
     "name": "stdout",
     "output_type": "stream",
     "text": [
      "New mean predicted extra chance: 0.081\n"
     ]
    }
   ],
   "source": [
    "powerplay_results = predict_wicket_probability(extras_model, X_test, 0.01)\n",
    "print(f\"New mean predicted extra chance: {powerplay_results.mean():.3f}\")"
   ]
  },
  {
   "cell_type": "markdown",
   "metadata": {},
   "source": [
    "## Non powerplay"
   ]
  },
  {
   "cell_type": "code",
   "execution_count": 33,
   "metadata": {},
   "outputs": [
    {
     "name": "stdout",
     "output_type": "stream",
     "text": [
      "Model Performance:\n",
      "Train AUC: 0.935 ± 0.000\n",
      "CV AUC: 0.580 ± 0.003\n",
      "Precision: 0.123 ± 0.007\n",
      "Recall: 0.029 ± 0.002\n",
      "F1 Score: 0.047 ± 0.003\n",
      "Proportion of balls where extra chance is 0: 0.456\n",
      "Max extra chance: 0.995\n",
      "Mean extra chance: 0.063\n",
      "\n",
      "Mean actual extra chance: 0.076\n",
      "Mean predicted extra chance: 0.063\n",
      "STD of actual extra chance: 0.349\n",
      "STD of predicted extra chance: 0.117\n"
     ]
    }
   ],
   "source": [
    "non_powerplay_extra_balls['is_extras'] = non_powerplay_extra_balls['extras'] > 0\n",
    "non_powerplay_extra_balls = non_powerplay_extra_balls.merge(non_powerplay_extra_batter_stats, on='batter', how='left').drop(columns=['batter'])\n",
    "non_powerplay_extra_balls = non_powerplay_extra_balls.merge(non_powerplay_extra_bowler_stats, on='bowler', how='left').drop(columns=['bowler'])\n",
    "X_non_powerplay = non_powerplay_extra_balls.drop(columns=['extras', 'is_extras'])\n",
    "y_non_powerplay = non_powerplay_extra_balls['is_extras']\n",
    "\n",
    "X_train, X_test, y_train, y_test = train_test_split(X_non_powerplay, y_non_powerplay, test_size=0.2, random_state=42)\n",
    "non_powerplay_extras_model = do_random_forest_classifier(X_train, y_train)\n",
    "non_powerplay_results = predict_wicket_probability(non_powerplay_extras_model, X_test, 0)\n",
    "print(f\"Proportion of balls where extra chance is 0: {len(non_powerplay_results[non_powerplay_results == 0]) / len(non_powerplay_results):.3f}\")\n",
    "print(f\"Max extra chance: {non_powerplay_results.max():.3f}\")\n",
    "print(f\"Mean extra chance: {non_powerplay_results.mean():.3f}\")\n",
    "print(f\"\\nMean actual extra chance: {non_powerplay_extra_balls['extras'].mean():.3f}\")\n",
    "print(f\"Mean predicted extra chance: {non_powerplay_results.mean():.3f}\")\n",
    "\n",
    "print(f\"STD of actual extra chance: {non_powerplay_extra_balls['extras'].std():.3f}\")\n",
    "print(f\"STD of predicted extra chance: {non_powerplay_results.std():.3f}\")\n"
   ]
  },
  {
   "cell_type": "code",
   "execution_count": 34,
   "metadata": {},
   "outputs": [
    {
     "data": {
      "text/plain": [
       "['../models/simulation_models/non_powerplay_extras_binary_model.joblib']"
      ]
     },
     "execution_count": 34,
     "metadata": {},
     "output_type": "execute_result"
    }
   ],
   "source": [
    "dump(non_powerplay_extras_model, '../models/simulation_models/non_powerplay_extras_binary_model.joblib')"
   ]
  },
  {
   "cell_type": "markdown",
   "metadata": {},
   "source": [
    "Again, a fudge factor of 1% seems appropriate here."
   ]
  },
  {
   "cell_type": "code",
   "execution_count": 35,
   "metadata": {},
   "outputs": [
    {
     "name": "stdout",
     "output_type": "stream",
     "text": [
      "New mean predicted extra chance: 0.072\n"
     ]
    }
   ],
   "source": [
    "non_powerplay_results = predict_wicket_probability(non_powerplay_extras_model, X_test, 0.01)\n",
    "print(f\"New mean predicted extra chance: {non_powerplay_results.mean():.3f}\")"
   ]
  },
  {
   "cell_type": "markdown",
   "metadata": {},
   "source": [
    "# 2.b) Predicting the type of extra | an extra has occured\n",
    "\n",
    "My hope here is that using the batter and bowler stats we can predict the type of extra that occurs.\n",
    "\n",
    "Depending on the success of this, I may instead just try to predict the number of runs|extra occured."
   ]
  },
  {
   "cell_type": "code",
   "execution_count": 36,
   "metadata": {},
   "outputs": [],
   "source": [
    "balls_with_extras = data[data['extras'] > 0][['batter', 'bowler', 'extras_details', 'extras', 'powerplay']]"
   ]
  },
  {
   "cell_type": "code",
   "execution_count": 37,
   "metadata": {},
   "outputs": [
    {
     "data": {
      "text/plain": [
       "extras_details\n",
       "{'wides': 1}                    25938\n",
       "{'legbyes': 1}                   7542\n",
       "{'noballs': 1}                   3567\n",
       "{'byes': 1}                      1936\n",
       "{'wides': 2}                     1705\n",
       "{'wides': 5}                      809\n",
       "{'legbyes': 2}                    611\n",
       "{'byes': 4}                       578\n",
       "{'legbyes': 4}                    496\n",
       "{'wides': 3}                      429\n",
       "{'byes': 2}                       336\n",
       "{'byes': 1, 'noballs': 1}          91\n",
       "{'wides': 4}                       47\n",
       "{'legbyes': 3}                     46\n",
       "{'byes': 4, 'noballs': 1}          35\n",
       "{'byes': 3}                        28\n",
       "{'legbyes': 1, 'noballs': 1}       20\n",
       "{'byes': 2, 'noballs': 1}          16\n",
       "{'legbyes': 5}                     11\n",
       "{'penalty': 5}                     10\n",
       "{'noballs': 5}                      9\n",
       "{'noballs': 2}                      9\n",
       "{'legbyes': 4, 'noballs': 1}        4\n",
       "{'legbyes': 2, 'noballs': 1}        2\n",
       "{'byes': 5}                         2\n",
       "{'legbyes': 1, 'penalty': 5}        1\n",
       "{'noballs': 1, 'penalty': 5}        1\n",
       "Name: count, dtype: int64"
      ]
     },
     "execution_count": 37,
     "metadata": {},
     "output_type": "execute_result"
    }
   ],
   "source": [
    "balls_with_extras['extras_details'].value_counts()"
   ]
  },
  {
   "cell_type": "code",
   "execution_count": 38,
   "metadata": {},
   "outputs": [
    {
     "data": {
      "text/plain": [
       "extras_details\n",
       "[wides]               28928\n",
       "[legbyes]              8706\n",
       "[noballs]              3585\n",
       "[byes]                 2880\n",
       "[byes, noballs]         132\n",
       "[legbyes, noballs]       25\n",
       "[penalty]                10\n",
       "[noballs, byes]          10\n",
       "[legbyes, penalty]        1\n",
       "[noballs, legbyes]        1\n",
       "[noballs, penalty]        1\n",
       "Name: count, dtype: int64"
      ]
     },
     "execution_count": 38,
     "metadata": {},
     "output_type": "execute_result"
    }
   ],
   "source": [
    "balls_with_extras['extras_details'].apply(lambda x: list(x.keys())).value_counts()"
   ]
  },
  {
   "cell_type": "code",
   "execution_count": 39,
   "metadata": {},
   "outputs": [
    {
     "data": {
      "text/plain": [
       "(44279, 5)"
      ]
     },
     "execution_count": 39,
     "metadata": {},
     "output_type": "execute_result"
    }
   ],
   "source": [
    "balls_with_extras.shape"
   ]
  },
  {
   "cell_type": "code",
   "execution_count": 40,
   "metadata": {},
   "outputs": [
    {
     "data": {
      "text/plain": [
       "extras_details\n",
       "{'noballs': 1}    3567\n",
       "{'noballs': 5}       9\n",
       "{'noballs': 2}       9\n",
       "Name: count, dtype: int64"
      ]
     },
     "execution_count": 40,
     "metadata": {},
     "output_type": "execute_result"
    }
   ],
   "source": [
    "noballs_balls = balls_with_extras[balls_with_extras['extras_details'].apply(lambda x: list(x.keys()) == ['noballs'])]\n",
    "noballs_balls['extras_details'].value_counts()"
   ]
  },
  {
   "cell_type": "markdown",
   "metadata": {},
   "source": [
    "We have a couple if issues here:\n",
    "1. If we are trying to predict the number of extra runs | extra occurs, the results are massively skewed towards 1.\n",
    "2. If we are trying to predict the number of extra runs | extra type the results will still heavily be skewed towards 1 for the extras from which there can be a variable number of runs.\n",
    "\n",
    "I think this is a lose-lose situation, but at least predicting the probability of an extra type should help in the case of extras where there is a fixed number of runs."
   ]
  },
  {
   "cell_type": "code",
   "execution_count": 41,
   "metadata": {},
   "outputs": [
    {
     "data": {
      "text/plain": [
       "extras_type\n",
       "wides      28928\n",
       "legbyes     8733\n",
       "noballs     3754\n",
       "byes        3022\n",
       "penalty       12\n",
       "Name: count, dtype: int64"
      ]
     },
     "execution_count": 41,
     "metadata": {},
     "output_type": "execute_result"
    }
   ],
   "source": [
    "balls_with_extras['extras_type'] = balls_with_extras['extras_details'].apply(lambda x: list(x.keys()))\n",
    "exploded_extras = balls_with_extras.explode('extras_type')\n",
    "exploded_extras['extras_type'].value_counts()"
   ]
  },
  {
   "cell_type": "markdown",
   "metadata": {},
   "source": [
    "We have 5 types of extras. Since we can have multiple extras in a ball, I am going to use 5 different models to predict the probability of each type occuring.\n",
    "\n",
    "For the sake of length and readability, I am going to limit my explanations/analysis."
   ]
  },
  {
   "cell_type": "code",
   "execution_count": 42,
   "metadata": {},
   "outputs": [],
   "source": [
    "# Unfortuntely due to the way the data is structured I can't use one_hot_encoding with the exploded rows\n",
    "# without duplicating rows, so I will just create the columns manually.\n",
    "balls_with_extras['wides'] = balls_with_extras['extras_details'].apply(lambda x: 'wides' in list(x.keys()))\n",
    "balls_with_extras['byes'] = balls_with_extras['extras_details'].apply(lambda x: 'byes' in list(x.keys()))\n",
    "balls_with_extras['legbyes'] = balls_with_extras['extras_details'].apply(lambda x: 'legbyes' in list(x.keys()))\n",
    "balls_with_extras['noballs'] = balls_with_extras['extras_details'].apply(lambda x: 'noballs' in list(x.keys()))\n",
    "balls_with_extras['penalty'] = balls_with_extras['extras_details'].apply(lambda x: 'penalty' in list(x.keys()))\n",
    "extras_dropped = balls_with_extras.drop(columns=['extras_details', 'extras_type', 'extras'])\n",
    "\n",
    "powerplay_extra_balls = extras_dropped[extras_dropped['powerplay']].drop(columns=['powerplay'])\n",
    "powerplay_extra_balls = powerplay_extra_balls.merge(powerplay_extra_batter_stats, on='batter', how='left').drop(columns=['batter'])\n",
    "powerplay_extra_balls = powerplay_extra_balls.merge(powerplay_extra_bowler_stats, on='bowler', how='left').drop(columns=['bowler'])\n",
    "\n",
    "non_powerplay_extra_balls = extras_dropped[extras_dropped['powerplay'] == False].drop(columns=['powerplay'])\n",
    "non_powerplay_extra_balls = non_powerplay_extra_balls.merge(non_powerplay_extra_batter_stats, on='batter', how='left').drop(columns=['batter'])\n",
    "non_powerplay_extra_balls = non_powerplay_extra_balls.merge(non_powerplay_extra_bowler_stats, on='bowler', how='left').drop(columns=['bowler'])"
   ]
  },
  {
   "cell_type": "code",
   "execution_count": 43,
   "metadata": {},
   "outputs": [],
   "source": [
    "def get_empirical_distribution(data):\n",
    "    \"\"\"\n",
    "    Create probability distribution directly from data\n",
    "    \n",
    "    Args:\n",
    "        data: Series of values\n",
    "    \n",
    "    Returns:\n",
    "        values: possible values\n",
    "        probabilities: probability of each value\n",
    "    \"\"\"\n",
    "    # Get value counts and convert to probabilities\n",
    "    value_counts = data.value_counts()\n",
    "    total = len(data)\n",
    "    probabilities = value_counts / total\n",
    "    \n",
    "    # Sort by value for clarity\n",
    "    probabilities = probabilities.sort_index()\n",
    "    \n",
    "    return probabilities"
   ]
  },
  {
   "cell_type": "code",
   "execution_count": 44,
   "metadata": {},
   "outputs": [
    {
     "name": "stdout",
     "output_type": "stream",
     "text": [
      "Powerplay wides model:\n",
      "Model Performance:\n",
      "Train AUC: 0.988 ± 0.000\n",
      "CV AUC: 0.613 ± 0.008\n",
      "Precision: 0.723 ± 0.003\n",
      "Recall: 0.842 ± 0.009\n",
      "F1 Score: 0.778 ± 0.004\n",
      "Powerplay byes model:\n",
      "Model Performance:\n",
      "Train AUC: 0.998 ± 0.000\n",
      "CV AUC: 0.598 ± 0.015\n",
      "Precision: 0.097 ± 0.054\n",
      "Recall: 0.026 ± 0.014\n",
      "F1 Score: 0.041 ± 0.023\n",
      "Powerplay legbyes model:\n",
      "Model Performance:\n",
      "Train AUC: 0.992 ± 0.000\n",
      "CV AUC: 0.650 ± 0.009\n",
      "Precision: 0.343 ± 0.018\n",
      "Recall: 0.158 ± 0.011\n",
      "F1 Score: 0.216 ± 0.012\n",
      "Powerplay noballs model:\n",
      "Model Performance:\n",
      "Train AUC: 0.995 ± 0.000\n",
      "CV AUC: 0.621 ± 0.023\n",
      "Precision: 0.282 ± 0.025\n",
      "Recall: 0.097 ± 0.007\n",
      "F1 Score: 0.144 ± 0.009\n",
      "Mean penalty chance: 0.500\n"
     ]
    }
   ],
   "source": [
    "# Wides:\n",
    "# For the sake of time I am going to limit the max depth of the trees to 30, otherwise I will be sitting here for hours...\n",
    "X_powerplay_wides = powerplay_extra_balls.drop(columns=['wides', 'byes', 'legbyes', 'noballs', 'penalty'])\n",
    "y_powerplay_wides = powerplay_extra_balls['wides']\n",
    "X_train, X_test, y_train, y_test = train_test_split(X_powerplay_wides, y_powerplay_wides, test_size=0.2, random_state=42)\n",
    "print(f\"Powerplay wides model:\")\n",
    "powerplay_wides_model = do_random_forest_classifier(X_train, y_train, max_depth=30)\n",
    "test_wides = predict_wicket_probability(powerplay_wides_model, X_test, 0)\n",
    "\n",
    "# Byes:\n",
    "X_powerplay_byes = powerplay_extra_balls.drop(columns=['wides', 'byes', 'legbyes', 'noballs', 'penalty'])\n",
    "y_powerplay_byes = powerplay_extra_balls['byes']\n",
    "X_train, X_test, y_train, y_test = train_test_split(X_powerplay_byes, y_powerplay_byes, test_size=0.2, random_state=42)\n",
    "print(f\"Powerplay byes model:\")\n",
    "powerplay_byes_model = do_random_forest_classifier(X_train, y_train, max_depth=30)\n",
    "test_byes = predict_wicket_probability(powerplay_byes_model, X_test, 0)\n",
    "# Legbyes:\n",
    "X_powerplay_legbyes = powerplay_extra_balls.drop(columns=['wides', 'byes', 'legbyes', 'noballs', 'penalty'])\n",
    "y_powerplay_legbyes = powerplay_extra_balls['legbyes']\n",
    "X_train, X_test, y_train, y_test = train_test_split(X_powerplay_legbyes, y_powerplay_legbyes, test_size=0.2, random_state=42)\n",
    "print(f\"Powerplay legbyes model:\")\n",
    "powerplay_legbyes_model = do_random_forest_classifier(X_train, y_train, max_depth=30)\n",
    "test_legbyes = predict_wicket_probability(powerplay_legbyes_model, X_test, 0)\n",
    "\n",
    "# Noballs:\n",
    "X_powerplay_noballs = powerplay_extra_balls.drop(columns=['wides', 'byes', 'legbyes', 'noballs', 'penalty'])\n",
    "y_powerplay_noballs = powerplay_extra_balls['noballs']\n",
    "X_train, X_test, y_train, y_test = train_test_split(X_powerplay_noballs, y_powerplay_noballs, test_size=0.2, random_state=42)\n",
    "print(f\"Powerplay noballs model:\")\n",
    "powerplay_noballs_model = do_random_forest_classifier(X_train, y_train, max_depth=30)\n",
    "test_noballs = predict_wicket_probability(powerplay_noballs_model, X_test, 0)\n",
    "# Penalties:\n",
    "# There are no penalites in the powerplay data, and only 14 in the non powerplay data.\n",
    "# I am hence going to just model this as a random chance, especially considering that the batter/bolwer skill\n",
    "# in theory should have no impact on the probability of a penalty occuring.\n",
    "penalty_distribution = get_empirical_distribution(non_powerplay_extra_balls['penalty'])\n",
    "penalty_distribution.to_csv('../models/simulation_dists/penalty_distribution.csv', header=False)\n",
    "print(f\"Mean penalty chance: {penalty_distribution.mean():.3f}\")"
   ]
  },
  {
   "cell_type": "code",
   "execution_count": 45,
   "metadata": {},
   "outputs": [
    {
     "data": {
      "text/plain": [
       "['../models/simulation_models/powerplay_noballs_model.joblib']"
      ]
     },
     "execution_count": 45,
     "metadata": {},
     "output_type": "execute_result"
    }
   ],
   "source": [
    "dump(powerplay_wides_model, '../models/simulation_models/powerplay_wides_model.joblib')\n",
    "dump(powerplay_byes_model, '../models/simulation_models/powerplay_byes_model.joblib')\n",
    "dump(powerplay_legbyes_model, '../models/simulation_models/powerplay_legbyes_model.joblib')\n",
    "dump(powerplay_noballs_model, '../models/simulation_models/powerplay_noballs_model.joblib')"
   ]
  },
  {
   "cell_type": "code",
   "execution_count": 46,
   "metadata": {},
   "outputs": [
    {
     "name": "stdout",
     "output_type": "stream",
     "text": [
      "Mean actual wides chance: 0.692\n",
      "Mean predicted wides chance: 0.691\n",
      "Proportion of balls where wides chance is 0: 0.001\n",
      "\n",
      "Mean actual byes chance: 0.046\n",
      "Mean predicted byes chance: 0.050\n",
      "Proportion of balls where byes chance is 0: 0.159\n",
      "\n",
      "Mean actual legbyes chance: 0.191\n",
      "Mean predicted legbyes chance: 0.198\n",
      "Proportion of balls where legbyes chance is 0: 0.065\n",
      "\n",
      "Mean actual noballs chance: 0.074\n",
      "Mean predicted noballs chance: 0.078\n",
      "Proportion of balls where noballs chance is 0: 0.068\n",
      "\n"
     ]
    }
   ],
   "source": [
    "print(f\"Mean actual wides chance: {powerplay_extra_balls['wides'].mean():.3f}\")\n",
    "print(f\"Mean predicted wides chance: {test_wides.mean():.3f}\")\n",
    "print(f\"Proportion of balls where wides chance is 0: {len(test_wides[test_wides == 0]) / len(test_wides):.3f}\\n\")\n",
    "\n",
    "print(f\"Mean actual byes chance: {powerplay_extra_balls['byes'].mean():.3f}\")\n",
    "print(f\"Mean predicted byes chance: {test_byes.mean():.3f}\")\n",
    "print(f\"Proportion of balls where byes chance is 0: {len(test_byes[test_byes == 0]) / len(test_byes):.3f}\\n\")\n",
    "print(f\"Mean actual legbyes chance: {powerplay_extra_balls['legbyes'].mean():.3f}\")\n",
    "print(f\"Mean predicted legbyes chance: {test_legbyes.mean():.3f}\")\n",
    "print(f\"Proportion of balls where legbyes chance is 0: {len(test_legbyes[test_legbyes == 0]) / len(test_legbyes):.3f}\\n\")\n",
    "\n",
    "print(f\"Mean actual noballs chance: {powerplay_extra_balls['noballs'].mean():.3f}\")\n",
    "print(f\"Mean predicted noballs chance: {test_noballs.mean():.3f}\")\n",
    "print(f\"Proportion of balls where noballs chance is 0: {len(test_noballs[test_noballs == 0]) / len(test_noballs):.3f}\\n\")"
   ]
  },
  {
   "cell_type": "markdown",
   "metadata": {},
   "source": [
    "Good to see that the chances fairly match up again. Due to the very low number of zeroes, I do not think that adding a fudge factor will be necessary here."
   ]
  },
  {
   "cell_type": "code",
   "execution_count": 47,
   "metadata": {},
   "outputs": [
    {
     "name": "stdout",
     "output_type": "stream",
     "text": [
      "Non powerplay wides model:\n",
      "Model Performance:\n",
      "Train AUC: 0.989 ± 0.000\n",
      "CV AUC: 0.608 ± 0.005\n",
      "Precision: 0.672 ± 0.004\n",
      "Recall: 0.787 ± 0.007\n",
      "F1 Score: 0.725 ± 0.004\n",
      "Non powerplay byes model:\n",
      "Model Performance:\n",
      "Train AUC: 0.997 ± 0.000\n",
      "CV AUC: 0.603 ± 0.007\n",
      "Precision: 0.185 ± 0.060\n",
      "Recall: 0.039 ± 0.012\n",
      "F1 Score: 0.064 ± 0.019\n",
      "Non powerplay legbyes model:\n",
      "Model Performance:\n",
      "Train AUC: 0.995 ± 0.000\n",
      "CV AUC: 0.655 ± 0.006\n",
      "Precision: 0.363 ± 0.014\n",
      "Recall: 0.142 ± 0.008\n",
      "F1 Score: 0.204 ± 0.010\n",
      "Non powerplay noballs model:\n",
      "Model Performance:\n",
      "Train AUC: 0.995 ± 0.000\n",
      "CV AUC: 0.604 ± 0.014\n",
      "Precision: 0.268 ± 0.049\n",
      "Recall: 0.086 ± 0.016\n",
      "F1 Score: 0.131 ± 0.023\n"
     ]
    }
   ],
   "source": [
    "# Wides:\n",
    "# For the sake of time I am going to limit the max depth of the trees to 30, otherwise I will be sitting here for hours...\n",
    "X_non_powerplay_wides = non_powerplay_extra_balls.drop(columns=['wides', 'byes', 'legbyes', 'noballs', 'penalty'])\n",
    "y_non_powerplay_wides = non_powerplay_extra_balls['wides']\n",
    "X_train, X_test, y_train, y_test = train_test_split(X_non_powerplay_wides, y_non_powerplay_wides, test_size=0.2, random_state=42)\n",
    "print(f\"Non powerplay wides model:\")\n",
    "non_powerplay_wides_model = do_random_forest_classifier(X_train, y_train, max_depth=30)\n",
    "test_wides = predict_wicket_probability(non_powerplay_wides_model, X_test, 0)\n",
    "\n",
    "# Byes:\n",
    "X_non_powerplay_byes = non_powerplay_extra_balls.drop(columns=['wides', 'byes', 'legbyes', 'noballs', 'penalty'])\n",
    "y_non_powerplay_byes = non_powerplay_extra_balls['byes']\n",
    "X_train, X_test, y_train, y_test = train_test_split(X_non_powerplay_byes, y_non_powerplay_byes, test_size=0.2, random_state=42)\n",
    "print(f\"Non powerplay byes model:\")\n",
    "non_powerplay_byes_model = do_random_forest_classifier(X_train, y_train, max_depth=30)\n",
    "test_byes = predict_wicket_probability(non_powerplay_byes_model, X_test, 0)\n",
    "\n",
    "# Legbyes:\n",
    "X_non_powerplay_legbyes = non_powerplay_extra_balls.drop(columns=['wides', 'byes', 'legbyes', 'noballs', 'penalty'])\n",
    "y_non_powerplay_legbyes = non_powerplay_extra_balls['legbyes']\n",
    "X_train, X_test, y_train, y_test = train_test_split(X_non_powerplay_legbyes, y_non_powerplay_legbyes, test_size=0.2, random_state=42)\n",
    "print(f\"Non powerplay legbyes model:\")\n",
    "non_powerplay_legbyes_model = do_random_forest_classifier(X_train, y_train, max_depth=30)\n",
    "test_legbyes = predict_wicket_probability(non_powerplay_legbyes_model, X_test, 0)\n",
    "\n",
    "# Noballs:\n",
    "X_non_powerplay_noballs = non_powerplay_extra_balls.drop(columns=['wides', 'byes', 'legbyes', 'noballs', 'penalty'])\n",
    "y_non_powerplay_noballs = non_powerplay_extra_balls['noballs']\n",
    "X_train, X_test, y_train, y_test = train_test_split(X_non_powerplay_noballs, y_non_powerplay_noballs, test_size=0.2, random_state=42)\n",
    "print(f\"Non powerplay noballs model:\")\n",
    "non_powerplay_noballs_model = do_random_forest_classifier(X_train, y_train, max_depth=30)\n",
    "test_noballs = predict_wicket_probability(non_powerplay_noballs_model, X_test, 0)\n",
    "\n",
    "# Penalty:\n",
    "# See above cell."
   ]
  },
  {
   "cell_type": "code",
   "execution_count": 48,
   "metadata": {},
   "outputs": [
    {
     "data": {
      "text/plain": [
       "['../models/simulation_models/non_powerplay_noballs_model.joblib']"
      ]
     },
     "execution_count": 48,
     "metadata": {},
     "output_type": "execute_result"
    }
   ],
   "source": [
    "dump(non_powerplay_wides_model, '../models/simulation_models/non_powerplay_wides_model.joblib')\n",
    "dump(non_powerplay_byes_model, '../models/simulation_models/non_powerplay_byes_model.joblib')\n",
    "dump(non_powerplay_legbyes_model, '../models/simulation_models/non_powerplay_legbyes_model.joblib')\n",
    "dump(non_powerplay_noballs_model, '../models/simulation_models/non_powerplay_noballs_model.joblib')\n"
   ]
  },
  {
   "cell_type": "code",
   "execution_count": 49,
   "metadata": {},
   "outputs": [
    {
     "name": "stdout",
     "output_type": "stream",
     "text": [
      "Mean actual wides chance: 0.632\n",
      "Mean predicted wides chance: 0.629\n",
      "Proportion of balls where wides chance is 0: 0.000\n",
      "\n",
      "Mean actual byes chance: 0.080\n",
      "Mean predicted byes chance: 0.085\n",
      "Proportion of balls where byes chance is 0: 0.071\n",
      "\n",
      "Mean actual legbyes chance: 0.201\n",
      "Mean predicted legbyes chance: 0.207\n",
      "Proportion of balls where legbyes chance is 0: 0.059\n",
      "\n",
      "Mean actual noballs chance: 0.090\n",
      "Mean predicted noballs chance: 0.097\n",
      "Proportion of balls where noballs chance is 0: 0.026\n",
      "\n"
     ]
    }
   ],
   "source": [
    "print(f\"Mean actual wides chance: {non_powerplay_extra_balls['wides'].mean():.3f}\")\n",
    "print(f\"Mean predicted wides chance: {test_wides.mean():.3f}\")\n",
    "print(f\"Proportion of balls where wides chance is 0: {len(test_wides[test_wides == 0]) / len(test_wides):.3f}\\n\")\n",
    "\n",
    "print(f\"Mean actual byes chance: {non_powerplay_extra_balls['byes'].mean():.3f}\")\n",
    "print(f\"Mean predicted byes chance: {test_byes.mean():.3f}\")\n",
    "print(f\"Proportion of balls where byes chance is 0: {len(test_byes[test_byes == 0]) / len(test_byes):.3f}\\n\")\n",
    "print(f\"Mean actual legbyes chance: {non_powerplay_extra_balls['legbyes'].mean():.3f}\")\n",
    "print(f\"Mean predicted legbyes chance: {test_legbyes.mean():.3f}\")\n",
    "print(f\"Proportion of balls where legbyes chance is 0: {len(test_legbyes[test_legbyes == 0]) / len(test_legbyes):.3f}\\n\")\n",
    "\n",
    "print(f\"Mean actual noballs chance: {non_powerplay_extra_balls['noballs'].mean():.3f}\")\n",
    "print(f\"Mean predicted noballs chance: {test_noballs.mean():.3f}\")\n",
    "print(f\"Proportion of balls where noballs chance is 0: {len(test_noballs[test_noballs == 0]) / len(test_noballs):.3f}\\n\")"
   ]
  },
  {
   "cell_type": "markdown",
   "metadata": {},
   "source": [
    "Again, this seems to match up remarkably well. Also again, due to the very low number of zeroes, I do not think that adding a fudge factor will be needed here."
   ]
  },
  {
   "cell_type": "markdown",
   "metadata": {},
   "source": [
    "# 2.c) Predicting the number of extras occuring in a ball | The type of extra\n",
    "\n",
    "Again, I will be limiting my comments/explanations due to the length of this task."
   ]
  },
  {
   "cell_type": "code",
   "execution_count": 50,
   "metadata": {},
   "outputs": [],
   "source": [
    "# We need a regression model rather than a classifier here.\n",
    "def do_random_forest_regressor(X_train, y_train, cv=5, random_state=42, **kwargs):\n",
    "    model = RandomForestRegressor(random_state=random_state, **kwargs)\n",
    "    \n",
    "    cv_results = cross_validate(\n",
    "        model,\n",
    "        X_train,\n",
    "        y_train,\n",
    "        cv=cv,\n",
    "        scoring={\n",
    "            'r2': 'r2',\n",
    "            'rmse': 'neg_root_mean_squared_error',\n",
    "            'mape': 'neg_mean_absolute_percentage_error'\n",
    "        },\n",
    "        return_train_score=True\n",
    "    )\n",
    "\n",
    "    model.fit(X_train, y_train)\n",
    "    \n",
    "    analysis = {\n",
    "        'r2': {\n",
    "            'train_avg': cv_results['train_r2'].mean(),\n",
    "            'train_std': cv_results['train_r2'].std(),\n",
    "            'cv_avg': cv_results['test_r2'].mean(),\n",
    "            'cv_std': cv_results['test_r2'].std(),\n",
    "            'gap': cv_results['train_r2'].mean() - cv_results['test_r2'].mean(),\n",
    "            'consistency': 'Stable' if cv_results['test_r2'].std() < 0.05 else 'Unstable'\n",
    "        },\n",
    "        'rmse': {\n",
    "            'train_avg': -cv_results['train_rmse'].mean(),\n",
    "            'train_std': cv_results['train_rmse'].std(),\n",
    "            'cv_avg': -cv_results['test_rmse'].mean(),\n",
    "            'cv_std': cv_results['test_rmse'].std(),\n",
    "            'gap': -cv_results['test_rmse'].mean() - (-cv_results['train_rmse'].mean())\n",
    "        },\n",
    "        'mape': {\n",
    "            'train_avg': -cv_results['train_mape'].mean(),\n",
    "            'train_std': cv_results['train_mape'].std(),\n",
    "            'cv_avg': -cv_results['test_mape'].mean(),\n",
    "            'cv_std': cv_results['test_mape'].std(),\n",
    "            'gap': -cv_results['test_mape'].mean() - (-cv_results['train_mape'].mean())\n",
    "        }\n",
    "    }\n",
    "    \n",
    "    print(\"Cross-Validation Analysis:\")\n",
    "    print(\"\\nR² Scores:\")\n",
    "    print(f\"Training Average: {analysis['r2']['train_avg']:.3f} ± {analysis['r2']['train_std']:.3f}\")\n",
    "    print(f\"CV Average: {analysis['r2']['cv_avg']:.3f} ± {analysis['r2']['cv_std']:.3f}\")\n",
    "    print(f\"Gap (Train-CV): {analysis['r2']['gap']:.3f}\")\n",
    "    print(f\"CV Consistency: {analysis['r2']['consistency']}\")\n",
    "    \n",
    "    print(\"\\nRMSE Scores:\")\n",
    "    print(f\"Training Average: {analysis['rmse']['train_avg']:.3f} ± {analysis['rmse']['train_std']:.3f}\")\n",
    "    print(f\"CV Average: {analysis['rmse']['cv_avg']:.3f} ± {analysis['rmse']['cv_std']:.3f}\")\n",
    "    print(f\"Gap (CV-Train): {analysis['rmse']['gap']:.3f}\")\n",
    "    \n",
    "    print(\"\\nMAPE Scores:\")\n",
    "    print(f\"Training Average: {analysis['mape']['train_avg']:.3f} ± {analysis['mape']['train_std']:.3f}\")\n",
    "    print(f\"CV Average: {analysis['mape']['cv_avg']:.3f} ± {analysis['mape']['cv_std']:.3f}\")\n",
    "    print(f\"Gap (CV-Train): {analysis['mape']['gap']:.3f}\")\n",
    "    \n",
    "    feature_importance = pd.DataFrame({\n",
    "        'Feature': X_train.columns,\n",
    "        'Importance': model.feature_importances_\n",
    "    }).sort_values('Importance', ascending=False)\n",
    "    \n",
    "    print(\"\\nTop 10 Most Important Features:\")\n",
    "    print(feature_importance.head(10))\n",
    "    \n",
    "    return model, analysis, feature_importance"
   ]
  },
  {
   "cell_type": "code",
   "execution_count": 51,
   "metadata": {},
   "outputs": [
    {
     "data": {
      "text/html": [
       "<div>\n",
       "<style scoped>\n",
       "    .dataframe tbody tr th:only-of-type {\n",
       "        vertical-align: middle;\n",
       "    }\n",
       "\n",
       "    .dataframe tbody tr th {\n",
       "        vertical-align: top;\n",
       "    }\n",
       "\n",
       "    .dataframe thead th {\n",
       "        text-align: right;\n",
       "    }\n",
       "</style>\n",
       "<table border=\"1\" class=\"dataframe\">\n",
       "  <thead>\n",
       "    <tr style=\"text-align: right;\">\n",
       "      <th></th>\n",
       "      <th>batter</th>\n",
       "      <th>bowler</th>\n",
       "      <th>extras_details</th>\n",
       "      <th>extras</th>\n",
       "      <th>powerplay</th>\n",
       "      <th>extras_type</th>\n",
       "      <th>wides</th>\n",
       "      <th>byes</th>\n",
       "      <th>legbyes</th>\n",
       "      <th>noballs</th>\n",
       "      <th>penalty</th>\n",
       "    </tr>\n",
       "  </thead>\n",
       "  <tbody>\n",
       "    <tr>\n",
       "      <th>251</th>\n",
       "      <td>85d8110a</td>\n",
       "      <td>7bbeac6d</td>\n",
       "      <td>{'wides': 1}</td>\n",
       "      <td>1</td>\n",
       "      <td>True</td>\n",
       "      <td>[wides]</td>\n",
       "      <td>True</td>\n",
       "      <td>False</td>\n",
       "      <td>False</td>\n",
       "      <td>False</td>\n",
       "      <td>False</td>\n",
       "    </tr>\n",
       "    <tr>\n",
       "      <th>254</th>\n",
       "      <td>ff014c34</td>\n",
       "      <td>7bbeac6d</td>\n",
       "      <td>{'legbyes': 1}</td>\n",
       "      <td>1</td>\n",
       "      <td>False</td>\n",
       "      <td>[legbyes]</td>\n",
       "      <td>False</td>\n",
       "      <td>False</td>\n",
       "      <td>True</td>\n",
       "      <td>False</td>\n",
       "      <td>False</td>\n",
       "    </tr>\n",
       "    <tr>\n",
       "      <th>265</th>\n",
       "      <td>ff014c34</td>\n",
       "      <td>7bbeac6d</td>\n",
       "      <td>{'legbyes': 1}</td>\n",
       "      <td>1</td>\n",
       "      <td>True</td>\n",
       "      <td>[legbyes]</td>\n",
       "      <td>False</td>\n",
       "      <td>False</td>\n",
       "      <td>True</td>\n",
       "      <td>False</td>\n",
       "      <td>False</td>\n",
       "    </tr>\n",
       "    <tr>\n",
       "      <th>291</th>\n",
       "      <td>ff014c34</td>\n",
       "      <td>7f6c2dae</td>\n",
       "      <td>{'wides': 1}</td>\n",
       "      <td>1</td>\n",
       "      <td>False</td>\n",
       "      <td>[wides]</td>\n",
       "      <td>True</td>\n",
       "      <td>False</td>\n",
       "      <td>False</td>\n",
       "      <td>False</td>\n",
       "      <td>False</td>\n",
       "    </tr>\n",
       "    <tr>\n",
       "      <th>331</th>\n",
       "      <td>9c376401</td>\n",
       "      <td>94a1827c</td>\n",
       "      <td>{'wides': 1}</td>\n",
       "      <td>1</td>\n",
       "      <td>False</td>\n",
       "      <td>[wides]</td>\n",
       "      <td>True</td>\n",
       "      <td>False</td>\n",
       "      <td>False</td>\n",
       "      <td>False</td>\n",
       "      <td>False</td>\n",
       "    </tr>\n",
       "  </tbody>\n",
       "</table>\n",
       "</div>"
      ],
      "text/plain": [
       "       batter    bowler  extras_details  extras  powerplay extras_type  wides  \\\n",
       "251  85d8110a  7bbeac6d    {'wides': 1}       1       True     [wides]   True   \n",
       "254  ff014c34  7bbeac6d  {'legbyes': 1}       1      False   [legbyes]  False   \n",
       "265  ff014c34  7bbeac6d  {'legbyes': 1}       1       True   [legbyes]  False   \n",
       "291  ff014c34  7f6c2dae    {'wides': 1}       1      False     [wides]   True   \n",
       "331  9c376401  94a1827c    {'wides': 1}       1      False     [wides]   True   \n",
       "\n",
       "      byes  legbyes  noballs  penalty  \n",
       "251  False    False    False    False  \n",
       "254  False     True    False    False  \n",
       "265  False     True    False    False  \n",
       "291  False    False    False    False  \n",
       "331  False    False    False    False  "
      ]
     },
     "execution_count": 51,
     "metadata": {},
     "output_type": "execute_result"
    }
   ],
   "source": [
    "balls_with_extras.head()"
   ]
  },
  {
   "cell_type": "code",
   "execution_count": 52,
   "metadata": {},
   "outputs": [
    {
     "data": {
      "text/html": [
       "<div>\n",
       "<style scoped>\n",
       "    .dataframe tbody tr th:only-of-type {\n",
       "        vertical-align: middle;\n",
       "    }\n",
       "\n",
       "    .dataframe tbody tr th {\n",
       "        vertical-align: top;\n",
       "    }\n",
       "\n",
       "    .dataframe thead th {\n",
       "        text-align: right;\n",
       "    }\n",
       "</style>\n",
       "<table border=\"1\" class=\"dataframe\">\n",
       "  <thead>\n",
       "    <tr style=\"text-align: right;\">\n",
       "      <th></th>\n",
       "      <th>batter</th>\n",
       "      <th>bowler</th>\n",
       "      <th>powerplay</th>\n",
       "      <th>extras_type</th>\n",
       "      <th>extras_from_relevant_type</th>\n",
       "    </tr>\n",
       "  </thead>\n",
       "  <tbody>\n",
       "    <tr>\n",
       "      <th>251</th>\n",
       "      <td>85d8110a</td>\n",
       "      <td>7bbeac6d</td>\n",
       "      <td>True</td>\n",
       "      <td>wides</td>\n",
       "      <td>1</td>\n",
       "    </tr>\n",
       "    <tr>\n",
       "      <th>254</th>\n",
       "      <td>ff014c34</td>\n",
       "      <td>7bbeac6d</td>\n",
       "      <td>False</td>\n",
       "      <td>legbyes</td>\n",
       "      <td>1</td>\n",
       "    </tr>\n",
       "    <tr>\n",
       "      <th>265</th>\n",
       "      <td>ff014c34</td>\n",
       "      <td>7bbeac6d</td>\n",
       "      <td>True</td>\n",
       "      <td>legbyes</td>\n",
       "      <td>1</td>\n",
       "    </tr>\n",
       "    <tr>\n",
       "      <th>291</th>\n",
       "      <td>ff014c34</td>\n",
       "      <td>7f6c2dae</td>\n",
       "      <td>False</td>\n",
       "      <td>wides</td>\n",
       "      <td>1</td>\n",
       "    </tr>\n",
       "    <tr>\n",
       "      <th>331</th>\n",
       "      <td>9c376401</td>\n",
       "      <td>94a1827c</td>\n",
       "      <td>False</td>\n",
       "      <td>wides</td>\n",
       "      <td>1</td>\n",
       "    </tr>\n",
       "  </tbody>\n",
       "</table>\n",
       "</div>"
      ],
      "text/plain": [
       "       batter    bowler  powerplay extras_type  extras_from_relevant_type\n",
       "251  85d8110a  7bbeac6d       True       wides                          1\n",
       "254  ff014c34  7bbeac6d      False     legbyes                          1\n",
       "265  ff014c34  7bbeac6d       True     legbyes                          1\n",
       "291  ff014c34  7f6c2dae      False       wides                          1\n",
       "331  9c376401  94a1827c      False       wides                          1"
      ]
     },
     "execution_count": 52,
     "metadata": {},
     "output_type": "execute_result"
    }
   ],
   "source": [
    "exploded_extras = balls_with_extras.explode('extras_type')\n",
    "exploded_extras['extras_from_relevant_type'] = exploded_extras.apply(lambda row: row['extras_details'].get(row['extras_type'], 0), axis=1)\n",
    "exploded_extras = exploded_extras.drop(columns=['extras_details', 'wides', 'byes', 'legbyes', 'noballs', 'penalty', 'extras'])\n",
    "exploded_extras.head()"
   ]
  },
  {
   "cell_type": "code",
   "execution_count": 53,
   "metadata": {},
   "outputs": [
    {
     "name": "stdout",
     "output_type": "stream",
     "text": [
      "\n",
      "Powerplay wides model:\n",
      "Cross-Validation Analysis:\n",
      "\n",
      "R² Scores:\n",
      "Training Average: 0.738 ± 0.011\n",
      "CV Average: -0.134 ± 0.041\n",
      "Gap (Train-CV): 0.873\n",
      "CV Consistency: Stable\n",
      "\n",
      "RMSE Scores:\n",
      "Training Average: 0.389 ± 0.010\n",
      "CV Average: 0.809 ± 0.036\n",
      "Gap (CV-Train): 0.420\n",
      "\n",
      "MAPE Scores:\n",
      "Training Average: 0.113 ± 0.003\n",
      "CV Average: 0.261 ± 0.008\n",
      "Gap (CV-Train): 0.148\n",
      "\n",
      "Top 10 Most Important Features:\n",
      "                                      Feature  Importance\n",
      "5    powerplay_runs_from_relevant_extras_mean    0.151957\n",
      "3                    powerplay_is_wicket_mean    0.141328\n",
      "2                        powerplay_total_mean    0.134675\n",
      "7  powerplay_taken_from_relevant_wickets_mean    0.129054\n",
      "0                  powerplay_runs_batter_mean    0.120712\n",
      "6          powerplay_total_runs_conceded_mean    0.112188\n",
      "1             powerplay_high_scoring_hit_mean    0.111279\n",
      "4         powerplay_batter_runs_conceded_mean    0.098807\n",
      "\n",
      "Powerplay byes model:\n",
      "Cross-Validation Analysis:\n",
      "\n",
      "R² Scores:\n",
      "Training Average: 0.849 ± 0.004\n",
      "CV Average: 0.043 ± 0.071\n",
      "Gap (Train-CV): 0.806\n",
      "CV Consistency: Unstable\n",
      "\n",
      "RMSE Scores:\n",
      "Training Average: 0.507 ± 0.007\n",
      "CV Average: 1.276 ± 0.052\n",
      "Gap (CV-Train): 0.769\n",
      "\n",
      "MAPE Scores:\n",
      "Training Average: 0.256 ± 0.006\n",
      "CV Average: 0.667 ± 0.072\n",
      "Gap (CV-Train): 0.411\n",
      "\n",
      "Top 10 Most Important Features:\n",
      "                                      Feature  Importance\n",
      "3                    powerplay_is_wicket_mean    0.146992\n",
      "7  powerplay_taken_from_relevant_wickets_mean    0.139679\n",
      "2                        powerplay_total_mean    0.137553\n",
      "5    powerplay_runs_from_relevant_extras_mean    0.130244\n",
      "1             powerplay_high_scoring_hit_mean    0.113874\n",
      "4         powerplay_batter_runs_conceded_mean    0.112161\n",
      "6          powerplay_total_runs_conceded_mean    0.110718\n",
      "0                  powerplay_runs_batter_mean    0.108779\n",
      "\n",
      "Powerplay legbyes model:\n",
      "Cross-Validation Analysis:\n",
      "\n",
      "R² Scores:\n",
      "Training Average: 0.803 ± 0.007\n",
      "CV Average: -0.162 ± 0.078\n",
      "Gap (Train-CV): 0.965\n",
      "CV Consistency: Unstable\n",
      "\n",
      "RMSE Scores:\n",
      "Training Average: 0.396 ± 0.006\n",
      "CV Average: 0.955 ± 0.039\n",
      "Gap (CV-Train): 0.559\n",
      "\n",
      "MAPE Scores:\n",
      "Training Average: 0.165 ± 0.003\n",
      "CV Average: 0.422 ± 0.025\n",
      "Gap (CV-Train): 0.257\n",
      "\n",
      "Top 10 Most Important Features:\n",
      "                                      Feature  Importance\n",
      "5    powerplay_runs_from_relevant_extras_mean    0.145382\n",
      "7  powerplay_taken_from_relevant_wickets_mean    0.143824\n",
      "3                    powerplay_is_wicket_mean    0.130204\n",
      "4         powerplay_batter_runs_conceded_mean    0.121629\n",
      "2                        powerplay_total_mean    0.121260\n",
      "6          powerplay_total_runs_conceded_mean    0.120313\n",
      "0                  powerplay_runs_batter_mean    0.108831\n",
      "1             powerplay_high_scoring_hit_mean    0.108556\n"
     ]
    }
   ],
   "source": [
    "powerplay_extra_balls = exploded_extras[exploded_extras['powerplay']].drop(columns=['powerplay'])\n",
    "powerplay_extra_balls = powerplay_extra_balls.merge(powerplay_extra_batter_stats, on='batter', how='left').drop(columns=['batter'])\n",
    "powerplay_extra_balls = powerplay_extra_balls.merge(powerplay_extra_bowler_stats, on='bowler', how='left').drop(columns=['bowler'])\n",
    "non_powerplay_extra_balls = exploded_extras[exploded_extras['powerplay'] == False].drop(columns=['powerplay'])\n",
    "non_powerplay_extra_balls = non_powerplay_extra_balls.merge(non_powerplay_extra_batter_stats, on='batter', how='left').drop(columns=['batter'])\n",
    "non_powerplay_extra_balls = non_powerplay_extra_balls.merge(non_powerplay_extra_bowler_stats, on='bowler', how='left').drop(columns=['bowler'])\n",
    "\n",
    "# Wides:\n",
    "print(f\"\\nPowerplay wides model:\")\n",
    "X_powerplay_wides = powerplay_extra_balls[powerplay_extra_balls['extras_type'] == 'wides'].drop(columns=['extras_type', 'extras_from_relevant_type'])\n",
    "y_powerplay_wides = powerplay_extra_balls[powerplay_extra_balls['extras_type'] == 'wides']['extras_from_relevant_type']\n",
    "X_train, X_test, y_train, y_test = train_test_split(X_powerplay_wides, y_powerplay_wides, test_size=0.2, random_state=42)\n",
    "powerplay_wides_model, _, _ = do_random_forest_regressor(X_train, y_train, max_depth=30)\n",
    "\n",
    "# Byes:\n",
    "print(f\"\\nPowerplay byes model:\")\n",
    "X_powerplay_byes = powerplay_extra_balls[powerplay_extra_balls['extras_type'] == 'byes'].drop(columns=['extras_type', 'extras_from_relevant_type'])\n",
    "y_powerplay_byes = powerplay_extra_balls[powerplay_extra_balls['extras_type'] == 'byes']['extras_from_relevant_type']\n",
    "X_train, X_test, y_train, y_test = train_test_split(X_powerplay_byes, y_powerplay_byes, test_size=0.2, random_state=42)\n",
    "powerplay_byes_model, _, _ = do_random_forest_regressor(X_train, y_train, max_depth=30)\n",
    "\n",
    "# Legbyes:\n",
    "print(f\"\\nPowerplay legbyes model:\")\n",
    "X_powerplay_legbyes = powerplay_extra_balls[powerplay_extra_balls['extras_type'] == 'legbyes'].drop(columns=['extras_type', 'extras_from_relevant_type'])\n",
    "y_powerplay_legbyes = powerplay_extra_balls[powerplay_extra_balls['extras_type'] == 'legbyes']['extras_from_relevant_type']\n",
    "X_train, X_test, y_train, y_test = train_test_split(X_powerplay_legbyes, y_powerplay_legbyes, test_size=0.2, random_state=42)\n",
    "powerplay_legbyes_model, _, _ = do_random_forest_regressor(X_train, y_train, max_depth=30)\n",
    "\n",
    "# Noballs and penalties result in a fixed number of extras, so these do not need modeling."
   ]
  },
  {
   "cell_type": "markdown",
   "metadata": {},
   "source": [
    "The results here show that the model is not very good at predicting the number of extras occuring in a ball.\n",
    "\n",
    "This is likely due to a combination of factors:\n",
    "1. The number of extras is almsot always 1, so the model struggles to predict different values.\n",
    "2. The amount of data is fairly limited, so the model is unable to learn well.\n",
    "\n",
    "I do not think that we will be able to predict this with any model so trying would be a waste of time, however there are a few other options.\n",
    "\n",
    "1. Just set the number of extras to 1 for all types - as this is almost always the case it should not lead to significant issues.\n",
    "2. Use a probability distribution to predict the number of extras occuring depending on the type."
   ]
  },
  {
   "cell_type": "code",
   "execution_count": 54,
   "metadata": {},
   "outputs": [
    {
     "name": "stdout",
     "output_type": "stream",
     "text": [
      "Proportion of wides leading to 1 extra: 0.899\n",
      "Proportion of byes leading to 1 extra: 0.620\n",
      "Proportion of legbyes leading to 1 extra: 0.846\n"
     ]
    }
   ],
   "source": [
    "print(f\"Proportion of wides leading to 1 extra: {powerplay_extra_balls[(powerplay_extra_balls['extras_type'] == 'wides') & (powerplay_extra_balls['extras_from_relevant_type'] == 1)].shape[0] / powerplay_extra_balls[powerplay_extra_balls['extras_type'] == 'wides'].shape[0]:.3f}\")\n",
    "print(f\"Proportion of byes leading to 1 extra: {powerplay_extra_balls[(powerplay_extra_balls['extras_type'] == 'byes') & (powerplay_extra_balls['extras_from_relevant_type'] == 1)].shape[0] / powerplay_extra_balls[powerplay_extra_balls['extras_type'] == 'byes'].shape[0]:.3f}\")\n",
    "print(f\"Proportion of legbyes leading to 1 extra: {powerplay_extra_balls[(powerplay_extra_balls['extras_type'] == 'legbyes') & (powerplay_extra_balls['extras_from_relevant_type'] == 1)].shape[0] / powerplay_extra_balls[powerplay_extra_balls['extras_type'] == 'legbyes'].shape[0]:.3f}\")"
   ]
  },
  {
   "cell_type": "markdown",
   "metadata": {},
   "source": [
    "While the proportions for wides and legbyes scoring 1 extra are quite high, there is still a non-negligable chance of more extras occuring. Byes in particular see a significant chance of >1 extra being scored.\n",
    "\n",
    "I think therefore the second option will be better.\n",
    "Since the number of runs that are scored when such extras occur can easily be down to luck rather than skill, fitting a distribution to the data should not be too bad a representation. I think we should still filter by powerplay/non-powerplay here, due to the fact that the less fielders on the field will likely increase the number of extras.\n",
    "\n",
    "For simplicity, I will just use an empirical distribution here."
   ]
  },
  {
   "cell_type": "code",
   "execution_count": 55,
   "metadata": {},
   "outputs": [],
   "source": [
    "powerplay_wides = powerplay_extra_balls[powerplay_extra_balls['extras_type'] == 'wides']['extras_from_relevant_type']\n",
    "powerplay_byes = powerplay_extra_balls[powerplay_extra_balls['extras_type'] == 'byes']['extras_from_relevant_type']\n",
    "powerplay_legbyes = powerplay_extra_balls[powerplay_extra_balls['extras_type'] == 'legbyes']['extras_from_relevant_type']\n",
    "powerplay_wides_probs = get_empirical_distribution(powerplay_wides)\n",
    "powerplay_byes_probs = get_empirical_distribution(powerplay_byes)\n",
    "powerplay_legbyes_probs = get_empirical_distribution(powerplay_legbyes)\n",
    "\n",
    "non_powerplay_wides = non_powerplay_extra_balls[non_powerplay_extra_balls['extras_type'] == 'wides']['extras_from_relevant_type']\n",
    "non_powerplay_byes = non_powerplay_extra_balls[non_powerplay_extra_balls['extras_type'] == 'byes']['extras_from_relevant_type']\n",
    "non_powerplay_legbyes = non_powerplay_extra_balls[non_powerplay_extra_balls['extras_type'] == 'legbyes']['extras_from_relevant_type']\n",
    "non_powerplay_wides_probs = get_empirical_distribution(non_powerplay_wides)\n",
    "non_powerplay_byes_probs = get_empirical_distribution(non_powerplay_byes)\n",
    "non_powerplay_legbyes_probs = get_empirical_distribution(non_powerplay_legbyes)"
   ]
  },
  {
   "cell_type": "code",
   "execution_count": 56,
   "metadata": {},
   "outputs": [],
   "source": [
    "powerplay_wides_probs.to_csv('../models/simulation_dists/powerplay_wides_probs.csv', header=False)\n",
    "powerplay_byes_probs.to_csv('../models/simulation_dists/powerplay_byes_probs.csv', header=False)\n",
    "powerplay_legbyes_probs.to_csv('../models/simulation_dists/powerplay_legbyes_probs.csv', header=False)\n",
    "non_powerplay_wides_probs.to_csv('../models/simulation_dists/non_powerplay_wides_probs.csv', header=False)\n",
    "non_powerplay_byes_probs.to_csv('../models/simulation_dists/non_powerplay_byes_probs.csv', header=False)\n",
    "non_powerplay_legbyes_probs.to_csv('../models/simulation_dists/non_powerplay_legbyes_probs.csv', header=False)"
   ]
  },
  {
   "cell_type": "markdown",
   "metadata": {},
   "source": [
    "# 3. Prediciting the number of runs scored from a ball"
   ]
  },
  {
   "cell_type": "code",
   "execution_count": 57,
   "metadata": {},
   "outputs": [
    {
     "name": "stdout",
     "output_type": "stream",
     "text": [
      "<class 'pandas.core.frame.DataFrame'>\n",
      "Index: 685093 entries, 248 to 857198\n",
      "Data columns (total 30 columns):\n",
      " #   Column                Non-Null Count   Dtype  \n",
      "---  ------                --------------   -----  \n",
      " 0   game_id               685093 non-null  object \n",
      " 1   date                  685093 non-null  object \n",
      " 2   venue                 685093 non-null  object \n",
      " 3   location              653311 non-null  object \n",
      " 4   gender                685093 non-null  object \n",
      " 5   match_type            685093 non-null  object \n",
      " 6   innings               685093 non-null  int64  \n",
      " 7   batting_team          685093 non-null  object \n",
      " 8   bowling_team          685093 non-null  object \n",
      " 9   batting_team_players  685093 non-null  object \n",
      " 10  bowling_team_players  685093 non-null  object \n",
      " 11  over                  685093 non-null  int64  \n",
      " 12  ball_in_over          685093 non-null  int64  \n",
      " 13  batter                685093 non-null  object \n",
      " 14  bowler                685093 non-null  object \n",
      " 15  non_striker           685093 non-null  object \n",
      " 16  runs_batter           685093 non-null  int64  \n",
      " 17  extras                685093 non-null  int64  \n",
      " 18  total                 685093 non-null  int64  \n",
      " 19  is_wicket             685093 non-null  bool   \n",
      " 20  wicket_type           37848 non-null   object \n",
      " 21  fielder               23813 non-null   object \n",
      " 22  player_out            37848 non-null   object \n",
      " 23  target_runs           313891 non-null  float64\n",
      " 24  target_overs          313891 non-null  float64\n",
      " 25  current_runs          685093 non-null  int64  \n",
      " 26  current_wickets       685093 non-null  int64  \n",
      " 27  powerplay             685093 non-null  bool   \n",
      " 28  extras_details        685093 non-null  object \n",
      " 29  freehit               685093 non-null  bool   \n",
      "dtypes: bool(3), float64(2), int64(8), object(17)\n",
      "memory usage: 148.3+ MB\n"
     ]
    }
   ],
   "source": [
    "data.info()"
   ]
  },
  {
   "cell_type": "code",
   "execution_count": 58,
   "metadata": {},
   "outputs": [
    {
     "data": {
      "text/html": [
       "<div>\n",
       "<style scoped>\n",
       "    .dataframe tbody tr th:only-of-type {\n",
       "        vertical-align: middle;\n",
       "    }\n",
       "\n",
       "    .dataframe tbody tr th {\n",
       "        vertical-align: top;\n",
       "    }\n",
       "\n",
       "    .dataframe thead th {\n",
       "        text-align: right;\n",
       "    }\n",
       "</style>\n",
       "<table border=\"1\" class=\"dataframe\">\n",
       "  <thead>\n",
       "    <tr style=\"text-align: right;\">\n",
       "      <th></th>\n",
       "      <th>batter</th>\n",
       "      <th>bowler</th>\n",
       "      <th>powerplay</th>\n",
       "      <th>freehit</th>\n",
       "      <th>runs_batter</th>\n",
       "    </tr>\n",
       "  </thead>\n",
       "  <tbody>\n",
       "    <tr>\n",
       "      <th>248</th>\n",
       "      <td>ff014c34</td>\n",
       "      <td>7bbeac6d</td>\n",
       "      <td>True</td>\n",
       "      <td>False</td>\n",
       "      <td>0</td>\n",
       "    </tr>\n",
       "    <tr>\n",
       "      <th>249</th>\n",
       "      <td>ff014c34</td>\n",
       "      <td>7bbeac6d</td>\n",
       "      <td>True</td>\n",
       "      <td>False</td>\n",
       "      <td>0</td>\n",
       "    </tr>\n",
       "    <tr>\n",
       "      <th>250</th>\n",
       "      <td>ff014c34</td>\n",
       "      <td>7bbeac6d</td>\n",
       "      <td>True</td>\n",
       "      <td>False</td>\n",
       "      <td>1</td>\n",
       "    </tr>\n",
       "    <tr>\n",
       "      <th>251</th>\n",
       "      <td>85d8110a</td>\n",
       "      <td>7bbeac6d</td>\n",
       "      <td>True</td>\n",
       "      <td>False</td>\n",
       "      <td>0</td>\n",
       "    </tr>\n",
       "    <tr>\n",
       "      <th>252</th>\n",
       "      <td>85d8110a</td>\n",
       "      <td>7bbeac6d</td>\n",
       "      <td>True</td>\n",
       "      <td>False</td>\n",
       "      <td>0</td>\n",
       "    </tr>\n",
       "  </tbody>\n",
       "</table>\n",
       "</div>"
      ],
      "text/plain": [
       "       batter    bowler  powerplay  freehit  runs_batter\n",
       "248  ff014c34  7bbeac6d       True    False            0\n",
       "249  ff014c34  7bbeac6d       True    False            0\n",
       "250  ff014c34  7bbeac6d       True    False            1\n",
       "251  85d8110a  7bbeac6d       True    False            0\n",
       "252  85d8110a  7bbeac6d       True    False            0"
      ]
     },
     "execution_count": 58,
     "metadata": {},
     "output_type": "execute_result"
    }
   ],
   "source": [
    "runs_data = data[['batter', 'bowler', 'powerplay', 'freehit', 'runs_batter']]\n",
    "runs_data.head()"
   ]
  },
  {
   "cell_type": "code",
   "execution_count": 59,
   "metadata": {},
   "outputs": [
    {
     "data": {
      "text/plain": [
       "runs_batter\n",
       "0    325148\n",
       "1    227687\n",
       "4     62231\n",
       "2     46995\n",
       "6     19950\n",
       "3      2985\n",
       "5        95\n",
       "7         2\n",
       "Name: count, dtype: int64"
      ]
     },
     "execution_count": 59,
     "metadata": {},
     "output_type": "execute_result"
    }
   ],
   "source": [
    "runs_data['runs_batter'].value_counts()"
   ]
  },
  {
   "cell_type": "markdown",
   "metadata": {},
   "source": [
    "The data here is extremely unbalances, making the job of a predictive model difficult.\n",
    "\n",
    "I think in this situation using an empirical distribution will be the best option. However, I am going to segment the data by powerplay/non-powerplay and then further my considering the skill of the bowler compared to the batter.\n",
    "\n",
    "I will compare their average runs conceded/made per ball to determine skill levels, and segment the data into 3 groups based on this:\n",
    "1. Bowler is better than batter\n",
    "2. Bowler is worse than batter\n",
    "3. Bowler is about the same as batter"
   ]
  },
  {
   "cell_type": "code",
   "execution_count": 60,
   "metadata": {},
   "outputs": [],
   "source": [
    "powerplay_runs_data = runs_data[runs_data['powerplay']].drop(columns=['powerplay'])\n",
    "powerplay_runs_data = powerplay_runs_data.merge(powerplay_batter_stats, on='batter', how='left').drop(columns=['batter'])\n",
    "powerplay_runs_data = powerplay_runs_data.merge(powerplay_bowler_stats, on='bowler', how='left').drop(columns=['bowler'])\n",
    "non_powerplay_runs_data = runs_data[~runs_data['powerplay']].drop(columns=['powerplay'])\n",
    "non_powerplay_runs_data = non_powerplay_runs_data.merge(non_powerplay_batter_stats, on='batter', how='left').drop(columns=['batter'])\n",
    "non_powerplay_runs_data = non_powerplay_runs_data.merge(non_powerplay_bowler_stats, on='bowler', how='left').drop(columns=['bowler'])"
   ]
  },
  {
   "cell_type": "code",
   "execution_count": 61,
   "metadata": {},
   "outputs": [],
   "source": [
    "powerplay_runs_data = powerplay_runs_data[['runs_batter', 'powerplay_runs_batter_mean', 'powerplay_batter_runs_conceded_mean', 'freehit']]\n",
    "non_powerplay_runs_data = non_powerplay_runs_data[['runs_batter', 'non_powerplay_runs_batter_mean', 'non_powerplay_batter_runs_conceded_mean', 'freehit']]"
   ]
  },
  {
   "cell_type": "code",
   "execution_count": 62,
   "metadata": {},
   "outputs": [],
   "source": [
    "powerplay_runs_data['batter_better'] = powerplay_runs_data['powerplay_runs_batter_mean'] >= powerplay_runs_data['powerplay_batter_runs_conceded_mean'] * 1.2\n",
    "powerplay_runs_data['bowler_better'] = powerplay_runs_data['powerplay_batter_runs_conceded_mean'] >= powerplay_runs_data['powerplay_runs_batter_mean'] * 1.2\n",
    "powerplay_runs_data['both_equal'] = ~(powerplay_runs_data['batter_better'] | powerplay_runs_data['bowler_better'])\n",
    "\n",
    "non_powerplay_runs_data['batter_better'] = non_powerplay_runs_data['non_powerplay_runs_batter_mean'] >= non_powerplay_runs_data['non_powerplay_batter_runs_conceded_mean'] * 1.2\n",
    "non_powerplay_runs_data['bowler_better'] = non_powerplay_runs_data['non_powerplay_batter_runs_conceded_mean'] >= non_powerplay_runs_data['non_powerplay_runs_batter_mean'] * 1.2\n",
    "non_powerplay_runs_data['both_equal'] = ~(non_powerplay_runs_data['batter_better'] | non_powerplay_runs_data['bowler_better'])"
   ]
  },
  {
   "cell_type": "code",
   "execution_count": 63,
   "metadata": {},
   "outputs": [],
   "source": [
    "freehit_powerplay_runs_data = powerplay_runs_data[powerplay_runs_data['freehit']]\n",
    "non_freehit_powerplay_runs_data = powerplay_runs_data[~powerplay_runs_data['freehit']]\n",
    "\n",
    "freehit_non_powerplay_runs_data = non_powerplay_runs_data[non_powerplay_runs_data['freehit']]\n",
    "non_freehit_non_powerplay_runs_data = non_powerplay_runs_data[~non_powerplay_runs_data['freehit']]"
   ]
  },
  {
   "cell_type": "code",
   "execution_count": 64,
   "metadata": {},
   "outputs": [],
   "source": [
    "freehit_powerplay_better_batter_runs_dist = get_empirical_distribution(freehit_powerplay_runs_data[freehit_powerplay_runs_data['batter_better']]['runs_batter'])\n",
    "freehit_powerplay_better_bowler_runs_dist = get_empirical_distribution(freehit_powerplay_runs_data[freehit_powerplay_runs_data['bowler_better']]['runs_batter'])\n",
    "freehit_powerplay_same_runs_dist = get_empirical_distribution(freehit_powerplay_runs_data[freehit_powerplay_runs_data['both_equal']]['runs_batter'])\n",
    "\n",
    "non_freehit_powerplay_better_batter_runs_dist = get_empirical_distribution(non_freehit_powerplay_runs_data[non_freehit_powerplay_runs_data['batter_better']]['runs_batter'])\n",
    "non_freehit_powerplay_better_bowler_runs_dist = get_empirical_distribution(non_freehit_powerplay_runs_data[non_freehit_powerplay_runs_data['bowler_better']]['runs_batter'])\n",
    "non_freehit_powerplay_same_runs_dist = get_empirical_distribution(non_freehit_powerplay_runs_data[non_freehit_powerplay_runs_data['both_equal']]['runs_batter'])\n",
    "\n",
    "freehit_non_powerplay_better_batter_runs_dist = get_empirical_distribution(freehit_non_powerplay_runs_data[freehit_non_powerplay_runs_data['batter_better']]['runs_batter'])\n",
    "freehit_non_powerplay_better_bowler_runs_dist = get_empirical_distribution(freehit_non_powerplay_runs_data[freehit_non_powerplay_runs_data['bowler_better']]['runs_batter'])\n",
    "freehit_non_powerplay_same_runs_dist = get_empirical_distribution(freehit_non_powerplay_runs_data[freehit_non_powerplay_runs_data['both_equal']]['runs_batter'])\n",
    "\n",
    "non_freehit_non_powerplay_better_batter_runs_dist = get_empirical_distribution(non_freehit_non_powerplay_runs_data[non_freehit_non_powerplay_runs_data['batter_better']]['runs_batter'])\n",
    "non_freehit_non_powerplay_better_bowler_runs_dist = get_empirical_distribution(non_freehit_non_powerplay_runs_data[non_freehit_non_powerplay_runs_data['bowler_better']]['runs_batter'])\n",
    "non_freehit_non_powerplay_same_runs_dist = get_empirical_distribution(non_freehit_non_powerplay_runs_data[non_freehit_non_powerplay_runs_data['both_equal']]['runs_batter'])"
   ]
  },
  {
   "cell_type": "code",
   "execution_count": 65,
   "metadata": {},
   "outputs": [],
   "source": [
    "freehit_powerplay_better_batter_runs_dist.to_csv('../models/simulation_dists/freehit_powerplay_better_batter_runs_dist.csv', header=False)\n",
    "freehit_powerplay_better_bowler_runs_dist.to_csv('../models/simulation_dists/freehit_powerplay_better_bowler_runs_dist.csv', header=False)\n",
    "freehit_powerplay_same_runs_dist.to_csv('../models/simulation_dists/freehit_powerplay_same_runs_dist.csv', header=False)\n",
    "non_freehit_powerplay_better_batter_runs_dist.to_csv('../models/simulation_dists/non_freehit_powerplay_better_batter_runs_dist.csv', header=False)\n",
    "non_freehit_powerplay_better_bowler_runs_dist.to_csv('../models/simulation_dists/non_freehit_powerplay_better_bowler_runs_dist.csv', header=False)\n",
    "non_freehit_powerplay_same_runs_dist.to_csv('../models/simulation_dists/non_freehit_powerplay_same_runs_dist.csv', header=False)\n",
    "freehit_non_powerplay_better_batter_runs_dist.to_csv('../models/simulation_dists/freehit_non_powerplay_better_batter_runs_dist.csv', header=False)\n",
    "freehit_non_powerplay_better_bowler_runs_dist.to_csv('../models/simulation_dists/freehit_non_powerplay_better_bowler_runs_dist.csv', header=False)\n",
    "freehit_non_powerplay_same_runs_dist.to_csv('../models/simulation_dists/freehit_non_powerplay_same_runs_dist.csv', header=False)\n",
    "non_freehit_non_powerplay_better_batter_runs_dist.to_csv('../models/simulation_dists/non_freehit_non_powerplay_better_batter_runs_dist.csv', header=False)\n",
    "non_freehit_non_powerplay_better_bowler_runs_dist.to_csv('../models/simulation_dists/non_freehit_non_powerplay_better_bowler_runs_dist.csv', header=False)\n",
    "non_freehit_non_powerplay_same_runs_dist.to_csv('../models/simulation_dists/non_freehit_non_powerplay_same_runs_dist.csv', header=False)"
   ]
  },
  {
   "cell_type": "markdown",
   "metadata": {},
   "source": [
    "Perfect, we now have distibutions of batter runs scored for each comparitive skill level skill level, during the powerplay and not, and when freehits are occuring or not."
   ]
  },
  {
   "cell_type": "markdown",
   "metadata": {},
   "source": [
    "# Current progress:\n",
    "\n",
    "## We have:\n",
    "1. A model to predict the probability of a wicket occuring in a ball\n",
    "2. A few models/distributions to predict extras:\n",
    "    a. Whether any extras occur\n",
    "    b. If so, what extras occur\n",
    "    c. If extras occur, how many extra runs are awarded\n",
    "3. A set of distributions to predict the number of runs scored by the batter in a ball presuming no wicket occurs.\n",
    "\n",
    "## Next steps:\n",
    "Create a simulation of a cricket game.\n",
    "\n",
    "## Expectations:\n",
    "While I am not expecting this to get results that are better than the individual models, I am hoping that they may be somewhat comparable. I suspect that increased innacuracy will come from the increased complexity of the simulation vs using a single model, given that for every ball results from several models will be used in run calculations.\n",
    "\n",
    "I am going to set targets of:\n",
    "1. Runs: R^2 > 0.2, MAPE < 60%\n",
    "2. Wickets: R^2 > 0.2, RMSE < 4\n",
    "(I have used RMSE for the Wickets due to the 0 values that will cause issues with MAPE.)\n",
    "\n",
    "With the above targets representing a model that is half as good as my original baseline using a linear regression model for the final results of a game. \n",
    "If I can improve upon said baseline then I will be incredibly suprised, but these targets represent a good initial goal for the simulation.\n"
   ]
  },
  {
   "cell_type": "code",
   "execution_count": 13,
   "metadata": {},
   "outputs": [],
   "source": [
    "data = pd.read_csv('../data/saved_data/simulation_test_data.csv')\n",
    "batter_stats = pd.read_csv('../data/saved_data/batter_stats.csv')\n",
    "bowler_stats = pd.read_csv('../data/saved_data/bowler_stats.csv')\n"
   ]
  },
  {
   "cell_type": "code",
   "execution_count": 14,
   "metadata": {},
   "outputs": [
    {
     "data": {
      "text/plain": [
       "(np.int64(258), np.int64(5))"
      ]
     },
     "execution_count": 14,
     "metadata": {},
     "output_type": "execute_result"
    }
   ],
   "source": [
    "test_game = data[(data['game_id'] == data.iloc[0]['game_id']) & (data['innings'] == 1)]\n",
    "\n",
    "batting_team_players = eval(test_game.iloc[0]['batting_team_players'])\n",
    "bowling_team_players = eval(test_game.iloc[0]['bowling_team_players'])\n",
    "\n",
    "batting_team_df = batter_stats[batter_stats['batter'].isin(batting_team_players)].set_index('batter')\n",
    "bowling_team_df = bowler_stats[bowler_stats['bowler'].isin(bowling_team_players)].set_index('bowler')\n",
    "\n",
    "final_runs = test_game.iloc[-1]['current_runs']\n",
    "final_wickets = test_game.iloc[-1]['current_wickets']\n",
    "final_runs, final_wickets"
   ]
  },
  {
   "cell_type": "code",
   "execution_count": 15,
   "metadata": {},
   "outputs": [
    {
     "name": "stdout",
     "output_type": "stream",
     "text": [
      "The autoreload extension is already loaded. To reload it, use:\n",
      "  %reload_ext autoreload\n"
     ]
    }
   ],
   "source": [
    "%load_ext autoreload\n",
    "%autoreload 2\n",
    "\n",
    "sys.path.append('..')\n",
    "from simulation.cricket_simulation import CricketSimulator"
   ]
  },
  {
   "cell_type": "code",
   "execution_count": 16,
   "metadata": {},
   "outputs": [
    {
     "name": "stdout",
     "output_type": "stream",
     "text": [
      "KeyError: 'a97c8ec2'\n",
      "Over: 7, Ball: 1\n",
      "Error in game 0021ca69-72b5-4080-9e2e-f7cd9e558b47, innings 1:\n",
      "Error simulating ball: DataFrame indexer is not allowed for .iloc\n",
      "Consider using .loc for automatic alignment.\n",
      "Over: 8, Ball: 4\n",
      "Error in game 0021ca69-72b5-4080-9e2e-f7cd9e558b47, innings 2:\n",
      "Error simulating ball: DataFrame indexer is not allowed for .iloc\n",
      "Consider using .loc for automatic alignment.\n",
      "Over: 9, Ball: 1\n",
      "Error in game 002795ac-3340-4ccf-9763-865ab0fb8268, innings 1:\n",
      "Error simulating ball: DataFrame indexer is not allowed for .iloc\n",
      "Consider using .loc for automatic alignment.\n",
      "Over: 10, Ball: 6\n",
      "Error in game 002795ac-3340-4ccf-9763-865ab0fb8268, innings 2:\n",
      "KeyError: '9ccb6e52'\n",
      "Over: 12, Ball: 1\n",
      "Error in game 004eb807-a976-4f8b-a19f-348251347bb8, innings 1:\n",
      "KeyError: 'fbdc5ab1'\n",
      "Over: 14, Ball: 6\n",
      "Error in game 004eb807-a976-4f8b-a19f-348251347bb8, innings 2:\n",
      "KeyError: '31d220f5'\n",
      "Over: 15, Ball: 6\n",
      "Error in game 016c1fa4-1e4b-425a-b0ee-9ff9ffa8592f, innings 1:\n",
      "Error simulating ball: DataFrame indexer is not allowed for .iloc\n",
      "Consider using .loc for automatic alignment.\n",
      "Over: 17, Ball: 3\n",
      "Error in game 016c1fa4-1e4b-425a-b0ee-9ff9ffa8592f, innings 2:\n",
      "Error simulating ball: DataFrame indexer is not allowed for .iloc\n",
      "Consider using .loc for automatic alignment.\n",
      "Over: 19, Ball: 2\n",
      "Error in game 017b7a5c-39ef-47ca-8969-7b8cca3ebf21, innings 1:\n",
      "Error simulating ball: DataFrame indexer is not allowed for .iloc\n",
      "Consider using .loc for automatic alignment.\n",
      "Over: 20, Ball: 4\n",
      "Error in game 017b7a5c-39ef-47ca-8969-7b8cca3ebf21, innings 2:\n"
     ]
    }
   ],
   "source": [
    "def evaluate_simulation(data, batters_df, bowlers_df):\n",
    "    data_by_games_innings = data.groupby(['game_id', 'innings'])\n",
    "\n",
    "    game_results = {}\n",
    "    simulator = CricketSimulator()\n",
    "    errors = []\n",
    "\n",
    "    for (game_id, innings), game_data in data_by_games_innings:\n",
    "        try:\n",
    "            batting_team_players = eval(game_data.iloc[0]['batting_team_players'])\n",
    "            bowling_team_players = eval(game_data.iloc[0]['bowling_team_players'])\n",
    "\n",
    "            batting_team_df = batters_df[batters_df['batter'].isin(batting_team_players)].set_index('batter')\n",
    "            bowling_team_df = bowlers_df[bowlers_df['bowler'].isin(bowling_team_players)].set_index('bowler')\n",
    "\n",
    "            simulator.init_teams(batting_team_df, bowling_team_df)\n",
    "            result = simulator.run_simulation()\n",
    "            \n",
    "            game_results[game_id] = {\n",
    "                'runs_actual': game_data.iloc[-1]['current_runs'],\n",
    "                'runs_predicted': result['runs'],\n",
    "                'wickets_actual': game_data.iloc[-1]['current_wickets'],\n",
    "                'wickets_predicted': result['wickets'],\n",
    "                'key_events': result['key_events']\n",
    "            }\n",
    "        except Exception as e:\n",
    "            print(f\"Error in game {game_id}, innings {innings}:\")\n",
    "            errors.append((game_id, innings, str(e), traceback.format_exc()))\n",
    "            continue\n",
    "        \n",
    "    return game_results, errors\n",
    "\n",
    "game_results, errors = evaluate_simulation(data, batter_stats, bowler_stats)"
   ]
  },
  {
   "cell_type": "code",
   "execution_count": 17,
   "metadata": {},
   "outputs": [
    {
     "name": "stdout",
     "output_type": "stream",
     "text": [
      "R^2 Runs: -0.539, RMSE Runs: 51.538, MAPE Runs: 0.438, MAE Runs: 42.264\n",
      "R^2 Wickets: -0.086, RMSE Wickets: 3.285, MAPE Wickets: 836212132403010.375, MAE Wickets: 2.849\n"
     ]
    },
    {
     "name": "stderr",
     "output_type": "stream",
     "text": [
      "/Users/eden/Library/Caches/pypoetry/virtualenvs/coding-task-BR_zkfTV-py3.12/lib/python3.12/site-packages/sklearn/metrics/_regression.py:492: FutureWarning: 'squared' is deprecated in version 1.4 and will be removed in 1.6. To calculate the root mean squared error, use the function'root_mean_squared_error'.\n",
      "  warnings.warn(\n",
      "/Users/eden/Library/Caches/pypoetry/virtualenvs/coding-task-BR_zkfTV-py3.12/lib/python3.12/site-packages/sklearn/metrics/_regression.py:492: FutureWarning: 'squared' is deprecated in version 1.4 and will be removed in 1.6. To calculate the root mean squared error, use the function'root_mean_squared_error'.\n",
      "  warnings.warn(\n"
     ]
    }
   ],
   "source": [
    "runs_real, runs_predicted, wickets_real, wickets_predicted = [], [], [], []\n",
    "for game_id, result in game_results.items():\n",
    "    runs_real.append(result['runs_actual'])\n",
    "    runs_predicted.append(result['runs_predicted'])\n",
    "    wickets_real.append(result['wickets_actual'])\n",
    "    wickets_predicted.append(result['wickets_predicted'])\n",
    "\n",
    "print(f\"R^2 Runs: {r2_score(runs_real, runs_predicted):.3f}, RMSE Runs: {mean_squared_error(runs_real, runs_predicted, squared=False):.3f}, MAPE Runs: {mean_absolute_percentage_error(runs_real, runs_predicted):.3f}, MAE Runs: {mean_absolute_error(runs_real, runs_predicted):.3f}\")\n",
    "print(f\"R^2 Wickets: {r2_score(wickets_real, wickets_predicted):.3f}, RMSE Wickets: {mean_squared_error(wickets_real, wickets_predicted, squared=False):.3f}, MAPE Wickets: {mean_absolute_percentage_error(wickets_real, wickets_predicted):.3f}, MAE Wickets: {mean_absolute_error(wickets_real, wickets_predicted):.3f}\")"
   ]
  },
  {
   "cell_type": "markdown",
   "metadata": {},
   "source": [
    "## Results\n",
    "\n",
    "The end results of the simulation are mixed. Overall, it performed better than I expected. Compared to the targets set however, results are more mixed.\n",
    "\n",
    "The final R^2 Scores for Runs and Wickets are -0.539 and -0.086 respectively. These fall significantly short of the targets set (each >0.2), and their negative values indicate that the models are performing worse than simply predicting the mean of the data. The increased complexity likely leads to the model fitting poorly, even if the RMSE and MAPE average out to better values.\n",
    "\n",
    "The RMSE and MAPE values do improve over the set targets, being 51.5, 0.438 for runs and 3.285 for the wicket RMSE. While they are not particularly close to the original baseline, they do exceed the target by a non-negligable amount.\n",
    "\n",
    "Overall, while the simulation in its current form does not perform particularly well, the results are reasonable enough that it is plausible that with further tuning, it could come close to, or possibly even outperform the baseline and other models.\n",
    "The advantage of a simulation in this form, is that it can be tuned more precisely than a model just predicting the final results of a game, due to the individual parameters that can be adjusted. With more time to refine the simulation and tune parameters and models, I suspect that it's results could improve significantly."
   ]
  }
 ],
 "metadata": {
  "kernelspec": {
   "display_name": "coding-task-BR_zkfTV-py3.12",
   "language": "python",
   "name": "python3"
  },
  "language_info": {
   "codemirror_mode": {
    "name": "ipython",
    "version": 3
   },
   "file_extension": ".py",
   "mimetype": "text/x-python",
   "name": "python",
   "nbconvert_exporter": "python",
   "pygments_lexer": "ipython3",
   "version": "3.12.5"
  }
 },
 "nbformat": 4,
 "nbformat_minor": 2
}
